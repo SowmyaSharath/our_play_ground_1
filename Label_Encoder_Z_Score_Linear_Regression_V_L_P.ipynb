{
 "cells": [
  {
   "cell_type": "code",
   "execution_count": 2,
   "metadata": {},
   "outputs": [
    {
     "name": "stdout",
     "output_type": "stream",
     "text": [
      "(78458, 11)\n"
     ]
    }
   ],
   "source": [
    "import pandas as pd\n",
    "\n",
    "\n",
    "# In[83]:\n",
    "df = pd.read_csv('Data_Train.csv')\n",
    "df.head(10)\n",
    "print(df.shape)"
   ]
  },
  {
   "cell_type": "code",
   "execution_count": 3,
   "metadata": {},
   "outputs": [
    {
     "name": "stdout",
     "output_type": "stream",
     "text": [
      "(77170, 11)\n",
      "   Unique_ID              Name     Genre Country  \\\n",
      "0     413890         Hardstyle  danceedm      AU   \n",
      "1     249453        Dj Aladdin  danceedm      AU   \n",
      "2     681116  Maxximize On Air  danceedm      AU   \n",
      "3     387253       GR6 EXPLODE    rbsoul      AU   \n",
      "4    1428029          Tritonal  danceedm      AU   \n",
      "\n",
      "                                           Song_Name  \\\n",
      "0  N-Vitral presents BOMBSQUAD - Poison Spitter (...   \n",
      "1          Dj Aladdin - Old School Hip Hop Quick Mix   \n",
      "2  Maxximize On Air - Mixed by Blasterjaxx - Epis...   \n",
      "3                MC Yago - Tenho Compromisso (DJ R7)   \n",
      "4                         Escape (feat. Steph Jones)   \n",
      "\n",
      "                    Timestamp   Views  Comments   Likes  Popularity  Followers  \n",
      "0  2018-03-30 15:24:45.000000   14017         4   499.0        97.0     119563  \n",
      "1  2016-06-20 05:58:52.000000    1918        17    49.0        17.0       2141  \n",
      "2  2015-05-08 17:45:59.000000    9668        11   312.0        91.0      22248  \n",
      "3  2017-06-08 23:50:03.000000  113036         2  2400.0        76.0     393655  \n",
      "4  2016-09-17 20:50:19.000000  110024        81  3031.0       699.0     201030  \n"
     ]
    }
   ],
   "source": [
    "\n",
    "#Replace K, M, B\n",
    "def value_to_float(x):\n",
    "    if type(x) == float or type(x) == int:\n",
    "        return x\n",
    "    if 'K' in x:\n",
    "        if len(x) > 1:\n",
    "            return float(x.replace('K', '')) * 1000\n",
    "        return 1000.0\n",
    "    if 'M' in x:\n",
    "        if len(x) > 1:\n",
    "            return float(x.replace('M', '')) * 1000000\n",
    "        return 1000000.0\n",
    "    if 'B' in x:\n",
    "        return float(x.replace('B', '')) * 1000000000\n",
    "    if ',' in x:\n",
    "        return float(x.replace(',', '')) \n",
    "    return float(x)\n",
    "\n",
    "df.Likes = df.Likes.apply(value_to_float)\n",
    "df.Popularity = df.Popularity.apply(value_to_float)\n",
    "df.to_csv('Data_Train_Transformed_1.csv')\n",
    "df = df[df['Views'] > df[\"Likes\"]]\n",
    "print(df.shape)\n",
    "print(df.head())"
   ]
  },
  {
   "cell_type": "code",
   "execution_count": 4,
   "metadata": {},
   "outputs": [
    {
     "data": {
      "text/plain": [
       "Unique_ID     0\n",
       "Name          0\n",
       "Genre         0\n",
       "Country       0\n",
       "Song_Name     1\n",
       "Timestamp     0\n",
       "Views         0\n",
       "Comments      0\n",
       "Likes         0\n",
       "Popularity    0\n",
       "Followers     0\n",
       "dtype: int64"
      ]
     },
     "execution_count": 4,
     "metadata": {},
     "output_type": "execute_result"
    }
   ],
   "source": [
    "df.dropna()\n",
    "df.isnull().sum()"
   ]
  },
  {
   "cell_type": "code",
   "execution_count": 5,
   "metadata": {},
   "outputs": [
    {
     "data": {
      "text/plain": [
       "(72921, 11)"
      ]
     },
     "execution_count": 5,
     "metadata": {},
     "output_type": "execute_result"
    }
   ],
   "source": [
    "from scipy import stats\n",
    "import numpy as np\n",
    "df['like_z_score'] = np.abs(stats.zscore(df['Likes']))\n",
    "df= df[df['like_z_score']<3]\n",
    "df['pop_z_score'] = np.abs(stats.zscore(df['Popularity']))\n",
    "df= df[df['pop_z_score']<3]\n",
    "df['comment_z_score'] = np.abs(stats.zscore(df['Comments']))\n",
    "df= df[df['comment_z_score']<3]\n",
    "df['views_z_score'] = np.abs(stats.zscore(df['Views']))\n",
    "df= df[df['views_z_score']<3]\n",
    "df.drop(['like_z_score','pop_z_score','comment_z_score','views_z_score'],inplace = True, axis = 1)\n",
    "df.shape"
   ]
  },
  {
   "cell_type": "code",
   "execution_count": 6,
   "metadata": {},
   "outputs": [
    {
     "data": {
      "text/html": [
       "<div>\n",
       "<style scoped>\n",
       "    .dataframe tbody tr th:only-of-type {\n",
       "        vertical-align: middle;\n",
       "    }\n",
       "\n",
       "    .dataframe tbody tr th {\n",
       "        vertical-align: top;\n",
       "    }\n",
       "\n",
       "    .dataframe thead th {\n",
       "        text-align: right;\n",
       "    }\n",
       "</style>\n",
       "<table border=\"1\" class=\"dataframe\">\n",
       "  <thead>\n",
       "    <tr style=\"text-align: right;\">\n",
       "      <th></th>\n",
       "      <th>Name</th>\n",
       "      <th>Genre</th>\n",
       "      <th>Views</th>\n",
       "      <th>Likes</th>\n",
       "      <th>Popularity</th>\n",
       "    </tr>\n",
       "  </thead>\n",
       "  <tbody>\n",
       "    <tr>\n",
       "      <th>0</th>\n",
       "      <td>Hardstyle</td>\n",
       "      <td>danceedm</td>\n",
       "      <td>14017</td>\n",
       "      <td>499.0</td>\n",
       "      <td>97.0</td>\n",
       "    </tr>\n",
       "    <tr>\n",
       "      <th>1</th>\n",
       "      <td>Dj Aladdin</td>\n",
       "      <td>danceedm</td>\n",
       "      <td>1918</td>\n",
       "      <td>49.0</td>\n",
       "      <td>17.0</td>\n",
       "    </tr>\n",
       "    <tr>\n",
       "      <th>2</th>\n",
       "      <td>Maxximize On Air</td>\n",
       "      <td>danceedm</td>\n",
       "      <td>9668</td>\n",
       "      <td>312.0</td>\n",
       "      <td>91.0</td>\n",
       "    </tr>\n",
       "    <tr>\n",
       "      <th>3</th>\n",
       "      <td>GR6 EXPLODE</td>\n",
       "      <td>rbsoul</td>\n",
       "      <td>113036</td>\n",
       "      <td>2400.0</td>\n",
       "      <td>76.0</td>\n",
       "    </tr>\n",
       "    <tr>\n",
       "      <th>4</th>\n",
       "      <td>Tritonal</td>\n",
       "      <td>danceedm</td>\n",
       "      <td>110024</td>\n",
       "      <td>3031.0</td>\n",
       "      <td>699.0</td>\n",
       "    </tr>\n",
       "  </tbody>\n",
       "</table>\n",
       "</div>"
      ],
      "text/plain": [
       "               Name     Genre   Views   Likes  Popularity\n",
       "0         Hardstyle  danceedm   14017   499.0        97.0\n",
       "1        Dj Aladdin  danceedm    1918    49.0        17.0\n",
       "2  Maxximize On Air  danceedm    9668   312.0        91.0\n",
       "3       GR6 EXPLODE    rbsoul  113036  2400.0        76.0\n",
       "4          Tritonal  danceedm  110024  3031.0       699.0"
      ]
     },
     "execution_count": 6,
     "metadata": {},
     "output_type": "execute_result"
    }
   ],
   "source": [
    "#Correlation matrix\n",
    "df.drop(['Unique_ID','Country','Timestamp','Song_Name','Comments','Followers'],inplace = True, axis = 1)\n",
    "df.head()\n"
   ]
  },
  {
   "cell_type": "code",
   "execution_count": 7,
   "metadata": {},
   "outputs": [
    {
     "data": {
      "text/html": [
       "<div>\n",
       "<style scoped>\n",
       "    .dataframe tbody tr th:only-of-type {\n",
       "        vertical-align: middle;\n",
       "    }\n",
       "\n",
       "    .dataframe tbody tr th {\n",
       "        vertical-align: top;\n",
       "    }\n",
       "\n",
       "    .dataframe thead th {\n",
       "        text-align: right;\n",
       "    }\n",
       "</style>\n",
       "<table border=\"1\" class=\"dataframe\">\n",
       "  <thead>\n",
       "    <tr style=\"text-align: right;\">\n",
       "      <th></th>\n",
       "      <th>Name</th>\n",
       "      <th>Genre</th>\n",
       "      <th>Views</th>\n",
       "      <th>Likes</th>\n",
       "      <th>Popularity</th>\n",
       "    </tr>\n",
       "  </thead>\n",
       "  <tbody>\n",
       "    <tr>\n",
       "      <th>0</th>\n",
       "      <td>393</td>\n",
       "      <td>5</td>\n",
       "      <td>14017</td>\n",
       "      <td>499.0</td>\n",
       "      <td>97.0</td>\n",
       "    </tr>\n",
       "    <tr>\n",
       "      <th>1</th>\n",
       "      <td>263</td>\n",
       "      <td>5</td>\n",
       "      <td>1918</td>\n",
       "      <td>49.0</td>\n",
       "      <td>17.0</td>\n",
       "    </tr>\n",
       "    <tr>\n",
       "      <th>2</th>\n",
       "      <td>623</td>\n",
       "      <td>5</td>\n",
       "      <td>9668</td>\n",
       "      <td>312.0</td>\n",
       "      <td>91.0</td>\n",
       "    </tr>\n",
       "    <tr>\n",
       "      <th>3</th>\n",
       "      <td>357</td>\n",
       "      <td>17</td>\n",
       "      <td>113036</td>\n",
       "      <td>2400.0</td>\n",
       "      <td>76.0</td>\n",
       "    </tr>\n",
       "    <tr>\n",
       "      <th>4</th>\n",
       "      <td>959</td>\n",
       "      <td>5</td>\n",
       "      <td>110024</td>\n",
       "      <td>3031.0</td>\n",
       "      <td>699.0</td>\n",
       "    </tr>\n",
       "  </tbody>\n",
       "</table>\n",
       "</div>"
      ],
      "text/plain": [
       "   Name  Genre   Views   Likes  Popularity\n",
       "0   393      5   14017   499.0        97.0\n",
       "1   263      5    1918    49.0        17.0\n",
       "2   623      5    9668   312.0        91.0\n",
       "3   357     17  113036  2400.0        76.0\n",
       "4   959      5  110024  3031.0       699.0"
      ]
     },
     "execution_count": 7,
     "metadata": {},
     "output_type": "execute_result"
    }
   ],
   "source": [
    "from sklearn.preprocessing import LabelEncoder,OneHotEncoder\n",
    "# Converting Genre and Name to labelencoding\n",
    "labelencoder = LabelEncoder()\n",
    "df['Genre'] = labelencoder.fit_transform(df['Genre'])\n",
    "df['Name'] = labelencoder.fit_transform(df['Name'])\n",
    "df.head()\n"
   ]
  },
  {
   "cell_type": "code",
   "execution_count": 8,
   "metadata": {},
   "outputs": [
    {
     "name": "stdout",
     "output_type": "stream",
     "text": [
      "          0         1         2         3\n",
      "0 -0.635535 -0.666259 -0.385961 -0.345047\n",
      "1 -1.032859 -0.666259 -0.470010 -0.450770\n",
      "2  0.067421 -0.666259 -0.420888 -0.352976\n",
      "3 -0.745563  1.367669 -0.030900 -0.372799\n",
      "4  1.094349 -0.666259  0.086955  0.450516\n"
     ]
    },
    {
     "name": "stderr",
     "output_type": "stream",
     "text": [
      "D:\\Applns\\Anaconda3\\lib\\site-packages\\sklearn\\preprocessing\\data.py:625: DataConversionWarning: Data with input dtype int32, float64 were all converted to float64 by StandardScaler.\n",
      "  return self.partial_fit(X, y)\n",
      "D:\\Applns\\Anaconda3\\lib\\site-packages\\sklearn\\base.py:462: DataConversionWarning: Data with input dtype int32, float64 were all converted to float64 by StandardScaler.\n",
      "  return self.fit(X, **fit_params).transform(X)\n"
     ]
    }
   ],
   "source": [
    "#Standard scaling\n",
    "from sklearn.preprocessing import StandardScaler\n",
    "sc_x = StandardScaler()\n",
    "features = [x for x in df.columns if x not in ['Views']]\n",
    "df_scaled = sc_x.fit_transform(df[features])\n",
    "df_scaled = pd.DataFrame(df_scaled)\n",
    "print(df_scaled.head())"
   ]
  },
  {
   "cell_type": "code",
   "execution_count": 9,
   "metadata": {},
   "outputs": [
    {
     "data": {
      "text/plain": [
       "<matplotlib.axes._subplots.AxesSubplot at 0x2c0fe590860>"
      ]
     },
     "execution_count": 9,
     "metadata": {},
     "output_type": "execute_result"
    }
   ],
   "source": [
    "y = df['Views']\n",
    "y.plot.hist()"
   ]
  },
  {
   "cell_type": "code",
   "execution_count": 10,
   "metadata": {},
   "outputs": [],
   "source": [
    "from sklearn.model_selection import train_test_split\n",
    "#print(df_scaled)\n",
    "# split data into train and test sets\n",
    "X_train, X_test, y_train, y_test = train_test_split(df_scaled, y, test_size=.2, random_state=205)"
   ]
  },
  {
   "cell_type": "code",
   "execution_count": 11,
   "metadata": {},
   "outputs": [
    {
     "name": "stdout",
     "output_type": "stream",
     "text": [
      "RMSE - Linear regression:  120480.18368808237\n"
     ]
    }
   ],
   "source": [
    "# #XGB Boost regression\n",
    "# import xgboost as xgb\n",
    "# from sklearn import metrics\n",
    "# xlf = xgb.XGBRegressor()\n",
    "# xlf.fit(X_train, y_train, eval_metric='rmse', verbose = True, eval_set = [(X_test, y_test)])\n",
    "# # calculate the auc score\n",
    "# y_pred = xlf.predict(X_test)\n",
    "# #RMSE - Test\n",
    "# print(\"XGBoost - Linear regression: \", np.sqrt(metrics.mean_squared_error(y_test,y_pred)))\n",
    "\n",
    "#Implementing Linear Regression\n",
    "from sklearn.linear_model import LinearRegression\n",
    "from sklearn import metrics\n",
    "\n",
    "linear = LinearRegression()\n",
    "linear.fit(X_train, y_train)\n",
    "y_pred = linear.predict(X_test)\n",
    "print(\"RMSE - Linear regression: \", np.sqrt(metrics.mean_squared_error(y_test,y_pred)))\n",
    "\n"
   ]
  },
  {
   "cell_type": "code",
   "execution_count": 12,
   "metadata": {},
   "outputs": [
    {
     "name": "stdout",
     "output_type": "stream",
     "text": [
      "(19615, 10)\n"
     ]
    }
   ],
   "source": [
    "import pandas as pd\n",
    "# In[83]:\n",
    "test_df = pd.read_csv('D:\\Hackathon\\MachineHack - Music\\Data_Test.csv')\n",
    "test_df.head(10)\n",
    "print(test_df.shape)"
   ]
  },
  {
   "cell_type": "code",
   "execution_count": 13,
   "metadata": {},
   "outputs": [],
   "source": [
    "#Replace K, M, B\n",
    "def value_to_float(x):\n",
    "    if type(x) == float or type(x) == int:\n",
    "        return x\n",
    "    if 'K' in x:\n",
    "        if len(x) > 1:\n",
    "            return float(x.replace('K', '')) * 1000\n",
    "        return 1000.0\n",
    "    if 'M' in x:\n",
    "        if len(x) > 1:\n",
    "            return float(x.replace('M', '')) * 1000000\n",
    "        return 1000000.0\n",
    "    if 'B' in x:\n",
    "        return float(x.replace('B', '')) * 1000000000\n",
    "    if ',' in x:\n",
    "        return float(x.replace(',', '')) \n",
    "    return float(x)\n",
    "\n",
    "test_df.Likes = test_df.Likes.apply(value_to_float)\n",
    "test_df.Popularity = test_df.Popularity.apply(value_to_float)"
   ]
  },
  {
   "cell_type": "code",
   "execution_count": 14,
   "metadata": {},
   "outputs": [
    {
     "data": {
      "text/html": [
       "<div>\n",
       "<style scoped>\n",
       "    .dataframe tbody tr th:only-of-type {\n",
       "        vertical-align: middle;\n",
       "    }\n",
       "\n",
       "    .dataframe tbody tr th {\n",
       "        vertical-align: top;\n",
       "    }\n",
       "\n",
       "    .dataframe thead th {\n",
       "        text-align: right;\n",
       "    }\n",
       "</style>\n",
       "<table border=\"1\" class=\"dataframe\">\n",
       "  <thead>\n",
       "    <tr style=\"text-align: right;\">\n",
       "      <th></th>\n",
       "      <th>Name</th>\n",
       "      <th>Genre</th>\n",
       "      <th>Likes</th>\n",
       "      <th>Popularity</th>\n",
       "    </tr>\n",
       "  </thead>\n",
       "  <tbody>\n",
       "    <tr>\n",
       "      <th>0</th>\n",
       "      <td>L2Share♫79</td>\n",
       "      <td>all-music</td>\n",
       "      <td>5428.0</td>\n",
       "      <td>118.0</td>\n",
       "    </tr>\n",
       "    <tr>\n",
       "      <th>1</th>\n",
       "      <td>Morgan Page</td>\n",
       "      <td>danceedm</td>\n",
       "      <td>738.0</td>\n",
       "      <td>195.0</td>\n",
       "    </tr>\n",
       "    <tr>\n",
       "      <th>2</th>\n",
       "      <td>Dirty Workz</td>\n",
       "      <td>danceedm</td>\n",
       "      <td>386.0</td>\n",
       "      <td>96.0</td>\n",
       "    </tr>\n",
       "    <tr>\n",
       "      <th>3</th>\n",
       "      <td>Gucci Mane</td>\n",
       "      <td>all-music</td>\n",
       "      <td>388.0</td>\n",
       "      <td>19.0</td>\n",
       "    </tr>\n",
       "    <tr>\n",
       "      <th>4</th>\n",
       "      <td>Angga Kecap</td>\n",
       "      <td>rock</td>\n",
       "      <td>79.0</td>\n",
       "      <td>1.0</td>\n",
       "    </tr>\n",
       "  </tbody>\n",
       "</table>\n",
       "</div>"
      ],
      "text/plain": [
       "          Name      Genre   Likes  Popularity\n",
       "0   L2Share♫79  all-music  5428.0       118.0\n",
       "1  Morgan Page   danceedm   738.0       195.0\n",
       "2  Dirty Workz   danceedm   386.0        96.0\n",
       "3   Gucci Mane  all-music   388.0        19.0\n",
       "4  Angga Kecap       rock    79.0         1.0"
      ]
     },
     "execution_count": 14,
     "metadata": {},
     "output_type": "execute_result"
    }
   ],
   "source": [
    "#Correlation matrix\n",
    "test_df.drop(['Unique_ID','Country','Timestamp','Song_Name','Comments','Followers'],inplace = True, axis = 1)\n",
    "test_df.head()\n"
   ]
  },
  {
   "cell_type": "code",
   "execution_count": 15,
   "metadata": {},
   "outputs": [
    {
     "data": {
      "text/html": [
       "<div>\n",
       "<style scoped>\n",
       "    .dataframe tbody tr th:only-of-type {\n",
       "        vertical-align: middle;\n",
       "    }\n",
       "\n",
       "    .dataframe tbody tr th {\n",
       "        vertical-align: top;\n",
       "    }\n",
       "\n",
       "    .dataframe thead th {\n",
       "        text-align: right;\n",
       "    }\n",
       "</style>\n",
       "<table border=\"1\" class=\"dataframe\">\n",
       "  <thead>\n",
       "    <tr style=\"text-align: right;\">\n",
       "      <th></th>\n",
       "      <th>Name</th>\n",
       "      <th>Genre</th>\n",
       "      <th>Likes</th>\n",
       "      <th>Popularity</th>\n",
       "    </tr>\n",
       "  </thead>\n",
       "  <tbody>\n",
       "    <tr>\n",
       "      <th>0</th>\n",
       "      <td>487</td>\n",
       "      <td>0</td>\n",
       "      <td>5428.0</td>\n",
       "      <td>118.0</td>\n",
       "    </tr>\n",
       "    <tr>\n",
       "      <th>1</th>\n",
       "      <td>604</td>\n",
       "      <td>5</td>\n",
       "      <td>738.0</td>\n",
       "      <td>195.0</td>\n",
       "    </tr>\n",
       "    <tr>\n",
       "      <th>2</th>\n",
       "      <td>235</td>\n",
       "      <td>5</td>\n",
       "      <td>386.0</td>\n",
       "      <td>96.0</td>\n",
       "    </tr>\n",
       "    <tr>\n",
       "      <th>3</th>\n",
       "      <td>350</td>\n",
       "      <td>0</td>\n",
       "      <td>388.0</td>\n",
       "      <td>19.0</td>\n",
       "    </tr>\n",
       "    <tr>\n",
       "      <th>4</th>\n",
       "      <td>53</td>\n",
       "      <td>19</td>\n",
       "      <td>79.0</td>\n",
       "      <td>1.0</td>\n",
       "    </tr>\n",
       "  </tbody>\n",
       "</table>\n",
       "</div>"
      ],
      "text/plain": [
       "   Name  Genre   Likes  Popularity\n",
       "0   487      0  5428.0       118.0\n",
       "1   604      5   738.0       195.0\n",
       "2   235      5   386.0        96.0\n",
       "3   350      0   388.0        19.0\n",
       "4    53     19    79.0         1.0"
      ]
     },
     "execution_count": 15,
     "metadata": {},
     "output_type": "execute_result"
    }
   ],
   "source": [
    "from sklearn.preprocessing import LabelEncoder,OneHotEncoder\n",
    "# Converting Genre and Name to labelencoding\n",
    "labelencoder = LabelEncoder()\n",
    "test_df['Genre'] = labelencoder.fit_transform(test_df['Genre'])\n",
    "test_df['Name'] = labelencoder.fit_transform(test_df['Name'])\n",
    "test_df.head()\n"
   ]
  },
  {
   "cell_type": "code",
   "execution_count": 16,
   "metadata": {},
   "outputs": [
    {
     "name": "stdout",
     "output_type": "stream",
     "text": [
      "          0         1         2         3\n",
      "0 -0.238577 -1.472236 -0.068006 -0.166740\n",
      "1  0.139991 -0.629021 -0.158250 -0.151475\n",
      "2 -1.053953 -0.629021 -0.165023 -0.171102\n",
      "3 -0.681857 -1.472236 -0.164984 -0.186368\n",
      "4 -1.642837  1.731980 -0.170930 -0.189936\n"
     ]
    },
    {
     "name": "stderr",
     "output_type": "stream",
     "text": [
      "D:\\Applns\\Anaconda3\\lib\\site-packages\\sklearn\\preprocessing\\data.py:625: DataConversionWarning: Data with input dtype int32, float64 were all converted to float64 by StandardScaler.\n",
      "  return self.partial_fit(X, y)\n",
      "D:\\Applns\\Anaconda3\\lib\\site-packages\\sklearn\\base.py:462: DataConversionWarning: Data with input dtype int32, float64 were all converted to float64 by StandardScaler.\n",
      "  return self.fit(X, **fit_params).transform(X)\n"
     ]
    }
   ],
   "source": [
    "#Standard scaling\n",
    "from sklearn.preprocessing import StandardScaler\n",
    "sc_x = StandardScaler()\n",
    "features = [x for x in test_df.columns if x not in ['Views']]\n",
    "test_df_scaled = sc_x.fit_transform(test_df[features])\n",
    "test_df_scaled = pd.DataFrame(test_df_scaled)\n",
    "print(test_df_scaled.head())"
   ]
  },
  {
   "cell_type": "code",
   "execution_count": 18,
   "metadata": {},
   "outputs": [],
   "source": [
    "# calculate the auc score\n",
    "y_pred_1 = linear.predict(test_df_scaled)\n",
    "y_pred_1 = pd.DataFrame(y_pred_1)\n",
    "y_pred_1.to_csv('Data_Test_Predicted_Label_Encoder_Z_Score_Linear_Regression_V_L_P.csv',sep='#')"
   ]
  },
  {
   "cell_type": "code",
   "execution_count": null,
   "metadata": {},
   "outputs": [],
   "source": []
  }
 ],
 "metadata": {
  "kernelspec": {
   "display_name": "Python 3",
   "language": "python",
   "name": "python3"
  },
  "language_info": {
   "codemirror_mode": {
    "name": "ipython",
    "version": 3
   },
   "file_extension": ".py",
   "mimetype": "text/x-python",
   "name": "python",
   "nbconvert_exporter": "python",
   "pygments_lexer": "ipython3",
   "version": "3.7.0"
  }
 },
 "nbformat": 4,
 "nbformat_minor": 2
}
