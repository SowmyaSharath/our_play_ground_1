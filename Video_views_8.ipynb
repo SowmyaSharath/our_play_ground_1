{
 "cells": [
  {
   "cell_type": "code",
   "execution_count": 309,
   "metadata": {
    "scrolled": true
   },
   "outputs": [
    {
     "name": "stdout",
     "output_type": "stream",
     "text": [
      "(78458, 11)\n"
     ]
    }
   ],
   "source": [
    "import pandas as pd\n",
    "\n",
    "\n",
    "# In[83]:\n",
    "df = pd.read_csv('Data_Train.csv')\n",
    "df.head(10)\n",
    "print(df.shape)\n"
   ]
  },
  {
   "cell_type": "code",
   "execution_count": 310,
   "metadata": {},
   "outputs": [],
   "source": [
    "\n",
    "#Replace K, M, B\n",
    "def value_to_float(x):\n",
    "    if type(x) == float or type(x) == int:\n",
    "        return x\n",
    "    if 'K' in x:\n",
    "        if len(x) > 1:\n",
    "            return float(x.replace('K', '')) * 1000\n",
    "        return 1000.0\n",
    "    if 'M' in x:\n",
    "        if len(x) > 1:\n",
    "            return float(x.replace('M', '')) * 1000000\n",
    "        return 1000000.0\n",
    "    if 'B' in x:\n",
    "        return float(x.replace('B', '')) * 1000000000\n",
    "    if ',' in x:\n",
    "        return float(x.replace(',', '')) \n",
    "    return float(x)\n",
    "\n",
    "df.Likes = df.Likes.apply(value_to_float)\n",
    "df.Popularity = df.Popularity.apply(value_to_float)\n",
    "df.to_csv('Data_Train_Transformed_1.csv')\n",
    "#df = df[df['Views'] > df[\"Likes\"]]\n",
    "# print(df.shape)\n",
    "# print(df.head())"
   ]
  },
  {
   "cell_type": "code",
   "execution_count": 311,
   "metadata": {},
   "outputs": [],
   "source": [
    "# df_mean = df.groupby('Name').mean()\n",
    "# df_mean.to_csv('Test_2.csv')"
   ]
  },
  {
   "cell_type": "code",
   "execution_count": 312,
   "metadata": {},
   "outputs": [],
   "source": [
    "#Labels\n",
    "import numpy as np\n",
    "bins = [-1,0,10,20,30,40,50,60,70,80,90,100,125,150,175,200,300,400,500,600,650,700,750,800,900,950,1000,1500,2000,3000,4000,5000,6000,7000,8000,9000,10000,15000,17500,20000,22500,\n",
    "        25000,30000,35000,45000,50000,55000,60000,65000,70000,75000,80000,85000,90000,95000,100000,120000,140000,160000,\n",
    "        180000,200000,240000,300000,360000,np.inf]\n",
    "names = [1,2,3,4,5,6,7,8,9,10,11,12,13,14,15,16,17,18,19,20,21,22,23,24,25,26,27,28,29,30,31,32,33,34,35,36,37,\n",
    "         38,39,40,41,42,43,44,45,46,47,48,49,50,51,52,53,54,55,56,57,58,59,60,61,62,63,64]\n",
    "\n",
    "df['Name_Label'] = pd.cut(df['Likes'], bins, labels=names)"
   ]
  },
  {
   "cell_type": "code",
   "execution_count": 313,
   "metadata": {},
   "outputs": [],
   "source": [
    "df.to_csv('Test_3.csv')"
   ]
  },
  {
   "cell_type": "code",
   "execution_count": 314,
   "metadata": {},
   "outputs": [],
   "source": [
    "#Labels\n",
    "df['Genre_Label'] = df['Genre'].map({'drumbass':1, 'deephouse':2,'metal':3, 'rock':4, 'electronic':5,\n",
    "                                     'latin':6, 'dubstep':7, 'danceedm':8, 'trap':9, 'country':10,\n",
    "                                     'pop':11, 'disco':12, 'classical':13, 'ambient':14, 'folksingersongwriter':15,\n",
    "                                     'rbsoul':16, 'alternativerock':17, 'reggaeton':18, 'indie':19, 'hiphoprap':20,'all-music':21})"
   ]
  },
  {
   "cell_type": "code",
   "execution_count": 315,
   "metadata": {},
   "outputs": [
    {
     "data": {
      "text/plain": [
       "27    5711\n",
       "29    4776\n",
       "2     4653\n",
       "16    4536\n",
       "28    3800\n",
       "17    3686\n",
       "18    3200\n",
       "30    3050\n",
       "19    2674\n",
       "3     2484\n",
       "37    2237\n",
       "31    2001\n",
       "1     1891\n",
       "4     1825\n",
       "24    1722\n",
       "12    1654\n",
       "32    1591\n",
       "13    1531\n",
       "14    1405\n",
       "5     1351\n",
       "15    1306\n",
       "20    1187\n",
       "33    1179\n",
       "6     1151\n",
       "21    1064\n",
       "22    1003\n",
       "7      970\n",
       "8      950\n",
       "34     939\n",
       "23     932\n",
       "      ... \n",
       "11     764\n",
       "36     759\n",
       "38     722\n",
       "26     690\n",
       "44     638\n",
       "39     575\n",
       "42     555\n",
       "43     438\n",
       "40     426\n",
       "41     385\n",
       "64     270\n",
       "45     264\n",
       "56     242\n",
       "46     198\n",
       "47     178\n",
       "57     172\n",
       "48     169\n",
       "49     139\n",
       "51     125\n",
       "58     121\n",
       "50     115\n",
       "61     111\n",
       "62     111\n",
       "59     101\n",
       "60      94\n",
       "55      85\n",
       "52      85\n",
       "63      83\n",
       "53      80\n",
       "54      62\n",
       "Name: Name_Label, Length: 64, dtype: int64"
      ]
     },
     "execution_count": 315,
     "metadata": {},
     "output_type": "execute_result"
    }
   ],
   "source": [
    "#Get counts by Name_label bins\n",
    "df['Name_Label'].value_counts()\n",
    "# df['Genre_Label'].value_counts()"
   ]
  },
  {
   "cell_type": "code",
   "execution_count": 316,
   "metadata": {},
   "outputs": [],
   "source": [
    "df['Name_Label'] = df['Name_Label'].astype('int64')\n",
    "# df.isnull().sum()\n",
    "# df.describe()\n",
    "#df.dtypes\n",
    "# # print(df.head()"
   ]
  },
  {
   "cell_type": "code",
   "execution_count": 317,
   "metadata": {
    "scrolled": false
   },
   "outputs": [
    {
     "name": "stdout",
     "output_type": "stream",
     "text": [
      "                         Unique_ID         Views    Comments         Likes  \\\n",
      "Genre                                                                        \n",
      "all-music             7.993705e+05  2.451156e+06  294.354578  36251.202004   \n",
      "alternativerock       7.715628e+05  8.545917e+05  190.173077  11453.076923   \n",
      "ambient               1.104049e+06  3.985286e+05   87.917355   6400.989374   \n",
      "classical             9.667382e+05  3.931904e+05   91.676662   7339.490222   \n",
      "country               5.000266e+05  2.945058e+05  124.800595   5161.773810   \n",
      "danceedm              7.098378e+05  2.667007e+05  114.792029   4879.496664   \n",
      "deephouse             1.160870e+06  6.264949e+04   66.227404   1641.210070   \n",
      "disco                 3.550900e+05  3.681520e+05   86.232620   6274.732620   \n",
      "drumbass              5.862023e+05  3.712738e+04   67.277198   1334.828614   \n",
      "dubstep               6.637812e+05  2.407431e+05  167.078182   5850.751818   \n",
      "electronic            7.345176e+05  1.736503e+05   99.013965   3669.657138   \n",
      "folksingersongwriter  1.023424e+06  4.753422e+05   31.128205   7962.538462   \n",
      "hiphoprap             6.424885e+05  2.145161e+06  326.570000  40382.960000   \n",
      "indie                 1.343443e+05  1.657772e+06  144.181818  34810.000000   \n",
      "latin                 5.118652e+05  2.364045e+05    8.054143   2884.579790   \n",
      "metal                 1.211889e+06  1.288263e+05   15.038241   1443.252390   \n",
      "pop                   9.723342e+05  3.608129e+05   74.887521   6362.388360   \n",
      "rbsoul                4.540684e+05  6.094165e+05   50.946590  10138.321752   \n",
      "reggaeton             4.255708e+05  1.149190e+06   27.763636  14180.727273   \n",
      "rock                  8.817366e+05  1.325153e+05   23.740250   1790.887500   \n",
      "trap                  9.533099e+05  2.763905e+05   94.119605   5131.852528   \n",
      "\n",
      "                       Popularity     Followers  Name_Label  Genre_Label  \n",
      "Genre                                                                     \n",
      "all-music             2483.473484  9.590876e+05   30.700302         21.0  \n",
      "alternativerock        931.769231  1.935528e+05   20.583333         17.0  \n",
      "ambient                955.501771  2.334866e+05   15.826446         14.0  \n",
      "classical             1141.687093  6.705102e+05   31.414602         13.0  \n",
      "country                712.821429  1.100058e+06   19.681548         10.0  \n",
      "danceedm               832.585207  6.588785e+05   21.889056          8.0  \n",
      "deephouse              307.310359  9.857645e+04   20.239785          2.0  \n",
      "disco                 1306.254011  5.688260e+05   18.243316         12.0  \n",
      "drumbass               224.774963  5.063995e+04   24.706408          1.0  \n",
      "dubstep               1098.828182  1.413230e+05   28.180000          7.0  \n",
      "electronic             660.408979  3.440219e+05   20.707599          5.0  \n",
      "folksingersongwriter   455.307692  5.625203e+04   15.564103         15.0  \n",
      "hiphoprap             5034.680000  2.282266e+05   37.170000         20.0  \n",
      "indie                 4087.909091  9.573300e+04   41.818182         19.0  \n",
      "latin                   91.821350  8.206697e+03   12.808417          6.0  \n",
      "metal                   91.977055  5.068780e+05   14.487572          3.0  \n",
      "pop                    654.205372  4.632068e+05   13.670957         11.0  \n",
      "rbsoul                 898.053410  2.086810e+05   25.430420         16.0  \n",
      "reggaeton              393.418182  7.825273e+03   27.890909         18.0  \n",
      "rock                   118.103750  4.390827e+05    9.816500          4.0  \n",
      "trap                   876.796301  1.708184e+05   17.370654          9.0  \n"
     ]
    }
   ],
   "source": [
    "# Distribution of features by Genre\n",
    "df_mean = df.groupby('Genre').mean()\n",
    "print(df_mean)"
   ]
  },
  {
   "cell_type": "code",
   "execution_count": 318,
   "metadata": {
    "scrolled": false
   },
   "outputs": [],
   "source": [
    "# #Histogram Plotting each variable\n",
    "# #Plotting Likes or comments or popularity\n",
    "# import matplotlib.pyplot as plt\n",
    "# import seaborn as sns\n",
    "# plt.hist(df['Likes'])\n",
    "# plt.ylabel('No of times')\n",
    "# plt.show()\n",
    "\n",
    "# #Plotting Comments\n",
    "# plt.hist(df['Comments'])\n",
    "# plt.ylabel('No of times')\n",
    "# plt.show()\n",
    "\n",
    "# #Plotting Popularity\n",
    "# plt.hist(df['Popularity'])\n",
    "# plt.ylabel('No of times')\n",
    "# plt.show()\n",
    "\n",
    "# #Plotting Views\n",
    "# plt.hist(df['Views'])\n",
    "# plt.ylabel('No of times')\n",
    "# plt.show()"
   ]
  },
  {
   "cell_type": "code",
   "execution_count": 319,
   "metadata": {},
   "outputs": [],
   "source": [
    "# # Scatter Plot\n",
    "# fig, ax = plt.subplots(figsize=(16,8))\n",
    "# ax.scatter(df['Unique_ID'], df['Popularity'])\n",
    "# ax.set_xlabel('Unique Id')\n",
    "# ax.set_ylabel('Popularity')\n",
    "\n",
    "# fig, ax = plt.subplots(figsize=(16,8))\n",
    "# ax.scatter(df['Unique_ID'], df['Views'])\n",
    "# ax.set_xlabel('Unique Id')\n",
    "# ax.set_ylabel('Views')\n",
    "\n",
    "# fig, ax = plt.subplots(figsize=(16,8))\n",
    "# ax.scatter(df['Unique_ID'], df['Likes'])\n",
    "# ax.set_xlabel('Unique Id')\n",
    "# ax.set_ylabel('Likes')"
   ]
  },
  {
   "cell_type": "code",
   "execution_count": 320,
   "metadata": {},
   "outputs": [
    {
     "name": "stdout",
     "output_type": "stream",
     "text": [
      "   Unique_ID              Name     Genre Country  \\\n",
      "0     413890         Hardstyle  danceedm      AU   \n",
      "1     249453        Dj Aladdin  danceedm      AU   \n",
      "2     681116  Maxximize On Air  danceedm      AU   \n",
      "3     387253       GR6 EXPLODE    rbsoul      AU   \n",
      "4    1428029          Tritonal  danceedm      AU   \n",
      "\n",
      "                                           Song_Name  \\\n",
      "0  N-Vitral presents BOMBSQUAD - Poison Spitter (...   \n",
      "1          Dj Aladdin - Old School Hip Hop Quick Mix   \n",
      "2  Maxximize On Air - Mixed by Blasterjaxx - Epis...   \n",
      "3                MC Yago - Tenho Compromisso (DJ R7)   \n",
      "4                         Escape (feat. Steph Jones)   \n",
      "\n",
      "                    Timestamp   Views  Comments   Likes  Popularity  \\\n",
      "0  2018-03-30 15:24:45.000000   14017         4   499.0        97.0   \n",
      "1  2016-06-20 05:58:52.000000    1918        17    49.0        17.0   \n",
      "2  2015-05-08 17:45:59.000000    9668        11   312.0        91.0   \n",
      "3  2017-06-08 23:50:03.000000  113036         2  2400.0        76.0   \n",
      "4  2016-09-17 20:50:19.000000  110024        81  3031.0       699.0   \n",
      "\n",
      "   Followers  Name_Label  Genre_Label  \n",
      "0     119563          18            8  \n",
      "1       2141           6            8  \n",
      "2      22248          17            8  \n",
      "3     393655          29           16  \n",
      "4     201030          30            8  \n"
     ]
    },
    {
     "data": {
      "text/html": [
       "<div>\n",
       "<style scoped>\n",
       "    .dataframe tbody tr th:only-of-type {\n",
       "        vertical-align: middle;\n",
       "    }\n",
       "\n",
       "    .dataframe tbody tr th {\n",
       "        vertical-align: top;\n",
       "    }\n",
       "\n",
       "    .dataframe thead th {\n",
       "        text-align: right;\n",
       "    }\n",
       "</style>\n",
       "<table border=\"1\" class=\"dataframe\">\n",
       "  <thead>\n",
       "    <tr style=\"text-align: right;\">\n",
       "      <th></th>\n",
       "      <th>Views</th>\n",
       "      <th>Likes</th>\n",
       "      <th>Popularity</th>\n",
       "      <th>Name_Label</th>\n",
       "      <th>Genre_Label</th>\n",
       "    </tr>\n",
       "  </thead>\n",
       "  <tbody>\n",
       "    <tr>\n",
       "      <th>0</th>\n",
       "      <td>14017</td>\n",
       "      <td>499.0</td>\n",
       "      <td>97.0</td>\n",
       "      <td>18</td>\n",
       "      <td>8</td>\n",
       "    </tr>\n",
       "    <tr>\n",
       "      <th>1</th>\n",
       "      <td>1918</td>\n",
       "      <td>49.0</td>\n",
       "      <td>17.0</td>\n",
       "      <td>6</td>\n",
       "      <td>8</td>\n",
       "    </tr>\n",
       "    <tr>\n",
       "      <th>2</th>\n",
       "      <td>9668</td>\n",
       "      <td>312.0</td>\n",
       "      <td>91.0</td>\n",
       "      <td>17</td>\n",
       "      <td>8</td>\n",
       "    </tr>\n",
       "    <tr>\n",
       "      <th>3</th>\n",
       "      <td>113036</td>\n",
       "      <td>2400.0</td>\n",
       "      <td>76.0</td>\n",
       "      <td>29</td>\n",
       "      <td>16</td>\n",
       "    </tr>\n",
       "    <tr>\n",
       "      <th>4</th>\n",
       "      <td>110024</td>\n",
       "      <td>3031.0</td>\n",
       "      <td>699.0</td>\n",
       "      <td>30</td>\n",
       "      <td>8</td>\n",
       "    </tr>\n",
       "  </tbody>\n",
       "</table>\n",
       "</div>"
      ],
      "text/plain": [
       "    Views   Likes  Popularity  Name_Label  Genre_Label\n",
       "0   14017   499.0        97.0          18            8\n",
       "1    1918    49.0        17.0           6            8\n",
       "2    9668   312.0        91.0          17            8\n",
       "3  113036  2400.0        76.0          29           16\n",
       "4  110024  3031.0       699.0          30            8"
      ]
     },
     "execution_count": 320,
     "metadata": {},
     "output_type": "execute_result"
    }
   ],
   "source": [
    "#Correlation matrix\n",
    "print(df.head())\n",
    "df.drop(['Unique_ID','Name','Genre','Country','Timestamp','Song_Name','Comments','Followers'],inplace = True, axis = 1)\n",
    "df.head()\n"
   ]
  },
  {
   "cell_type": "code",
   "execution_count": 321,
   "metadata": {
    "scrolled": true
   },
   "outputs": [],
   "source": [
    "# from sklearn.preprocessing import LabelEncoder,OneHotEncoder\n",
    "# # Converting Genre and Name to labelencoding\n",
    "# labelencoder = LabelEncoder()\n",
    "# df['Genre'] = labelencoder.fit_transform(df['Genre'])\n",
    "# # df['Name_Label'] = labelencoder.fit_transform(df['Name_Label'])\n",
    "# df.head()\n"
   ]
  },
  {
   "cell_type": "code",
   "execution_count": 322,
   "metadata": {},
   "outputs": [],
   "source": [
    "df.to_csv('Test_1.csv')"
   ]
  },
  {
   "cell_type": "code",
   "execution_count": 323,
   "metadata": {},
   "outputs": [
    {
     "data": {
      "text/plain": [
       "<matplotlib.axes._subplots.AxesSubplot at 0x1820f14f048>"
      ]
     },
     "execution_count": 323,
     "metadata": {},
     "output_type": "execute_result"
    },
    {
     "data": {
      "image/png": "[encoded data removed]",
      "text/plain": [
       "<Figure size 432x288 with 1 Axes>"
      ]
     },
     "metadata": {
      "needs_background": "light"
     },
     "output_type": "display_data"
    }
   ],
   "source": [
    "y = df['Views']\n",
    "df.drop('Views', inplace=True,axis=1)\n",
    "y.plot.hist()"
   ]
  },
  {
   "cell_type": "code",
   "execution_count": 324,
   "metadata": {
    "scrolled": true
   },
   "outputs": [
    {
     "name": "stdout",
     "output_type": "stream",
     "text": [
      "      Likes  Popularity  Name_Label  Genre_Label\n",
      "0 -0.157700   -0.171261   -0.272258    -0.222982\n",
      "1 -0.166227   -0.187892   -1.210858    -0.222982\n",
      "2 -0.161243   -0.172509   -0.350475    -0.222982\n",
      "3 -0.121678   -0.175627    0.588125     1.207041\n",
      "4 -0.109722   -0.046114    0.666342    -0.222982\n"
     ]
    },
    {
     "name": "stderr",
     "output_type": "stream",
     "text": [
      "D:\\Applns\\Anaconda3\\lib\\site-packages\\sklearn\\preprocessing\\data.py:625: DataConversionWarning: Data with input dtype int64, float64 were all converted to float64 by StandardScaler.\n",
      "  return self.partial_fit(X, y)\n",
      "D:\\Applns\\Anaconda3\\lib\\site-packages\\sklearn\\base.py:462: DataConversionWarning: Data with input dtype int64, float64 were all converted to float64 by StandardScaler.\n",
      "  return self.fit(X, **fit_params).transform(X)\n"
     ]
    }
   ],
   "source": [
    "#Standard scaling\n",
    "from sklearn.preprocessing import StandardScaler\n",
    "from sklearn.compose import ColumnTransformer\n",
    "sc_x = StandardScaler()\n",
    "ct = ColumnTransformer([\n",
    "         ('somename', StandardScaler(), ['Likes','Popularity','Name_Label','Genre_Label'])\n",
    "       ], remainder='passthrough')\n",
    "df = ct.fit_transform(df)\n",
    "df = pd.DataFrame(df,columns=['Likes','Popularity','Name_Label','Genre_Label'])\n",
    "print(df.head())"
   ]
  },
  {
   "cell_type": "code",
   "execution_count": 325,
   "metadata": {},
   "outputs": [],
   "source": [
    "# #Removing outliers using IQR\n",
    "# Q1 = df.quantile(0.25,numeric_only=True)\n",
    "# Q3 = df.quantile(0.75,numeric_only=True)\n",
    "# IQR = Q3 - Q1\n",
    "# #df = df[~((df[\"Likes\"] < (Q1 - 1.5 * IQR)) |(df[\"Likes\"] > (Q3 + 1.5 * IQR)))]\n",
    "# df= df[~((df < (Q1 - 1.5 * IQR)) |(df > (Q3 + 1.5 * IQR))).any(axis=1)]\n",
    "# print(df.shape)\n",
    "# df.head()"
   ]
  },
  {
   "cell_type": "code",
   "execution_count": 326,
   "metadata": {},
   "outputs": [
    {
     "data": {
      "text/plain": [
       "Likes          0\n",
       "Popularity     0\n",
       "Name_Label     0\n",
       "Genre_Label    0\n",
       "dtype: int64"
      ]
     },
     "execution_count": 326,
     "metadata": {},
     "output_type": "execute_result"
    }
   ],
   "source": [
    "df.isnull().sum()\n"
   ]
  },
  {
   "cell_type": "code",
   "execution_count": 327,
   "metadata": {},
   "outputs": [
    {
     "data": {
      "text/plain": [
       "<matplotlib.axes._subplots.AxesSubplot at 0x1820f35b278>"
      ]
     },
     "execution_count": 327,
     "metadata": {},
     "output_type": "execute_result"
    },
    {
     "data": {
      "image/png": "[encoded data removed]",
      "text/plain": [
       "<Figure size 432x288 with 1 Axes>"
      ]
     },
     "metadata": {
      "needs_background": "light"
     },
     "output_type": "display_data"
    }
   ],
   "source": [
    "df.describe()\n",
    "df.plot.hist()"
   ]
  },
  {
   "cell_type": "code",
   "execution_count": 328,
   "metadata": {
    "scrolled": false
   },
   "outputs": [],
   "source": [
    "from sklearn.model_selection import train_test_split\n",
    "#print(df_scaled)\n",
    "# split data into train and test sets\n",
    "X_train, X_test, y_train, y_test = train_test_split(df, y, test_size=.2, random_state=205)"
   ]
  },
  {
   "cell_type": "code",
   "execution_count": 329,
   "metadata": {
    "scrolled": true
   },
   "outputs": [
    {
     "name": "stdout",
     "output_type": "stream",
     "text": [
      "[18:36:43] WARNING: src/objective/regression_obj.cu:152: reg:linear is now deprecated in favor of reg:squarederror.\n",
      "[0]\tvalidation_0-rmse:3.49945e+06\n",
      "[1]\tvalidation_0-rmse:3.18791e+06\n",
      "[2]\tvalidation_0-rmse:2.9255e+06\n",
      "[3]\tvalidation_0-rmse:2.67708e+06\n",
      "[4]\tvalidation_0-rmse:2.44818e+06\n",
      "[5]\tvalidation_0-rmse:2.25436e+06\n"
     ]
    },
    {
     "name": "stderr",
     "output_type": "stream",
     "text": [
      "D:\\Applns\\Anaconda3\\lib\\site-packages\\xgboost\\core.py:587: FutureWarning: Series.base is deprecated and will be removed in a future version\n",
      "  if getattr(data, 'base', None) is not None and \\\n"
     ]
    },
    {
     "name": "stdout",
     "output_type": "stream",
     "text": [
      "[6]\tvalidation_0-rmse:2.0808e+06\n",
      "[7]\tvalidation_0-rmse:1.92377e+06\n",
      "[8]\tvalidation_0-rmse:1.78549e+06\n",
      "[9]\tvalidation_0-rmse:1.66981e+06\n",
      "[10]\tvalidation_0-rmse:1.56861e+06\n",
      "[11]\tvalidation_0-rmse:1.48069e+06\n",
      "[12]\tvalidation_0-rmse:1.39755e+06\n",
      "[13]\tvalidation_0-rmse:1.32158e+06\n",
      "[14]\tvalidation_0-rmse:1.2613e+06\n",
      "[15]\tvalidation_0-rmse:1.20429e+06\n",
      "[16]\tvalidation_0-rmse:1.15446e+06\n",
      "[17]\tvalidation_0-rmse:1.11115e+06\n",
      "[18]\tvalidation_0-rmse:1.0745e+06\n",
      "[19]\tvalidation_0-rmse:1.04565e+06\n",
      "[20]\tvalidation_0-rmse:1.01897e+06\n",
      "[21]\tvalidation_0-rmse:995150\n",
      "[22]\tvalidation_0-rmse:975655\n",
      "[23]\tvalidation_0-rmse:957899\n",
      "[24]\tvalidation_0-rmse:945843\n",
      "[25]\tvalidation_0-rmse:933935\n",
      "[26]\tvalidation_0-rmse:924796\n",
      "[27]\tvalidation_0-rmse:917646\n",
      "[28]\tvalidation_0-rmse:909890\n",
      "[29]\tvalidation_0-rmse:903442\n",
      "[30]\tvalidation_0-rmse:897232\n",
      "[31]\tvalidation_0-rmse:892111\n",
      "[32]\tvalidation_0-rmse:888845\n",
      "[33]\tvalidation_0-rmse:885711\n",
      "[34]\tvalidation_0-rmse:882817\n",
      "[35]\tvalidation_0-rmse:880985\n",
      "[36]\tvalidation_0-rmse:879755\n",
      "[37]\tvalidation_0-rmse:877617\n",
      "[38]\tvalidation_0-rmse:876346\n",
      "[39]\tvalidation_0-rmse:875770\n",
      "[40]\tvalidation_0-rmse:874782\n",
      "[41]\tvalidation_0-rmse:873389\n",
      "[42]\tvalidation_0-rmse:873403\n",
      "[43]\tvalidation_0-rmse:873350\n",
      "[44]\tvalidation_0-rmse:873447\n",
      "[45]\tvalidation_0-rmse:872766\n",
      "[46]\tvalidation_0-rmse:870971\n",
      "[47]\tvalidation_0-rmse:870400\n",
      "[48]\tvalidation_0-rmse:870750\n",
      "[49]\tvalidation_0-rmse:870198\n",
      "[50]\tvalidation_0-rmse:870195\n",
      "[51]\tvalidation_0-rmse:869978\n",
      "[52]\tvalidation_0-rmse:870046\n",
      "[53]\tvalidation_0-rmse:870515\n",
      "[54]\tvalidation_0-rmse:868687\n",
      "[55]\tvalidation_0-rmse:868369\n",
      "[56]\tvalidation_0-rmse:868009\n",
      "[57]\tvalidation_0-rmse:868096\n",
      "[58]\tvalidation_0-rmse:867919\n",
      "[59]\tvalidation_0-rmse:869191\n",
      "[60]\tvalidation_0-rmse:868468\n",
      "[61]\tvalidation_0-rmse:868190\n",
      "[62]\tvalidation_0-rmse:867988\n",
      "[63]\tvalidation_0-rmse:868427\n",
      "[64]\tvalidation_0-rmse:868892\n",
      "[65]\tvalidation_0-rmse:869621\n",
      "[66]\tvalidation_0-rmse:869374\n",
      "[67]\tvalidation_0-rmse:869246\n",
      "[68]\tvalidation_0-rmse:869995\n",
      "[69]\tvalidation_0-rmse:870123\n",
      "[70]\tvalidation_0-rmse:870123\n",
      "[71]\tvalidation_0-rmse:869854\n",
      "[72]\tvalidation_0-rmse:869854\n",
      "[73]\tvalidation_0-rmse:869854\n",
      "[74]\tvalidation_0-rmse:869524\n",
      "[75]\tvalidation_0-rmse:870305\n",
      "[76]\tvalidation_0-rmse:870778\n",
      "[77]\tvalidation_0-rmse:870778\n",
      "[78]\tvalidation_0-rmse:870643\n",
      "[79]\tvalidation_0-rmse:870643\n",
      "[80]\tvalidation_0-rmse:871150\n",
      "[81]\tvalidation_0-rmse:870179\n",
      "[82]\tvalidation_0-rmse:870868\n",
      "[83]\tvalidation_0-rmse:872081\n",
      "[84]\tvalidation_0-rmse:871990\n",
      "[85]\tvalidation_0-rmse:871724\n",
      "[86]\tvalidation_0-rmse:871727\n",
      "[87]\tvalidation_0-rmse:871600\n",
      "[88]\tvalidation_0-rmse:872175\n",
      "[89]\tvalidation_0-rmse:872067\n",
      "[90]\tvalidation_0-rmse:872067\n",
      "[91]\tvalidation_0-rmse:871805\n",
      "[92]\tvalidation_0-rmse:871559\n",
      "[93]\tvalidation_0-rmse:872717\n",
      "[94]\tvalidation_0-rmse:872652\n",
      "[95]\tvalidation_0-rmse:871741\n",
      "[96]\tvalidation_0-rmse:871991\n",
      "[97]\tvalidation_0-rmse:871991\n",
      "[98]\tvalidation_0-rmse:872900\n",
      "[99]\tvalidation_0-rmse:872900\n",
      "RMSE - XGBoost regression:  872935.8269123628\n"
     ]
    }
   ],
   "source": [
    "#XGB Boost regression\n",
    "import xgboost as xgb\n",
    "from sklearn import metrics\n",
    "xlf = xgb.XGBRegressor()\n",
    "xlf.fit(X_train, y_train, eval_metric='rmse', verbose = True, eval_set = [(X_test, y_test)])\n",
    "# calculate the auc score\n",
    "y_pred = xlf.predict(X_test)\n",
    "#RMSE - Test\n",
    "print(\"RMSE - XGBoost regression: \", np.sqrt(metrics.mean_squared_error(y_test,y_pred)))\n"
   ]
  },
  {
   "cell_type": "code",
   "execution_count": 330,
   "metadata": {},
   "outputs": [
    {
     "name": "stdout",
     "output_type": "stream",
     "text": [
      "RMSE - Linear regression:  880817.749061393\n"
     ]
    }
   ],
   "source": [
    "#Implementing Linear Regression\n",
    "from sklearn.linear_model import LinearRegression\n",
    "from sklearn import metrics\n",
    "\n",
    "linear = LinearRegression()\n",
    "linear.fit(X_train, y_train)\n",
    "y_pred = linear.predict(X_test)\n",
    "print(\"RMSE - Linear regression: \", np.sqrt(metrics.mean_squared_error(y_test,y_pred)))\n"
   ]
  },
  {
   "cell_type": "code",
   "execution_count": 331,
   "metadata": {},
   "outputs": [
    {
     "name": "stdout",
     "output_type": "stream",
     "text": [
      "(19615, 10)\n"
     ]
    }
   ],
   "source": [
    "import pandas as pd\n",
    "# In[83]:\n",
    "df = pd.read_csv('D:\\Hackathon\\MachineHack - Music\\Data_Test.csv')\n",
    "df.head(10)\n",
    "print(df.shape)"
   ]
  },
  {
   "cell_type": "code",
   "execution_count": 332,
   "metadata": {},
   "outputs": [],
   "source": [
    "#Replace K, M, B\n",
    "def value_to_float(x):\n",
    "    if type(x) == float or type(x) == int:\n",
    "        return x\n",
    "    if 'K' in x:\n",
    "        if len(x) > 1:\n",
    "            return float(x.replace('K', '')) * 1000\n",
    "        return 1000.0\n",
    "    if 'M' in x:\n",
    "        if len(x) > 1:\n",
    "            return float(x.replace('M', '')) * 1000000\n",
    "        return 1000000.0\n",
    "    if 'B' in x:\n",
    "        return float(x.replace('B', '')) * 1000000000\n",
    "    if ',' in x:\n",
    "        return float(x.replace(',', '')) \n",
    "    return float(x)\n",
    "\n",
    "df.Likes = df.Likes.apply(value_to_float)\n",
    "df.Popularity = df.Popularity.apply(value_to_float)"
   ]
  },
  {
   "cell_type": "code",
   "execution_count": 333,
   "metadata": {},
   "outputs": [],
   "source": [
    "df.to_csv('Data_Test_Transformed.csv')"
   ]
  },
  {
   "cell_type": "code",
   "execution_count": 334,
   "metadata": {},
   "outputs": [],
   "source": [
    "#df.dtypes\n",
    "df['Likes'] = df['Likes'].astype('float64')\n",
    "df['Popularity'] = df['Popularity'].astype('float64')"
   ]
  },
  {
   "cell_type": "code",
   "execution_count": 335,
   "metadata": {},
   "outputs": [],
   "source": [
    "#Labels\n",
    "import numpy as np\n",
    "bins = [-1,0,10,20,30,40,50,60,70,80,90,100,125,150,175,200,300,400,500,600,650,700,750,800,900,950,1000,1500,2000,3000,4000,5000,6000,7000,8000,9000,10000,15000,17500,20000,22500,\n",
    "        25000,30000,35000,45000,50000,55000,60000,65000,70000,75000,80000,85000,90000,95000,100000,120000,140000,160000,\n",
    "        180000,200000,240000,300000,360000,np.inf]\n",
    "names = [1,2,3,4,5,6,7,8,9,10,11,12,13,14,15,16,17,18,19,20,21,22,23,24,25,26,27,28,29,30,31,32,33,34,35,36,37,\n",
    "         38,39,40,41,42,43,44,45,46,47,48,49,50,51,52,53,54,55,56,57,58,59,60,61,62,63,64]\n",
    "\n",
    "df['Name_Label'] = pd.cut(df['Likes'], bins, labels=names)"
   ]
  },
  {
   "cell_type": "code",
   "execution_count": 336,
   "metadata": {},
   "outputs": [],
   "source": [
    "#Labels\n",
    "df['Genre_Label'] = df['Genre'].map({'drumbass':1, 'deephouse':2,'metal':3, 'rock':4, 'electronic':5,\n",
    "                                     'latin':6, 'dubstep':7, 'danceedm':8, 'trap':9, 'country':10,\n",
    "                                     'pop':11, 'disco':12, 'classical':13, 'ambient':14, 'folksingersongwriter':15,\n",
    "                                     'rbsoul':16, 'alternativerock':17, 'reggaeton':18, 'indie':19, 'hiphoprap':20,'all-music':21})"
   ]
  },
  {
   "cell_type": "code",
   "execution_count": 337,
   "metadata": {
    "scrolled": true
   },
   "outputs": [
    {
     "data": {
      "text/plain": [
       "27    1449\n",
       "29    1209\n",
       "16    1151\n",
       "2     1123\n",
       "17     961\n",
       "28     935\n",
       "18     796\n",
       "30     724\n",
       "19     674\n",
       "3      617\n",
       "37     541\n",
       "31     517\n",
       "1      464\n",
       "4      427\n",
       "24     414\n",
       "12     406\n",
       "13     369\n",
       "14     368\n",
       "32     355\n",
       "5      332\n",
       "20     321\n",
       "15     319\n",
       "33     313\n",
       "21     293\n",
       "6      291\n",
       "22     260\n",
       "7      247\n",
       "34     244\n",
       "9      237\n",
       "8      236\n",
       "      ... \n",
       "26     190\n",
       "36     186\n",
       "44     174\n",
       "38     171\n",
       "11     164\n",
       "42     147\n",
       "39     144\n",
       "40     111\n",
       "43     107\n",
       "41      89\n",
       "64      73\n",
       "46      61\n",
       "56      49\n",
       "47      46\n",
       "57      44\n",
       "45      41\n",
       "48      40\n",
       "50      36\n",
       "51      33\n",
       "61      33\n",
       "62      33\n",
       "52      30\n",
       "59      29\n",
       "49      26\n",
       "63      25\n",
       "55      22\n",
       "53      22\n",
       "58      20\n",
       "54      15\n",
       "60      15\n",
       "Name: Name_Label, Length: 64, dtype: int64"
      ]
     },
     "execution_count": 337,
     "metadata": {},
     "output_type": "execute_result"
    }
   ],
   "source": [
    "#Get counts by Name_label bins\n",
    "df['Name_Label'].value_counts()\n",
    "# df['Genre_Label'].value_counts()"
   ]
  },
  {
   "cell_type": "code",
   "execution_count": 338,
   "metadata": {},
   "outputs": [],
   "source": [
    "df['Name_Label'] = df['Name_Label'].astype('int64')"
   ]
  },
  {
   "cell_type": "code",
   "execution_count": 339,
   "metadata": {},
   "outputs": [],
   "source": [
    "#Correlation matrix\n",
    "df.drop(['Unique_ID','Name','Genre','Country','Timestamp','Song_Name','Comments','Followers'],inplace = True, axis = 1)"
   ]
  },
  {
   "cell_type": "code",
   "execution_count": 340,
   "metadata": {},
   "outputs": [
    {
     "data": {
      "text/html": [
       "<div>\n",
       "<style scoped>\n",
       "    .dataframe tbody tr th:only-of-type {\n",
       "        vertical-align: middle;\n",
       "    }\n",
       "\n",
       "    .dataframe tbody tr th {\n",
       "        vertical-align: top;\n",
       "    }\n",
       "\n",
       "    .dataframe thead th {\n",
       "        text-align: right;\n",
       "    }\n",
       "</style>\n",
       "<table border=\"1\" class=\"dataframe\">\n",
       "  <thead>\n",
       "    <tr style=\"text-align: right;\">\n",
       "      <th></th>\n",
       "      <th>Likes</th>\n",
       "      <th>Popularity</th>\n",
       "      <th>Name_Label</th>\n",
       "      <th>Genre_Label</th>\n",
       "    </tr>\n",
       "  </thead>\n",
       "  <tbody>\n",
       "    <tr>\n",
       "      <th>0</th>\n",
       "      <td>5428.0</td>\n",
       "      <td>118.0</td>\n",
       "      <td>32</td>\n",
       "      <td>21</td>\n",
       "    </tr>\n",
       "    <tr>\n",
       "      <th>1</th>\n",
       "      <td>738.0</td>\n",
       "      <td>195.0</td>\n",
       "      <td>22</td>\n",
       "      <td>8</td>\n",
       "    </tr>\n",
       "    <tr>\n",
       "      <th>2</th>\n",
       "      <td>386.0</td>\n",
       "      <td>96.0</td>\n",
       "      <td>17</td>\n",
       "      <td>8</td>\n",
       "    </tr>\n",
       "    <tr>\n",
       "      <th>3</th>\n",
       "      <td>388.0</td>\n",
       "      <td>19.0</td>\n",
       "      <td>17</td>\n",
       "      <td>21</td>\n",
       "    </tr>\n",
       "    <tr>\n",
       "      <th>4</th>\n",
       "      <td>79.0</td>\n",
       "      <td>1.0</td>\n",
       "      <td>9</td>\n",
       "      <td>4</td>\n",
       "    </tr>\n",
       "  </tbody>\n",
       "</table>\n",
       "</div>"
      ],
      "text/plain": [
       "    Likes  Popularity  Name_Label  Genre_Label\n",
       "0  5428.0       118.0          32           21\n",
       "1   738.0       195.0          22            8\n",
       "2   386.0        96.0          17            8\n",
       "3   388.0        19.0          17           21\n",
       "4    79.0         1.0           9            4"
      ]
     },
     "execution_count": 340,
     "metadata": {},
     "output_type": "execute_result"
    }
   ],
   "source": [
    "df = pd.DataFrame(df)\n",
    "df.head()"
   ]
  },
  {
   "cell_type": "code",
   "execution_count": 341,
   "metadata": {},
   "outputs": [
    {
     "name": "stdout",
     "output_type": "stream",
     "text": [
      "      Likes  Popularity  Name_Label  Genre_Label\n",
      "0 -0.064302   -0.166896    0.822776     2.100806\n",
      "1 -0.153171   -0.150888    0.040609    -0.222982\n",
      "2 -0.159841   -0.171469   -0.350475    -0.222982\n",
      "3 -0.159803   -0.187476   -0.350475     2.100806\n",
      "4 -0.165658   -0.191218   -0.976208    -0.937994\n"
     ]
    },
    {
     "name": "stderr",
     "output_type": "stream",
     "text": [
      "D:\\Applns\\Anaconda3\\lib\\site-packages\\sklearn\\pipeline.py:605: DataConversionWarning: Data with input dtype int64, float64 were all converted to float64 by StandardScaler.\n",
      "  res = transformer.transform(X)\n"
     ]
    }
   ],
   "source": [
    "#Standard scaling\n",
    "from sklearn.preprocessing import StandardScaler\n",
    "from sklearn.compose import ColumnTransformer\n",
    "sc_x = StandardScaler()\n",
    "ct = ColumnTransformer([\n",
    "          ('somename', StandardScaler(), ['Likes','Popularity','Name_Label','Genre_Label'])\n",
    "        ], remainder='passthrough')\n",
    "df = ct.fit_transform(df)\n",
    "df = pd.DataFrame(df,columns=['Likes','Popularity','Name_Label','Genre_Label'])\n",
    "print(df.head())"
   ]
  },
  {
   "cell_type": "code",
   "execution_count": 342,
   "metadata": {},
   "outputs": [],
   "source": [
    "# calculate the auc score\n",
    "y_pred_1 = xlf.predict(df)\n",
    "y_pred_1 = pd.DataFrame(y_pred_1)\n",
    "y_pred_1.to_csv('Data_Test_Predicted_1.csv',sep='#')"
   ]
  }
 ],
 "metadata": {
  "kernelspec": {
   "display_name": "Python 3",
   "language": "python",
   "name": "python3"
  },
  "language_info": {
   "codemirror_mode": {
    "name": "ipython",
    "version": 3
   },
   "file_extension": ".py",
   "mimetype": "text/x-python",
   "name": "python",
   "nbconvert_exporter": "python",
   "pygments_lexer": "ipython3",
   "version": "3.7.0"
  }
 },
 "nbformat": 4,
 "nbformat_minor": 2
}
