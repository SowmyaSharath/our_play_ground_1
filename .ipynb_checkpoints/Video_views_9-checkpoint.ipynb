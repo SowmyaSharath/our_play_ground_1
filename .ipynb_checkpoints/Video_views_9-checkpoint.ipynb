{
 "cells": [
  {
   "cell_type": "code",
   "execution_count": 1,
   "metadata": {
    "scrolled": false
   },
   "outputs": [
    {
     "name": "stdout",
     "output_type": "stream",
     "text": [
      "(78458, 11)\n"
     ]
    }
   ],
   "source": [
    "import pandas as pd\n",
    "\n",
    "\n",
    "# In[83]:\n",
    "df = pd.read_csv('Data_Train.csv')\n",
    "df.head(10)\n",
    "print(df.shape)\n"
   ]
  },
  {
   "cell_type": "code",
   "execution_count": 2,
   "metadata": {},
   "outputs": [],
   "source": [
    "\n",
    "#Replace K, M, B\n",
    "def value_to_float(x):\n",
    "    if type(x) == float or type(x) == int:\n",
    "        return x\n",
    "    if 'K' in x:\n",
    "        if len(x) > 1:\n",
    "            return float(x.replace('K', '')) * 1000\n",
    "        return 1000.0\n",
    "    if 'M' in x:\n",
    "        if len(x) > 1:\n",
    "            return float(x.replace('M', '')) * 1000000\n",
    "        return 1000000.0\n",
    "    if 'B' in x:\n",
    "        return float(x.replace('B', '')) * 1000000000\n",
    "    if ',' in x:\n",
    "        return float(x.replace(',', '')) \n",
    "    return float(x)\n",
    "\n",
    "df.Likes = df.Likes.apply(value_to_float)\n",
    "df.Popularity = df.Popularity.apply(value_to_float)\n",
    "df.to_csv('Data_Train_Transformed_1.csv')\n",
    "#df = df[df['Views'] > df[\"Likes\"]]\n",
    "# print(df.shape)\n",
    "# print(df.head())"
   ]
  },
  {
   "cell_type": "code",
   "execution_count": 26,
   "metadata": {},
   "outputs": [],
   "source": [
    "# df_mean = df.groupby('Name').mean()\n",
    "# df_mean.to_csv('Test_2.csv')"
   ]
  },
  {
   "cell_type": "code",
   "execution_count": 27,
   "metadata": {},
   "outputs": [],
   "source": [
    "#Labels\n",
    "import numpy as np\n",
    "# bins = [-1,0,10,20,30,40,50,60,70,80,90,100,125,150,175,200,300,400,500,600,650,700,750,800,900,950,1000,1500,2000,3000,4000,5000,6000,7000,8000,9000,10000,15000,17500,20000,22500,\n",
    "#         25000,30000,35000,45000,50000,55000,60000,65000,70000,75000,80000,85000,90000,95000,100000,120000,140000,160000,\n",
    "#         180000,200000,240000,300000,360000,np.inf]\n",
    "# names = [1,2,3,4,5,6,7,8,9,10,11,12,13,14,15,16,17,18,19,20,21,22,23,24,25,26,27,28,29,30,31,32,33,34,35,36,37,\n",
    "#          38,39,40,41,42,43,44,45,46,47,48,49,50,51,52,53,54,55,56,57,58,59,60,61,62,63,64]\n",
    "bins = [-1,0.1,4,10,20,30,50,75,100,125,150,175,200,230,270,300,330,370,400,450,500,600,650,700,750,800,850,950,1000,1200,1400,1600,\n",
    "        1800,2000,2300,2700,3000,3500,4000,5000,6000,7000,8000,10000,15000,\n",
    "        20000,40000,60000,100000,np.inf]\n",
    "names = [1,2,3,4,5,6,7,8,9,10,11,12,13,14,15,16,17,18,19,20,21,22,23,24,25,26,27,28,29,30,31,32,33,34,35,36,37,\n",
    "         38,39,40,41,42,43,44,45,46,47,48,49]\n",
    "df['Name_Label'] = pd.cut(df['Likes'], bins, labels=names)\n",
    "\n",
    "# #Pure Label Encoding\n",
    "# from sklearn.preprocessing import LabelEncoder,OneHotEncoder\n",
    "# # Converting Genre and Name to labelencoding\n",
    "# labelencoder = LabelEncoder()\n",
    "# df['Name_Label'] = labelencoder.fit_transform(df['Name'])\n",
    "# df.head()"
   ]
  },
  {
   "cell_type": "code",
   "execution_count": 28,
   "metadata": {},
   "outputs": [
    {
     "data": {
      "text/plain": [
       "21    2674\n",
       "29    2566\n",
       "6     2502\n",
       "4     2484\n",
       "2     2376\n",
       "7     2341\n",
       "3     2277\n",
       "44    2237\n",
       "30    2169\n",
       "46    2138\n",
       "8     2018\n",
       "39    2001\n",
       "1     1891\n",
       "35    1858\n",
       "31    1839\n",
       "14    1827\n",
       "5     1825\n",
       "34    1776\n",
       "19    1677\n",
       "9     1654\n",
       "37    1635\n",
       "40    1591\n",
       "32    1589\n",
       "27    1589\n",
       "43    1536\n",
       "10    1531\n",
       "20    1523\n",
       "13    1448\n",
       "17    1446\n",
       "38    1415\n",
       "11    1405\n",
       "33    1348\n",
       "12    1306\n",
       "49    1305\n",
       "45    1297\n",
       "15    1261\n",
       "16    1207\n",
       "22    1187\n",
       "41    1179\n",
       "36    1142\n",
       "23    1064\n",
       "18    1033\n",
       "24    1003\n",
       "47     944\n",
       "42     939\n",
       "25     932\n",
       "26     923\n",
       "48     860\n",
       "28     690\n",
       "Name: Name_Label, dtype: int64"
      ]
     },
     "execution_count": 28,
     "metadata": {},
     "output_type": "execute_result"
    }
   ],
   "source": [
    "#Get counts by Name_label bins\n",
    "df['Name_Label'].value_counts()"
   ]
  },
  {
   "cell_type": "code",
   "execution_count": 29,
   "metadata": {},
   "outputs": [],
   "source": [
    "#Labels\n",
    "df['Genre_Label'] = df['Genre'].map({'drumbass':1, 'deephouse':2,'metal':3, 'rock':4, 'electronic':5,\n",
    "                                     'latin':6, 'dubstep':7, 'danceedm':8, 'trap':9, 'country':10,\n",
    "                                     'pop':11, 'disco':12, 'classical':13, 'ambient':14, 'folksingersongwriter':15,\n",
    "                                     'rbsoul':16, 'alternativerock':17, 'reggaeton':18, 'indie':19, 'hiphoprap':20,'all-music':21})"
   ]
  },
  {
   "cell_type": "code",
   "execution_count": 30,
   "metadata": {},
   "outputs": [
    {
     "data": {
      "text/plain": [
       "8     22633\n",
       "5     18331\n",
       "21    10277\n",
       "16     5411\n",
       "6      4562\n",
       "9      4055\n",
       "4      4000\n",
       "2      2423\n",
       "11     1787\n",
       "7      1100\n",
       "14      847\n",
       "13      767\n",
       "1       671\n",
       "3       523\n",
       "12      374\n",
       "10      336\n",
       "17      156\n",
       "20      100\n",
       "18       55\n",
       "15       39\n",
       "19       11\n",
       "Name: Genre_Label, dtype: int64"
      ]
     },
     "execution_count": 30,
     "metadata": {},
     "output_type": "execute_result"
    }
   ],
   "source": [
    "#Get counts by Genre_Label bins\n",
    "df['Genre_Label'].value_counts()"
   ]
  },
  {
   "cell_type": "code",
   "execution_count": 31,
   "metadata": {},
   "outputs": [],
   "source": [
    "df['Name_Label'] = df['Name_Label'].astype('int64')\n",
    "# df.isnull().sum()\n",
    "# df.describe()\n",
    "#df.dtypes\n",
    "# # print(df.head()"
   ]
  },
  {
   "cell_type": "code",
   "execution_count": 32,
   "metadata": {
    "scrolled": true
   },
   "outputs": [
    {
     "name": "stdout",
     "output_type": "stream",
     "text": [
      "                         Unique_ID         Views    Comments         Likes  \\\n",
      "Genre                                                                        \n",
      "all-music             7.993705e+05  2.451156e+06  294.354578  36251.202004   \n",
      "alternativerock       7.715628e+05  8.545917e+05  190.173077  11453.076923   \n",
      "ambient               1.104049e+06  3.985286e+05   87.917355   6400.989374   \n",
      "classical             9.667382e+05  3.931904e+05   91.676662   7339.490222   \n",
      "country               5.000266e+05  2.945058e+05  124.800595   5161.773810   \n",
      "danceedm              7.098378e+05  2.667007e+05  114.792029   4879.496664   \n",
      "deephouse             1.160870e+06  6.264949e+04   66.227404   1641.210070   \n",
      "disco                 3.550900e+05  3.681520e+05   86.232620   6274.732620   \n",
      "drumbass              5.862023e+05  3.712738e+04   67.277198   1334.828614   \n",
      "dubstep               6.637812e+05  2.407431e+05  167.078182   5850.751818   \n",
      "electronic            7.345176e+05  1.736503e+05   99.013965   3669.657138   \n",
      "folksingersongwriter  1.023424e+06  4.753422e+05   31.128205   7962.538462   \n",
      "hiphoprap             6.424885e+05  2.145161e+06  326.570000  40382.960000   \n",
      "indie                 1.343443e+05  1.657772e+06  144.181818  34810.000000   \n",
      "latin                 5.118652e+05  2.364045e+05    8.054143   2884.579790   \n",
      "metal                 1.211889e+06  1.288263e+05   15.038241   1443.252390   \n",
      "pop                   9.723342e+05  3.608129e+05   74.887521   6362.388360   \n",
      "rbsoul                4.540684e+05  6.094165e+05   50.946590  10138.321752   \n",
      "reggaeton             4.255708e+05  1.149190e+06   27.763636  14180.727273   \n",
      "rock                  8.817366e+05  1.325153e+05   23.740250   1790.887500   \n",
      "trap                  9.533099e+05  2.763905e+05   94.119605   5131.852528   \n",
      "\n",
      "                       Popularity     Followers  Name_Label  Genre_Label  \n",
      "Genre                                                                     \n",
      "all-music             2483.473484  9.590876e+05   32.716941         21.0  \n",
      "alternativerock        931.769231  1.935528e+05   20.935897         17.0  \n",
      "ambient                955.501771  2.334866e+05   16.348288         14.0  \n",
      "classical             1141.687093  6.705102e+05   37.953064         13.0  \n",
      "country                712.821429  1.100058e+06   20.211310         10.0  \n",
      "danceedm               832.585207  6.588785e+05   24.083330          8.0  \n",
      "deephouse              307.310359  9.857645e+04   21.213785          2.0  \n",
      "disco                 1306.254011  5.688260e+05   20.473262         12.0  \n",
      "drumbass               224.774963  5.063995e+04   27.622951          1.0  \n",
      "dubstep               1098.828182  1.413230e+05   32.683636          7.0  \n",
      "electronic             660.408979  3.440219e+05   22.982816          5.0  \n",
      "folksingersongwriter   455.307692  5.625203e+04   16.692308         15.0  \n",
      "hiphoprap             5034.680000  2.282266e+05   41.030000         20.0  \n",
      "indie                 4087.909091  9.573300e+04   45.363636         19.0  \n",
      "latin                   91.821350  8.206697e+03   13.276633          6.0  \n",
      "metal                   91.977055  5.068780e+05   14.701721          3.0  \n",
      "pop                    654.205372  4.632068e+05   14.805260         11.0  \n",
      "rbsoul                 898.053410  2.086810e+05   28.045093         16.0  \n",
      "reggaeton              393.418182  7.825273e+03   30.545455         18.0  \n",
      "rock                   118.103750  4.390827e+05   10.414000          4.0  \n",
      "trap                   876.796301  1.708184e+05   19.357337          9.0  \n"
     ]
    }
   ],
   "source": [
    "# Distribution of features by Genre\n",
    "df_mean = df.groupby('Genre').mean()\n",
    "print(df_mean)"
   ]
  },
  {
   "cell_type": "code",
   "execution_count": 33,
   "metadata": {
    "scrolled": false
   },
   "outputs": [],
   "source": [
    "# #Histogram Plotting each variable\n",
    "# #Plotting Likes or comments or popularity\n",
    "# import matplotlib.pyplot as plt\n",
    "# import seaborn as sns\n",
    "# plt.hist(df['Likes'])\n",
    "# plt.ylabel('No of times')\n",
    "# plt.show()\n",
    "\n",
    "# #Plotting Comments\n",
    "# plt.hist(df['Comments'])\n",
    "# plt.ylabel('No of times')\n",
    "# plt.show()\n",
    "\n",
    "# #Plotting Popularity\n",
    "# plt.hist(df['Popularity'])\n",
    "# plt.ylabel('No of times')\n",
    "# plt.show()\n",
    "\n",
    "# #Plotting Views\n",
    "# plt.hist(df['Views'])\n",
    "# plt.ylabel('No of times')\n",
    "# plt.show()"
   ]
  },
  {
   "cell_type": "code",
   "execution_count": 34,
   "metadata": {},
   "outputs": [],
   "source": [
    "# # Scatter Plot\n",
    "# fig, ax = plt.subplots(figsize=(16,8))\n",
    "# ax.scatter(df['Unique_ID'], df['Popularity'])\n",
    "# ax.set_xlabel('Unique Id')\n",
    "# ax.set_ylabel('Popularity')\n",
    "\n",
    "# fig, ax = plt.subplots(figsize=(16,8))\n",
    "# ax.scatter(df['Unique_ID'], df['Views'])\n",
    "# ax.set_xlabel('Unique Id')\n",
    "# ax.set_ylabel('Views')\n",
    "\n",
    "# fig, ax = plt.subplots(figsize=(16,8))\n",
    "# ax.scatter(df['Unique_ID'], df['Likes'])\n",
    "# ax.set_xlabel('Unique Id')\n",
    "# ax.set_ylabel('Likes')"
   ]
  },
  {
   "cell_type": "code",
   "execution_count": 35,
   "metadata": {},
   "outputs": [
    {
     "name": "stdout",
     "output_type": "stream",
     "text": [
      "   Unique_ID              Name     Genre Country  \\\n",
      "0     413890         Hardstyle  danceedm      AU   \n",
      "1     249453        Dj Aladdin  danceedm      AU   \n",
      "2     681116  Maxximize On Air  danceedm      AU   \n",
      "3     387253       GR6 EXPLODE    rbsoul      AU   \n",
      "4    1428029          Tritonal  danceedm      AU   \n",
      "\n",
      "                                           Song_Name  \\\n",
      "0  N-Vitral presents BOMBSQUAD - Poison Spitter (...   \n",
      "1          Dj Aladdin - Old School Hip Hop Quick Mix   \n",
      "2  Maxximize On Air - Mixed by Blasterjaxx - Epis...   \n",
      "3                MC Yago - Tenho Compromisso (DJ R7)   \n",
      "4                         Escape (feat. Steph Jones)   \n",
      "\n",
      "                    Timestamp   Views  Comments   Likes  Popularity  \\\n",
      "0  2018-03-30 15:24:45.000000   14017         4   499.0        97.0   \n",
      "1  2016-06-20 05:58:52.000000    1918        17    49.0        17.0   \n",
      "2  2015-05-08 17:45:59.000000    9668        11   312.0        91.0   \n",
      "3  2017-06-08 23:50:03.000000  113036         2  2400.0        76.0   \n",
      "4  2016-09-17 20:50:19.000000  110024        81  3031.0       699.0   \n",
      "\n",
      "   Followers  Name_Label  Genre_Label  \n",
      "0     119563          20            8  \n",
      "1       2141           6            8  \n",
      "2      22248          16            8  \n",
      "3     393655          35           16  \n",
      "4     201030          37            8  \n"
     ]
    },
    {
     "data": {
      "text/html": [
       "<div>\n",
       "<style scoped>\n",
       "    .dataframe tbody tr th:only-of-type {\n",
       "        vertical-align: middle;\n",
       "    }\n",
       "\n",
       "    .dataframe tbody tr th {\n",
       "        vertical-align: top;\n",
       "    }\n",
       "\n",
       "    .dataframe thead th {\n",
       "        text-align: right;\n",
       "    }\n",
       "</style>\n",
       "<table border=\"1\" class=\"dataframe\">\n",
       "  <thead>\n",
       "    <tr style=\"text-align: right;\">\n",
       "      <th></th>\n",
       "      <th>Views</th>\n",
       "      <th>Likes</th>\n",
       "      <th>Popularity</th>\n",
       "      <th>Name_Label</th>\n",
       "      <th>Genre_Label</th>\n",
       "    </tr>\n",
       "  </thead>\n",
       "  <tbody>\n",
       "    <tr>\n",
       "      <th>0</th>\n",
       "      <td>14017</td>\n",
       "      <td>499.0</td>\n",
       "      <td>97.0</td>\n",
       "      <td>20</td>\n",
       "      <td>8</td>\n",
       "    </tr>\n",
       "    <tr>\n",
       "      <th>1</th>\n",
       "      <td>1918</td>\n",
       "      <td>49.0</td>\n",
       "      <td>17.0</td>\n",
       "      <td>6</td>\n",
       "      <td>8</td>\n",
       "    </tr>\n",
       "    <tr>\n",
       "      <th>2</th>\n",
       "      <td>9668</td>\n",
       "      <td>312.0</td>\n",
       "      <td>91.0</td>\n",
       "      <td>16</td>\n",
       "      <td>8</td>\n",
       "    </tr>\n",
       "    <tr>\n",
       "      <th>3</th>\n",
       "      <td>113036</td>\n",
       "      <td>2400.0</td>\n",
       "      <td>76.0</td>\n",
       "      <td>35</td>\n",
       "      <td>16</td>\n",
       "    </tr>\n",
       "    <tr>\n",
       "      <th>4</th>\n",
       "      <td>110024</td>\n",
       "      <td>3031.0</td>\n",
       "      <td>699.0</td>\n",
       "      <td>37</td>\n",
       "      <td>8</td>\n",
       "    </tr>\n",
       "  </tbody>\n",
       "</table>\n",
       "</div>"
      ],
      "text/plain": [
       "    Views   Likes  Popularity  Name_Label  Genre_Label\n",
       "0   14017   499.0        97.0          20            8\n",
       "1    1918    49.0        17.0           6            8\n",
       "2    9668   312.0        91.0          16            8\n",
       "3  113036  2400.0        76.0          35           16\n",
       "4  110024  3031.0       699.0          37            8"
      ]
     },
     "execution_count": 35,
     "metadata": {},
     "output_type": "execute_result"
    }
   ],
   "source": [
    "#Correlation matrix\n",
    "print(df.head())\n",
    "df.drop(['Unique_ID','Name','Genre','Country','Timestamp','Song_Name','Comments','Followers'],inplace = True, axis = 1)\n",
    "df.head()\n"
   ]
  },
  {
   "cell_type": "code",
   "execution_count": 36,
   "metadata": {},
   "outputs": [],
   "source": [
    "df.to_csv('Test_1.csv')"
   ]
  },
  {
   "cell_type": "code",
   "execution_count": 37,
   "metadata": {
    "scrolled": true
   },
   "outputs": [
    {
     "name": "stdout",
     "output_type": "stream",
     "text": [
      "      Likes  Popularity     Views  Name_Label  Genre_Label\n",
      "0 -0.157700   -0.171261   14017.0        20.0          8.0\n",
      "1 -0.166227   -0.187892    1918.0         6.0          8.0\n",
      "2 -0.161243   -0.172509    9668.0        16.0          8.0\n",
      "3 -0.121678   -0.175627  113036.0        35.0         16.0\n",
      "4 -0.109722   -0.046114  110024.0        37.0          8.0\n"
     ]
    }
   ],
   "source": [
    "#Standard scaling\n",
    "from sklearn.preprocessing import StandardScaler\n",
    "from sklearn.compose import ColumnTransformer\n",
    "sc_x = StandardScaler()\n",
    "ct = ColumnTransformer([\n",
    "         ('somename', StandardScaler(), ['Likes','Popularity'])\n",
    "       ], remainder='passthrough')\n",
    "df = ct.fit_transform(df)\n",
    "df = pd.DataFrame(df,columns=['Likes','Popularity','Views','Name_Label','Genre_Label'])\n",
    "print(df.head())"
   ]
  },
  {
   "cell_type": "code",
   "execution_count": 38,
   "metadata": {},
   "outputs": [
    {
     "data": {
      "text/html": [
       "<div>\n",
       "<style scoped>\n",
       "    .dataframe tbody tr th:only-of-type {\n",
       "        vertical-align: middle;\n",
       "    }\n",
       "\n",
       "    .dataframe tbody tr th {\n",
       "        vertical-align: top;\n",
       "    }\n",
       "\n",
       "    .dataframe thead th {\n",
       "        text-align: right;\n",
       "    }\n",
       "</style>\n",
       "<table border=\"1\" class=\"dataframe\">\n",
       "  <thead>\n",
       "    <tr style=\"text-align: right;\">\n",
       "      <th></th>\n",
       "      <th>name_0</th>\n",
       "      <th>name_1</th>\n",
       "      <th>name_2</th>\n",
       "      <th>name_3</th>\n",
       "      <th>name_4</th>\n",
       "      <th>name_5</th>\n",
       "      <th>name_6</th>\n",
       "      <th>name_7</th>\n",
       "      <th>name_8</th>\n",
       "      <th>name_9</th>\n",
       "      <th>...</th>\n",
       "      <th>name_39</th>\n",
       "      <th>name_40</th>\n",
       "      <th>name_41</th>\n",
       "      <th>name_42</th>\n",
       "      <th>name_43</th>\n",
       "      <th>name_44</th>\n",
       "      <th>name_45</th>\n",
       "      <th>name_46</th>\n",
       "      <th>name_47</th>\n",
       "      <th>name_48</th>\n",
       "    </tr>\n",
       "  </thead>\n",
       "  <tbody>\n",
       "    <tr>\n",
       "      <th>0</th>\n",
       "      <td>0.0</td>\n",
       "      <td>0.0</td>\n",
       "      <td>0.0</td>\n",
       "      <td>0.0</td>\n",
       "      <td>0.0</td>\n",
       "      <td>0.0</td>\n",
       "      <td>0.0</td>\n",
       "      <td>0.0</td>\n",
       "      <td>0.0</td>\n",
       "      <td>0.0</td>\n",
       "      <td>...</td>\n",
       "      <td>0.0</td>\n",
       "      <td>0.0</td>\n",
       "      <td>0.0</td>\n",
       "      <td>0.0</td>\n",
       "      <td>0.0</td>\n",
       "      <td>0.0</td>\n",
       "      <td>0.0</td>\n",
       "      <td>0.0</td>\n",
       "      <td>0.0</td>\n",
       "      <td>0.0</td>\n",
       "    </tr>\n",
       "    <tr>\n",
       "      <th>1</th>\n",
       "      <td>0.0</td>\n",
       "      <td>0.0</td>\n",
       "      <td>0.0</td>\n",
       "      <td>0.0</td>\n",
       "      <td>0.0</td>\n",
       "      <td>1.0</td>\n",
       "      <td>0.0</td>\n",
       "      <td>0.0</td>\n",
       "      <td>0.0</td>\n",
       "      <td>0.0</td>\n",
       "      <td>...</td>\n",
       "      <td>0.0</td>\n",
       "      <td>0.0</td>\n",
       "      <td>0.0</td>\n",
       "      <td>0.0</td>\n",
       "      <td>0.0</td>\n",
       "      <td>0.0</td>\n",
       "      <td>0.0</td>\n",
       "      <td>0.0</td>\n",
       "      <td>0.0</td>\n",
       "      <td>0.0</td>\n",
       "    </tr>\n",
       "    <tr>\n",
       "      <th>2</th>\n",
       "      <td>0.0</td>\n",
       "      <td>0.0</td>\n",
       "      <td>0.0</td>\n",
       "      <td>0.0</td>\n",
       "      <td>0.0</td>\n",
       "      <td>0.0</td>\n",
       "      <td>0.0</td>\n",
       "      <td>0.0</td>\n",
       "      <td>0.0</td>\n",
       "      <td>0.0</td>\n",
       "      <td>...</td>\n",
       "      <td>0.0</td>\n",
       "      <td>0.0</td>\n",
       "      <td>0.0</td>\n",
       "      <td>0.0</td>\n",
       "      <td>0.0</td>\n",
       "      <td>0.0</td>\n",
       "      <td>0.0</td>\n",
       "      <td>0.0</td>\n",
       "      <td>0.0</td>\n",
       "      <td>0.0</td>\n",
       "    </tr>\n",
       "    <tr>\n",
       "      <th>3</th>\n",
       "      <td>0.0</td>\n",
       "      <td>0.0</td>\n",
       "      <td>0.0</td>\n",
       "      <td>0.0</td>\n",
       "      <td>0.0</td>\n",
       "      <td>0.0</td>\n",
       "      <td>0.0</td>\n",
       "      <td>0.0</td>\n",
       "      <td>0.0</td>\n",
       "      <td>0.0</td>\n",
       "      <td>...</td>\n",
       "      <td>0.0</td>\n",
       "      <td>0.0</td>\n",
       "      <td>0.0</td>\n",
       "      <td>0.0</td>\n",
       "      <td>0.0</td>\n",
       "      <td>0.0</td>\n",
       "      <td>0.0</td>\n",
       "      <td>0.0</td>\n",
       "      <td>0.0</td>\n",
       "      <td>0.0</td>\n",
       "    </tr>\n",
       "    <tr>\n",
       "      <th>4</th>\n",
       "      <td>0.0</td>\n",
       "      <td>0.0</td>\n",
       "      <td>0.0</td>\n",
       "      <td>0.0</td>\n",
       "      <td>0.0</td>\n",
       "      <td>0.0</td>\n",
       "      <td>0.0</td>\n",
       "      <td>0.0</td>\n",
       "      <td>0.0</td>\n",
       "      <td>0.0</td>\n",
       "      <td>...</td>\n",
       "      <td>0.0</td>\n",
       "      <td>0.0</td>\n",
       "      <td>0.0</td>\n",
       "      <td>0.0</td>\n",
       "      <td>0.0</td>\n",
       "      <td>0.0</td>\n",
       "      <td>0.0</td>\n",
       "      <td>0.0</td>\n",
       "      <td>0.0</td>\n",
       "      <td>0.0</td>\n",
       "    </tr>\n",
       "  </tbody>\n",
       "</table>\n",
       "<p>5 rows × 49 columns</p>\n",
       "</div>"
      ],
      "text/plain": [
       "   name_0  name_1  name_2  name_3  name_4  name_5  name_6  name_7  name_8  \\\n",
       "0     0.0     0.0     0.0     0.0     0.0     0.0     0.0     0.0     0.0   \n",
       "1     0.0     0.0     0.0     0.0     0.0     1.0     0.0     0.0     0.0   \n",
       "2     0.0     0.0     0.0     0.0     0.0     0.0     0.0     0.0     0.0   \n",
       "3     0.0     0.0     0.0     0.0     0.0     0.0     0.0     0.0     0.0   \n",
       "4     0.0     0.0     0.0     0.0     0.0     0.0     0.0     0.0     0.0   \n",
       "\n",
       "   name_9   ...     name_39  name_40  name_41  name_42  name_43  name_44  \\\n",
       "0     0.0   ...         0.0      0.0      0.0      0.0      0.0      0.0   \n",
       "1     0.0   ...         0.0      0.0      0.0      0.0      0.0      0.0   \n",
       "2     0.0   ...         0.0      0.0      0.0      0.0      0.0      0.0   \n",
       "3     0.0   ...         0.0      0.0      0.0      0.0      0.0      0.0   \n",
       "4     0.0   ...         0.0      0.0      0.0      0.0      0.0      0.0   \n",
       "\n",
       "   name_45  name_46  name_47  name_48  \n",
       "0      0.0      0.0      0.0      0.0  \n",
       "1      0.0      0.0      0.0      0.0  \n",
       "2      0.0      0.0      0.0      0.0  \n",
       "3      0.0      0.0      0.0      0.0  \n",
       "4      0.0      0.0      0.0      0.0  \n",
       "\n",
       "[5 rows x 49 columns]"
      ]
     },
     "execution_count": 38,
     "metadata": {},
     "output_type": "execute_result"
    }
   ],
   "source": [
    "from sklearn.preprocessing import LabelEncoder,OneHotEncoder\n",
    "# Converting Genre_Label and Name_Label to labelencoding\n",
    "labelencoder = LabelEncoder()\n",
    "genreoneHotEncoder = OneHotEncoder(categories='auto')\n",
    "nameoneHotEncoder = OneHotEncoder(categories='auto')\n",
    "genre_transformed_data = genreoneHotEncoder.fit_transform((df['Genre_Label'].values).reshape(-1,1))\n",
    "genre_hashed_features = pd.DataFrame( genre_transformed_data.toarray()).add_prefix('gen_')\n",
    "genre_hashed_features.head()\n",
    "\n",
    "oneHotEncoder = OneHotEncoder(categories='auto')\n",
    "name_transformed_data = nameoneHotEncoder.fit_transform((df['Name_Label'].values).reshape(-1,1))\n",
    "name_hashed_features = pd.DataFrame( name_transformed_data.toarray()).add_prefix('name_')\n",
    "name_hashed_features.head()"
   ]
  },
  {
   "cell_type": "code",
   "execution_count": 39,
   "metadata": {},
   "outputs": [
    {
     "name": "stdout",
     "output_type": "stream",
     "text": [
      "(78458, 21)\n",
      "(78458, 49)\n"
     ]
    }
   ],
   "source": [
    "print(genre_hashed_features.shape)\n",
    "print(name_hashed_features.shape)"
   ]
  },
  {
   "cell_type": "code",
   "execution_count": 40,
   "metadata": {},
   "outputs": [
    {
     "name": "stdout",
     "output_type": "stream",
     "text": [
      "(78458, 75)\n"
     ]
    }
   ],
   "source": [
    "df = df.join(name_hashed_features)\n",
    "df = df.join(genre_hashed_features)\n",
    "print(df.shape)\n",
    "df['Likes'] = df['Likes'].apply(pd.to_numeric, errors='coerce')\n",
    "df['Popularity'] = df['Popularity'].apply(pd.to_numeric, errors='coerce')"
   ]
  },
  {
   "cell_type": "code",
   "execution_count": 41,
   "metadata": {},
   "outputs": [],
   "source": [
    "# df = df[df['Likes'] <10 ]\n",
    "# df = df[df['Popularity'] <10 ]"
   ]
  },
  {
   "cell_type": "code",
   "execution_count": 42,
   "metadata": {},
   "outputs": [
    {
     "data": {
      "text/plain": [
       "<matplotlib.axes._subplots.AxesSubplot at 0x149bfd38ac8>"
      ]
     },
     "execution_count": 42,
     "metadata": {},
     "output_type": "execute_result"
    },
    {
     "data": {
      "image/png": "[encoded data removed]",
      "text/plain": [
       "<Figure size 432x288 with 1 Axes>"
      ]
     },
     "metadata": {
      "needs_background": "light"
     },
     "output_type": "display_data"
    }
   ],
   "source": [
    "y = df['Views']\n",
    "df.drop(['Views','Name_Label','Genre_Label'],inplace=True,axis=1)\n",
    "y.plot.hist()"
   ]
  },
  {
   "cell_type": "code",
   "execution_count": 43,
   "metadata": {
    "scrolled": true
   },
   "outputs": [],
   "source": [
    "# df.plot.hist()"
   ]
  },
  {
   "cell_type": "code",
   "execution_count": 44,
   "metadata": {},
   "outputs": [],
   "source": [
    "# df.isnull().sum()\n"
   ]
  },
  {
   "cell_type": "code",
   "execution_count": 45,
   "metadata": {
    "scrolled": false
   },
   "outputs": [],
   "source": [
    "from sklearn.model_selection import train_test_split\n",
    "#print(df_scaled)\n",
    "# split data into train and test sets\n",
    "X_train, X_test, y_train, y_test = train_test_split(df, y, test_size=.2, random_state=205)"
   ]
  },
  {
   "cell_type": "code",
   "execution_count": 46,
   "metadata": {},
   "outputs": [
    {
     "name": "stderr",
     "output_type": "stream",
     "text": [
      "D:\\Applns\\Anaconda3\\lib\\site-packages\\xgboost\\core.py:587: FutureWarning: Series.base is deprecated and will be removed in a future version\n",
      "  if getattr(data, 'base', None) is not None and \\\n"
     ]
    },
    {
     "name": "stdout",
     "output_type": "stream",
     "text": [
      "[07:11:43] WARNING: src/objective/regression_obj.cu:152: reg:linear is now deprecated in favor of reg:squarederror.\n",
      "[0]\tvalidation_0-rmse:3.49945e+06\n",
      "[1]\tvalidation_0-rmse:3.18791e+06\n",
      "[2]\tvalidation_0-rmse:2.9255e+06\n",
      "[3]\tvalidation_0-rmse:2.67708e+06\n",
      "[4]\tvalidation_0-rmse:2.44818e+06\n",
      "[5]\tvalidation_0-rmse:2.25436e+06\n",
      "[6]\tvalidation_0-rmse:2.0808e+06\n",
      "[7]\tvalidation_0-rmse:1.92377e+06\n",
      "[8]\tvalidation_0-rmse:1.78549e+06\n",
      "[9]\tvalidation_0-rmse:1.66981e+06\n",
      "[10]\tvalidation_0-rmse:1.56861e+06\n",
      "[11]\tvalidation_0-rmse:1.48069e+06\n",
      "[12]\tvalidation_0-rmse:1.39755e+06\n",
      "[13]\tvalidation_0-rmse:1.32158e+06\n",
      "[14]\tvalidation_0-rmse:1.2613e+06\n",
      "[15]\tvalidation_0-rmse:1.20429e+06\n",
      "[16]\tvalidation_0-rmse:1.15446e+06\n",
      "[17]\tvalidation_0-rmse:1.11115e+06\n",
      "[18]\tvalidation_0-rmse:1.0745e+06\n",
      "[19]\tvalidation_0-rmse:1.04565e+06\n",
      "[20]\tvalidation_0-rmse:1.01897e+06\n",
      "[21]\tvalidation_0-rmse:995150\n",
      "[22]\tvalidation_0-rmse:975655\n",
      "[23]\tvalidation_0-rmse:957899\n",
      "[24]\tvalidation_0-rmse:945843\n",
      "[25]\tvalidation_0-rmse:933935\n",
      "[26]\tvalidation_0-rmse:923410\n",
      "[27]\tvalidation_0-rmse:914033\n",
      "[28]\tvalidation_0-rmse:907093\n",
      "[29]\tvalidation_0-rmse:902281\n",
      "[30]\tvalidation_0-rmse:897305\n",
      "[31]\tvalidation_0-rmse:892889\n",
      "[32]\tvalidation_0-rmse:886155\n",
      "[33]\tvalidation_0-rmse:883372\n",
      "[34]\tvalidation_0-rmse:881312\n",
      "[35]\tvalidation_0-rmse:879768\n",
      "[36]\tvalidation_0-rmse:878460\n",
      "[37]\tvalidation_0-rmse:877736\n",
      "[38]\tvalidation_0-rmse:876525\n",
      "[39]\tvalidation_0-rmse:875184\n",
      "[40]\tvalidation_0-rmse:874102\n",
      "[41]\tvalidation_0-rmse:873074\n",
      "[42]\tvalidation_0-rmse:871568\n",
      "[43]\tvalidation_0-rmse:871272\n",
      "[44]\tvalidation_0-rmse:871371\n",
      "[45]\tvalidation_0-rmse:871596\n",
      "[46]\tvalidation_0-rmse:871399\n",
      "[47]\tvalidation_0-rmse:870827\n",
      "[48]\tvalidation_0-rmse:870324\n",
      "[49]\tvalidation_0-rmse:868982\n",
      "[50]\tvalidation_0-rmse:869336\n",
      "[51]\tvalidation_0-rmse:868972\n",
      "[52]\tvalidation_0-rmse:868971\n",
      "[53]\tvalidation_0-rmse:868767\n",
      "[54]\tvalidation_0-rmse:869740\n",
      "[55]\tvalidation_0-rmse:869740\n",
      "[56]\tvalidation_0-rmse:869739\n",
      "[57]\tvalidation_0-rmse:869738\n",
      "[58]\tvalidation_0-rmse:870274\n",
      "[59]\tvalidation_0-rmse:870621\n",
      "[60]\tvalidation_0-rmse:869754\n",
      "[61]\tvalidation_0-rmse:869599\n",
      "[62]\tvalidation_0-rmse:870628\n",
      "[63]\tvalidation_0-rmse:869596\n",
      "[64]\tvalidation_0-rmse:869597\n",
      "[65]\tvalidation_0-rmse:869637\n",
      "[66]\tvalidation_0-rmse:870093\n",
      "[67]\tvalidation_0-rmse:870093\n",
      "[68]\tvalidation_0-rmse:870196\n",
      "[69]\tvalidation_0-rmse:870195\n",
      "[70]\tvalidation_0-rmse:870368\n",
      "[71]\tvalidation_0-rmse:870367\n",
      "[72]\tvalidation_0-rmse:871321\n",
      "[73]\tvalidation_0-rmse:871323\n",
      "[74]\tvalidation_0-rmse:871645\n",
      "[75]\tvalidation_0-rmse:870247\n",
      "[76]\tvalidation_0-rmse:869829\n",
      "[77]\tvalidation_0-rmse:868705\n",
      "[78]\tvalidation_0-rmse:868522\n",
      "[79]\tvalidation_0-rmse:869336\n",
      "[80]\tvalidation_0-rmse:869337\n",
      "[81]\tvalidation_0-rmse:870269\n",
      "[82]\tvalidation_0-rmse:870634\n",
      "[83]\tvalidation_0-rmse:871307\n",
      "[84]\tvalidation_0-rmse:871307\n",
      "[85]\tvalidation_0-rmse:870374\n",
      "[86]\tvalidation_0-rmse:870374\n",
      "[87]\tvalidation_0-rmse:870381\n",
      "[88]\tvalidation_0-rmse:870428\n",
      "[89]\tvalidation_0-rmse:871842\n",
      "[90]\tvalidation_0-rmse:871478\n",
      "[91]\tvalidation_0-rmse:871363\n",
      "[92]\tvalidation_0-rmse:872643\n",
      "[93]\tvalidation_0-rmse:872644\n",
      "[94]\tvalidation_0-rmse:873339\n",
      "[95]\tvalidation_0-rmse:874227\n",
      "[96]\tvalidation_0-rmse:873800\n",
      "[97]\tvalidation_0-rmse:874159\n",
      "[98]\tvalidation_0-rmse:874055\n",
      "[99]\tvalidation_0-rmse:873815\n",
      "RMSE - XGBoost regression:  873851.2113200242\n"
     ]
    }
   ],
   "source": [
    "#XGB Boost regression\n",
    "import xgboost as xgb\n",
    "from sklearn import metrics\n",
    "xlf = xgb.XGBRegressor()\n",
    "xlf.fit(X_train, y_train, eval_metric='rmse', verbose = True, eval_set = [(X_test, y_test)])\n",
    "# calculate the auc score\n",
    "y_pred = xlf.predict(X_test)\n",
    "#RMSE - Test\n",
    "print(\"RMSE - XGBoost regression: \", np.sqrt(metrics.mean_squared_error(y_test,y_pred)))\n"
   ]
  },
  {
   "cell_type": "code",
   "execution_count": 47,
   "metadata": {},
   "outputs": [
    {
     "name": "stdout",
     "output_type": "stream",
     "text": [
      "RMSE - Linear regression:  865362.2858120566\n"
     ]
    }
   ],
   "source": [
    "#Implementing Linear Regression\n",
    "from sklearn.linear_model import LinearRegression\n",
    "from sklearn import metrics\n",
    "\n",
    "linear = LinearRegression()\n",
    "linear.fit(X_train, y_train)\n",
    "y_pred = linear.predict(X_test)\n",
    "print(\"RMSE - Linear regression: \", np.sqrt(metrics.mean_squared_error(y_test,y_pred)))\n"
   ]
  },
  {
   "cell_type": "code",
   "execution_count": 48,
   "metadata": {},
   "outputs": [
    {
     "name": "stdout",
     "output_type": "stream",
     "text": [
      "(19615, 10)\n"
     ]
    }
   ],
   "source": [
    "import pandas as pd\n",
    "# In[83]:\n",
    "df = pd.read_csv('D:\\Hackathon\\MachineHack - Music\\Data_Test.csv')\n",
    "df.head(10)\n",
    "print(df.shape)"
   ]
  },
  {
   "cell_type": "code",
   "execution_count": 49,
   "metadata": {},
   "outputs": [],
   "source": [
    "#Replace K, M, B\n",
    "def value_to_float(x):\n",
    "    if type(x) == float or type(x) == int:\n",
    "        return x\n",
    "    if 'K' in x:\n",
    "        if len(x) > 1:\n",
    "            return float(x.replace('K', '')) * 1000\n",
    "        return 1000.0\n",
    "    if 'M' in x:\n",
    "        if len(x) > 1:\n",
    "            return float(x.replace('M', '')) * 1000000\n",
    "        return 1000000.0\n",
    "    if 'B' in x:\n",
    "        return float(x.replace('B', '')) * 1000000000\n",
    "    if ',' in x:\n",
    "        return float(x.replace(',', '')) \n",
    "    return float(x)\n",
    "\n",
    "df.Likes = df.Likes.apply(value_to_float)\n",
    "df.Popularity = df.Popularity.apply(value_to_float)"
   ]
  },
  {
   "cell_type": "code",
   "execution_count": 50,
   "metadata": {},
   "outputs": [],
   "source": [
    "df.to_csv('Data_Test_Transformed.csv')"
   ]
  },
  {
   "cell_type": "code",
   "execution_count": 51,
   "metadata": {},
   "outputs": [],
   "source": [
    "#df.dtypes\n",
    "df['Likes'] = df['Likes'].astype('float64')\n",
    "df['Popularity'] = df['Popularity'].astype('float64')"
   ]
  },
  {
   "cell_type": "code",
   "execution_count": 52,
   "metadata": {},
   "outputs": [],
   "source": [
    "#Labels\n",
    "import numpy as np\n",
    "# bins = [-1,0,10,20,30,40,50,60,70,80,90,100,125,150,175,200,300,400,500,600,650,700,750,800,900,950,1000,1500,2000,3000,4000,5000,6000,7000,8000,9000,10000,15000,17500,20000,22500,\n",
    "#         25000,30000,35000,45000,50000,55000,60000,65000,70000,75000,80000,85000,90000,95000,100000,120000,140000,160000,\n",
    "#         180000,200000,240000,300000,360000,np.inf]\n",
    "# names = [1,2,3,4,5,6,7,8,9,10,11,12,13,14,15,16,17,18,19,20,21,22,23,24,25,26,27,28,29,30,31,32,33,34,35,36,37,\n",
    "# #          38,39,40,41,42,43,44,45,46,47,48,49,50,51,52,53,54,55,56,57,58,59,60,61,62,63,64]\n",
    "# bins = [-1,0.1,4,10,20,30,50,75,100,125,150,175,200,230,270,300,330,370,400,450,500,600,650,700,750,800,850,950,1000,1200,1400,1600,\n",
    "#         1800,2000,2300,2700,3000,3500,4000,5000,6000,7000,8000,10000,15000,\n",
    "#         20000,40000,60000,100000,np.inf]\n",
    "# names = [1,2,3,4,5,6,7,8,9,10,11,12,13,14,15,16,17,18,19,20,21,22,23,24,25,26,27,28,29,30,31,32,33,34,35,36,37,\n",
    "#          38,39,40,41,42,43,44,45,46,47,48,49]\n",
    "bins = [-1,50,100,300,500,1000,2500,4000,10000,np.inf]\n",
    "names = [1,2,3,4,5,6,7,8,9]\n",
    "\n",
    "df['Name_Label'] = pd.cut(df['Likes'], bins, labels=names)"
   ]
  },
  {
   "cell_type": "code",
   "execution_count": 53,
   "metadata": {},
   "outputs": [],
   "source": [
    "#Labels\n",
    "df['Genre_Label'] = df['Genre'].map({'drumbass':1, 'deephouse':2,'metal':3, 'rock':4, 'electronic':5,\n",
    "                                     'latin':6, 'dubstep':7, 'danceedm':8, 'trap':9, 'country':10,\n",
    "                                     'pop':11, 'disco':12, 'classical':13, 'ambient':14, 'folksingersongwriter':15,\n",
    "                                     'rbsoul':16, 'alternativerock':17, 'reggaeton':18, 'indie':19, 'hiphoprap':20,'all-music':21})"
   ]
  },
  {
   "cell_type": "code",
   "execution_count": 54,
   "metadata": {
    "scrolled": true
   },
   "outputs": [
    {
     "data": {
      "text/plain": [
       "8     5686\n",
       "5     4650\n",
       "21    2562\n",
       "16    1391\n",
       "6     1121\n",
       "4      978\n",
       "9      963\n",
       "2      594\n",
       "11     467\n",
       "7      255\n",
       "14     230\n",
       "13     191\n",
       "1      141\n",
       "3      128\n",
       "12      97\n",
       "10      78\n",
       "17      30\n",
       "20      29\n",
       "15      12\n",
       "18      11\n",
       "19       1\n",
       "Name: Genre_Label, dtype: int64"
      ]
     },
     "execution_count": 54,
     "metadata": {},
     "output_type": "execute_result"
    }
   ],
   "source": [
    "#Get counts by Name_label bins\n",
    "#df['Name_Label'].value_counts()\n",
    "df['Genre_Label'].value_counts()"
   ]
  },
  {
   "cell_type": "code",
   "execution_count": 55,
   "metadata": {},
   "outputs": [],
   "source": [
    "df['Name_Label'] = df['Name_Label'].astype('int64')"
   ]
  },
  {
   "cell_type": "code",
   "execution_count": 56,
   "metadata": {},
   "outputs": [],
   "source": [
    "#Correlation matrix\n",
    "df.drop(['Unique_ID','Name','Genre','Country','Timestamp','Song_Name','Comments','Followers'],inplace = True, axis = 1)"
   ]
  },
  {
   "cell_type": "code",
   "execution_count": 57,
   "metadata": {
    "scrolled": true
   },
   "outputs": [
    {
     "data": {
      "text/html": [
       "<div>\n",
       "<style scoped>\n",
       "    .dataframe tbody tr th:only-of-type {\n",
       "        vertical-align: middle;\n",
       "    }\n",
       "\n",
       "    .dataframe tbody tr th {\n",
       "        vertical-align: top;\n",
       "    }\n",
       "\n",
       "    .dataframe thead th {\n",
       "        text-align: right;\n",
       "    }\n",
       "</style>\n",
       "<table border=\"1\" class=\"dataframe\">\n",
       "  <thead>\n",
       "    <tr style=\"text-align: right;\">\n",
       "      <th></th>\n",
       "      <th>Likes</th>\n",
       "      <th>Popularity</th>\n",
       "      <th>Name_Label</th>\n",
       "      <th>Genre_Label</th>\n",
       "    </tr>\n",
       "  </thead>\n",
       "  <tbody>\n",
       "    <tr>\n",
       "      <th>0</th>\n",
       "      <td>5428.0</td>\n",
       "      <td>118.0</td>\n",
       "      <td>8</td>\n",
       "      <td>21</td>\n",
       "    </tr>\n",
       "    <tr>\n",
       "      <th>1</th>\n",
       "      <td>738.0</td>\n",
       "      <td>195.0</td>\n",
       "      <td>5</td>\n",
       "      <td>8</td>\n",
       "    </tr>\n",
       "    <tr>\n",
       "      <th>2</th>\n",
       "      <td>386.0</td>\n",
       "      <td>96.0</td>\n",
       "      <td>4</td>\n",
       "      <td>8</td>\n",
       "    </tr>\n",
       "    <tr>\n",
       "      <th>3</th>\n",
       "      <td>388.0</td>\n",
       "      <td>19.0</td>\n",
       "      <td>4</td>\n",
       "      <td>21</td>\n",
       "    </tr>\n",
       "    <tr>\n",
       "      <th>4</th>\n",
       "      <td>79.0</td>\n",
       "      <td>1.0</td>\n",
       "      <td>2</td>\n",
       "      <td>4</td>\n",
       "    </tr>\n",
       "  </tbody>\n",
       "</table>\n",
       "</div>"
      ],
      "text/plain": [
       "    Likes  Popularity  Name_Label  Genre_Label\n",
       "0  5428.0       118.0           8           21\n",
       "1   738.0       195.0           5            8\n",
       "2   386.0        96.0           4            8\n",
       "3   388.0        19.0           4           21\n",
       "4    79.0         1.0           2            4"
      ]
     },
     "execution_count": 57,
     "metadata": {},
     "output_type": "execute_result"
    }
   ],
   "source": [
    "df = pd.DataFrame(df)\n",
    "df.head()"
   ]
  },
  {
   "cell_type": "code",
   "execution_count": 58,
   "metadata": {},
   "outputs": [
    {
     "name": "stdout",
     "output_type": "stream",
     "text": [
      "      Likes  Popularity  Name_Label  Genre_Label\n",
      "0 -0.068006   -0.166740         8.0         21.0\n",
      "1 -0.158250   -0.151475         5.0          8.0\n",
      "2 -0.165023   -0.171102         4.0          8.0\n",
      "3 -0.164984   -0.186368         4.0         21.0\n",
      "4 -0.170930   -0.189936         2.0          4.0\n"
     ]
    }
   ],
   "source": [
    "# Standard scaling\n",
    "from sklearn.preprocessing import StandardScaler\n",
    "from sklearn.compose import ColumnTransformer\n",
    "sc_x = StandardScaler()\n",
    "ct = ColumnTransformer([\n",
    "         ('somename', StandardScaler(), ['Likes','Popularity'])\n",
    "       ], remainder='passthrough')\n",
    "df = ct.fit_transform(df)\n",
    "df = pd.DataFrame(df,columns=['Likes','Popularity','Name_Label','Genre_Label'])\n",
    "print(df.head())"
   ]
  },
  {
   "cell_type": "code",
   "execution_count": 59,
   "metadata": {},
   "outputs": [
    {
     "data": {
      "text/html": [
       "<div>\n",
       "<style scoped>\n",
       "    .dataframe tbody tr th:only-of-type {\n",
       "        vertical-align: middle;\n",
       "    }\n",
       "\n",
       "    .dataframe tbody tr th {\n",
       "        vertical-align: top;\n",
       "    }\n",
       "\n",
       "    .dataframe thead th {\n",
       "        text-align: right;\n",
       "    }\n",
       "</style>\n",
       "<table border=\"1\" class=\"dataframe\">\n",
       "  <thead>\n",
       "    <tr style=\"text-align: right;\">\n",
       "      <th></th>\n",
       "      <th>name_0</th>\n",
       "      <th>name_1</th>\n",
       "      <th>name_2</th>\n",
       "      <th>name_3</th>\n",
       "      <th>name_4</th>\n",
       "      <th>name_5</th>\n",
       "      <th>name_6</th>\n",
       "      <th>name_7</th>\n",
       "      <th>name_8</th>\n",
       "      <th>name_9</th>\n",
       "      <th>...</th>\n",
       "      <th>name_39</th>\n",
       "      <th>name_40</th>\n",
       "      <th>name_41</th>\n",
       "      <th>name_42</th>\n",
       "      <th>name_43</th>\n",
       "      <th>name_44</th>\n",
       "      <th>name_45</th>\n",
       "      <th>name_46</th>\n",
       "      <th>name_47</th>\n",
       "      <th>name_48</th>\n",
       "    </tr>\n",
       "  </thead>\n",
       "  <tbody>\n",
       "    <tr>\n",
       "      <th>0</th>\n",
       "      <td>0.0</td>\n",
       "      <td>0.0</td>\n",
       "      <td>0.0</td>\n",
       "      <td>0.0</td>\n",
       "      <td>0.0</td>\n",
       "      <td>0.0</td>\n",
       "      <td>0.0</td>\n",
       "      <td>1.0</td>\n",
       "      <td>0.0</td>\n",
       "      <td>0.0</td>\n",
       "      <td>...</td>\n",
       "      <td>0.0</td>\n",
       "      <td>0.0</td>\n",
       "      <td>0.0</td>\n",
       "      <td>0.0</td>\n",
       "      <td>0.0</td>\n",
       "      <td>0.0</td>\n",
       "      <td>0.0</td>\n",
       "      <td>0.0</td>\n",
       "      <td>0.0</td>\n",
       "      <td>0.0</td>\n",
       "    </tr>\n",
       "    <tr>\n",
       "      <th>1</th>\n",
       "      <td>0.0</td>\n",
       "      <td>0.0</td>\n",
       "      <td>0.0</td>\n",
       "      <td>0.0</td>\n",
       "      <td>1.0</td>\n",
       "      <td>0.0</td>\n",
       "      <td>0.0</td>\n",
       "      <td>0.0</td>\n",
       "      <td>0.0</td>\n",
       "      <td>0.0</td>\n",
       "      <td>...</td>\n",
       "      <td>0.0</td>\n",
       "      <td>0.0</td>\n",
       "      <td>0.0</td>\n",
       "      <td>0.0</td>\n",
       "      <td>0.0</td>\n",
       "      <td>0.0</td>\n",
       "      <td>0.0</td>\n",
       "      <td>0.0</td>\n",
       "      <td>0.0</td>\n",
       "      <td>0.0</td>\n",
       "    </tr>\n",
       "    <tr>\n",
       "      <th>2</th>\n",
       "      <td>0.0</td>\n",
       "      <td>0.0</td>\n",
       "      <td>0.0</td>\n",
       "      <td>1.0</td>\n",
       "      <td>0.0</td>\n",
       "      <td>0.0</td>\n",
       "      <td>0.0</td>\n",
       "      <td>0.0</td>\n",
       "      <td>0.0</td>\n",
       "      <td>0.0</td>\n",
       "      <td>...</td>\n",
       "      <td>0.0</td>\n",
       "      <td>0.0</td>\n",
       "      <td>0.0</td>\n",
       "      <td>0.0</td>\n",
       "      <td>0.0</td>\n",
       "      <td>0.0</td>\n",
       "      <td>0.0</td>\n",
       "      <td>0.0</td>\n",
       "      <td>0.0</td>\n",
       "      <td>0.0</td>\n",
       "    </tr>\n",
       "    <tr>\n",
       "      <th>3</th>\n",
       "      <td>0.0</td>\n",
       "      <td>0.0</td>\n",
       "      <td>0.0</td>\n",
       "      <td>1.0</td>\n",
       "      <td>0.0</td>\n",
       "      <td>0.0</td>\n",
       "      <td>0.0</td>\n",
       "      <td>0.0</td>\n",
       "      <td>0.0</td>\n",
       "      <td>0.0</td>\n",
       "      <td>...</td>\n",
       "      <td>0.0</td>\n",
       "      <td>0.0</td>\n",
       "      <td>0.0</td>\n",
       "      <td>0.0</td>\n",
       "      <td>0.0</td>\n",
       "      <td>0.0</td>\n",
       "      <td>0.0</td>\n",
       "      <td>0.0</td>\n",
       "      <td>0.0</td>\n",
       "      <td>0.0</td>\n",
       "    </tr>\n",
       "    <tr>\n",
       "      <th>4</th>\n",
       "      <td>0.0</td>\n",
       "      <td>1.0</td>\n",
       "      <td>0.0</td>\n",
       "      <td>0.0</td>\n",
       "      <td>0.0</td>\n",
       "      <td>0.0</td>\n",
       "      <td>0.0</td>\n",
       "      <td>0.0</td>\n",
       "      <td>0.0</td>\n",
       "      <td>0.0</td>\n",
       "      <td>...</td>\n",
       "      <td>0.0</td>\n",
       "      <td>0.0</td>\n",
       "      <td>0.0</td>\n",
       "      <td>0.0</td>\n",
       "      <td>0.0</td>\n",
       "      <td>0.0</td>\n",
       "      <td>0.0</td>\n",
       "      <td>0.0</td>\n",
       "      <td>0.0</td>\n",
       "      <td>0.0</td>\n",
       "    </tr>\n",
       "  </tbody>\n",
       "</table>\n",
       "<p>5 rows × 49 columns</p>\n",
       "</div>"
      ],
      "text/plain": [
       "   name_0  name_1  name_2  name_3  name_4  name_5  name_6  name_7  name_8  \\\n",
       "0     0.0     0.0     0.0     0.0     0.0     0.0     0.0     1.0     0.0   \n",
       "1     0.0     0.0     0.0     0.0     1.0     0.0     0.0     0.0     0.0   \n",
       "2     0.0     0.0     0.0     1.0     0.0     0.0     0.0     0.0     0.0   \n",
       "3     0.0     0.0     0.0     1.0     0.0     0.0     0.0     0.0     0.0   \n",
       "4     0.0     1.0     0.0     0.0     0.0     0.0     0.0     0.0     0.0   \n",
       "\n",
       "   name_9   ...     name_39  name_40  name_41  name_42  name_43  name_44  \\\n",
       "0     0.0   ...         0.0      0.0      0.0      0.0      0.0      0.0   \n",
       "1     0.0   ...         0.0      0.0      0.0      0.0      0.0      0.0   \n",
       "2     0.0   ...         0.0      0.0      0.0      0.0      0.0      0.0   \n",
       "3     0.0   ...         0.0      0.0      0.0      0.0      0.0      0.0   \n",
       "4     0.0   ...         0.0      0.0      0.0      0.0      0.0      0.0   \n",
       "\n",
       "   name_45  name_46  name_47  name_48  \n",
       "0      0.0      0.0      0.0      0.0  \n",
       "1      0.0      0.0      0.0      0.0  \n",
       "2      0.0      0.0      0.0      0.0  \n",
       "3      0.0      0.0      0.0      0.0  \n",
       "4      0.0      0.0      0.0      0.0  \n",
       "\n",
       "[5 rows x 49 columns]"
      ]
     },
     "execution_count": 59,
     "metadata": {},
     "output_type": "execute_result"
    }
   ],
   "source": [
    "# from sklearn.preprocessing import LabelEncoder,OneHotEncoder\n",
    "# # Converting Genre_Label and Name_Label to labelencoding\n",
    "# labelencoder = LabelEncoder()\n",
    "# genreoneHotEncoder = OneHotEncoder(categories='auto')\n",
    "# nameoneHotEncoder = OneHotEncoder(categories='auto')\n",
    "genre_transformed_data = genreoneHotEncoder.transform((df['Genre_Label'].values).reshape(-1,1))\n",
    "genre_hashed_features = pd.DataFrame( genre_transformed_data.toarray()).add_prefix('gen_')\n",
    "genre_hashed_features.head()\n",
    "\n",
    "# oneHotEncoder = OneHotEncoder(categories='auto')\n",
    "name_transformed_data = nameoneHotEncoder.transform((df['Name_Label'].values).reshape(-1,1))\n",
    "name_hashed_features = pd.DataFrame( name_transformed_data.toarray()).add_prefix('name_')\n",
    "name_hashed_features.head()"
   ]
  },
  {
   "cell_type": "code",
   "execution_count": 60,
   "metadata": {},
   "outputs": [
    {
     "name": "stdout",
     "output_type": "stream",
     "text": [
      "(19615, 21)\n",
      "(19615, 49)\n"
     ]
    }
   ],
   "source": [
    "print(genre_hashed_features.shape)\n",
    "print(name_hashed_features.shape)"
   ]
  },
  {
   "cell_type": "code",
   "execution_count": 61,
   "metadata": {},
   "outputs": [
    {
     "name": "stdout",
     "output_type": "stream",
     "text": [
      "(19615, 74)\n"
     ]
    }
   ],
   "source": [
    "df = df.join(name_hashed_features)\n",
    "df = df.join(genre_hashed_features)\n",
    "print(df.shape)\n",
    "df['Likes'] = df['Likes'].apply(pd.to_numeric, errors='coerce')\n",
    "df['Popularity'] = df['Popularity'].apply(pd.to_numeric, errors='coerce')"
   ]
  },
  {
   "cell_type": "code",
   "execution_count": 62,
   "metadata": {},
   "outputs": [],
   "source": [
    "df.drop(['Name_Label','Genre_Label'],inplace=True,axis=1)"
   ]
  },
  {
   "cell_type": "code",
   "execution_count": 63,
   "metadata": {},
   "outputs": [
    {
     "data": {
      "text/plain": [
       "Likes         0\n",
       "Popularity    0\n",
       "name_0        0\n",
       "name_1        0\n",
       "name_2        0\n",
       "name_3        0\n",
       "name_4        0\n",
       "name_5        0\n",
       "name_6        0\n",
       "name_7        0\n",
       "name_8        0\n",
       "name_9        0\n",
       "name_10       0\n",
       "name_11       0\n",
       "name_12       0\n",
       "name_13       0\n",
       "name_14       0\n",
       "name_15       0\n",
       "name_16       0\n",
       "name_17       0\n",
       "name_18       0\n",
       "name_19       0\n",
       "name_20       0\n",
       "name_21       0\n",
       "name_22       0\n",
       "name_23       0\n",
       "name_24       0\n",
       "name_25       0\n",
       "name_26       0\n",
       "name_27       0\n",
       "             ..\n",
       "name_40       0\n",
       "name_41       0\n",
       "name_42       0\n",
       "name_43       0\n",
       "name_44       0\n",
       "name_45       0\n",
       "name_46       0\n",
       "name_47       0\n",
       "name_48       0\n",
       "gen_0         0\n",
       "gen_1         0\n",
       "gen_2         0\n",
       "gen_3         0\n",
       "gen_4         0\n",
       "gen_5         0\n",
       "gen_6         0\n",
       "gen_7         0\n",
       "gen_8         0\n",
       "gen_9         0\n",
       "gen_10        0\n",
       "gen_11        0\n",
       "gen_12        0\n",
       "gen_13        0\n",
       "gen_14        0\n",
       "gen_15        0\n",
       "gen_16        0\n",
       "gen_17        0\n",
       "gen_18        0\n",
       "gen_19        0\n",
       "gen_20        0\n",
       "Length: 72, dtype: int64"
      ]
     },
     "execution_count": 63,
     "metadata": {},
     "output_type": "execute_result"
    }
   ],
   "source": [
    "df.isnull().sum()\n"
   ]
  },
  {
   "cell_type": "code",
   "execution_count": 64,
   "metadata": {},
   "outputs": [],
   "source": [
    "# calculate the auc score\n",
    "y_pred_1 = xlf.predict(df)\n",
    "y_pred_1 = pd.DataFrame(y_pred_1)\n",
    "y_pred_1.to_csv('Data_Test_Predicted_1.csv',sep='#')"
   ]
  }
 ],
 "metadata": {
  "kernelspec": {
   "display_name": "Python 3",
   "language": "python",
   "name": "python3"
  },
  "language_info": {
   "codemirror_mode": {
    "name": "ipython",
    "version": 3
   },
   "file_extension": ".py",
   "mimetype": "text/x-python",
   "name": "python",
   "nbconvert_exporter": "python",
   "pygments_lexer": "ipython3",
   "version": "3.6.7"
  }
 },
 "nbformat": 4,
 "nbformat_minor": 2
}
