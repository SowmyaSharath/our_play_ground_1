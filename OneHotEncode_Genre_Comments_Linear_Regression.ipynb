{
 "cells": [
  {
   "cell_type": "code",
   "execution_count": 413,
   "metadata": {
    "scrolled": false
   },
   "outputs": [
    {
     "name": "stdout",
     "output_type": "stream",
     "text": [
      "(78458, 11)\n"
     ]
    }
   ],
   "source": [
    "import pandas as pd\n",
    "\n",
    "\n",
    "# In[83]:\n",
    "df = pd.read_csv('Data_Train.csv')\n",
    "df.head(10)\n",
    "print(df.shape)\n",
    "\n"
   ]
  },
  {
   "cell_type": "code",
   "execution_count": 414,
   "metadata": {},
   "outputs": [],
   "source": [
    "\n",
    "#Replace K, M, B\n",
    "def value_to_float(x):\n",
    "    if type(x) == float or type(x) == int:\n",
    "        return x\n",
    "    if 'K' in x:\n",
    "        if len(x) > 1:\n",
    "            return float(x.replace('K', '')) * 1000\n",
    "        return 1000.0\n",
    "    if 'M' in x:\n",
    "        if len(x) > 1:\n",
    "            return float(x.replace('M', '')) * 1000000\n",
    "        return 1000000.0\n",
    "    if 'B' in x:\n",
    "        return float(x.replace('B', '')) * 1000000000\n",
    "    if ',' in x:\n",
    "        return float(x.replace(',', '')) \n",
    "    return float(x)\n",
    "\n",
    "df.Likes = df.Likes.apply(value_to_float)\n",
    "df.Popularity = df.Popularity.apply(value_to_float)\n",
    "df.to_csv('Data_Train_Transformed_1.csv')\n",
    "#df = df[df['Views'] > df[\"Likes\"]]\n",
    "# print(df.shape)\n",
    "# print(df.head())"
   ]
  },
  {
   "cell_type": "code",
   "execution_count": null,
   "metadata": {},
   "outputs": [],
   "source": []
  },
  {
   "cell_type": "code",
   "execution_count": 361,
   "metadata": {},
   "outputs": [],
   "source": [
    "# #Labels\n",
    "# import numpy as np\n",
    "# # bins = [-1,0,10,20,30,40,50,60,70,80,90,100,125,150,175,200,300,400,500,600,650,700,750,800,900,950,1000,1500,2000,3000,4000,5000,6000,7000,8000,9000,10000,15000,17500,20000,22500,\n",
    "# #         25000,30000,35000,45000,50000,55000,60000,65000,70000,75000,80000,85000,90000,95000,100000,120000,140000,160000,\n",
    "# #         180000,200000,240000,300000,360000,np.inf]\n",
    "# # names = [1,2,3,4,5,6,7,8,9,10,11,12,13,14,15,16,17,18,19,20,21,22,23,24,25,26,27,28,29,30,31,32,33,34,35,36,37,\n",
    "# #          38,39,40,41,42,43,44,45,46,47,48,49,50,51,52,53,54,55,56,57,58,59,60,61,62,63,64]\n",
    "# bins = [-1,0.1,4,10,20,30,50,75,100,125,150,175,200,230,270,300,330,370,400,450,500,600,650,700,750,800,850,950,1000,1200,1400,1600,\n",
    "#         1800,2000,2300,2700,3000,3500,4000,5000,6000,7000,8000,10000,15000,\n",
    "#         20000,40000,60000,100000,np.inf]\n",
    "# names = [1,2,3,4,5,6,7,8,9,10,11,12,13,14,15,16,17,18,19,20,21,22,23,24,25,26,27,28,29,30,31,32,33,34,35,36,37,\n",
    "#          38,39,40,41,42,43,44,45,46,47,48,49]\n",
    "# df['Name_Label'] = pd.cut(df['Likes'], bins, labels=names)\n",
    "\n",
    "# # #Pure Label Encoding\n",
    "# # from sklearn.preprocessing import LabelEncoder,OneHotEncoder\n",
    "# # # Converting Genre and Name to labelencoding\n",
    "# # labelencoder = LabelEncoder()\n",
    "# # df['Name_Label'] = labelencoder.fit_transform(df['Name'])\n",
    "# # df.head()"
   ]
  },
  {
   "cell_type": "code",
   "execution_count": 415,
   "metadata": {},
   "outputs": [
    {
     "data": {
      "text/html": [
       "<div>\n",
       "<style scoped>\n",
       "    .dataframe tbody tr th:only-of-type {\n",
       "        vertical-align: middle;\n",
       "    }\n",
       "\n",
       "    .dataframe tbody tr th {\n",
       "        vertical-align: top;\n",
       "    }\n",
       "\n",
       "    .dataframe thead th {\n",
       "        text-align: right;\n",
       "    }\n",
       "</style>\n",
       "<table border=\"1\" class=\"dataframe\">\n",
       "  <thead>\n",
       "    <tr style=\"text-align: right;\">\n",
       "      <th></th>\n",
       "      <th>Unique_ID</th>\n",
       "      <th>Name</th>\n",
       "      <th>Genre</th>\n",
       "      <th>Country</th>\n",
       "      <th>Song_Name</th>\n",
       "      <th>Timestamp</th>\n",
       "      <th>Views</th>\n",
       "      <th>Comments</th>\n",
       "      <th>Likes</th>\n",
       "      <th>Popularity</th>\n",
       "      <th>Followers</th>\n",
       "    </tr>\n",
       "  </thead>\n",
       "  <tbody>\n",
       "    <tr>\n",
       "      <th>0</th>\n",
       "      <td>413890</td>\n",
       "      <td>Hardstyle</td>\n",
       "      <td>danceedm</td>\n",
       "      <td>AU</td>\n",
       "      <td>N-Vitral presents BOMBSQUAD - Poison Spitter (...</td>\n",
       "      <td>2018-03-30 15:24:45.000000</td>\n",
       "      <td>14017</td>\n",
       "      <td>4</td>\n",
       "      <td>499.0</td>\n",
       "      <td>97.0</td>\n",
       "      <td>119563</td>\n",
       "    </tr>\n",
       "    <tr>\n",
       "      <th>1</th>\n",
       "      <td>249453</td>\n",
       "      <td>Dj Aladdin</td>\n",
       "      <td>danceedm</td>\n",
       "      <td>AU</td>\n",
       "      <td>Dj Aladdin - Old School Hip Hop Quick Mix</td>\n",
       "      <td>2016-06-20 05:58:52.000000</td>\n",
       "      <td>1918</td>\n",
       "      <td>17</td>\n",
       "      <td>49.0</td>\n",
       "      <td>17.0</td>\n",
       "      <td>2141</td>\n",
       "    </tr>\n",
       "    <tr>\n",
       "      <th>2</th>\n",
       "      <td>681116</td>\n",
       "      <td>Maxximize On Air</td>\n",
       "      <td>danceedm</td>\n",
       "      <td>AU</td>\n",
       "      <td>Maxximize On Air - Mixed by Blasterjaxx - Epis...</td>\n",
       "      <td>2015-05-08 17:45:59.000000</td>\n",
       "      <td>9668</td>\n",
       "      <td>11</td>\n",
       "      <td>312.0</td>\n",
       "      <td>91.0</td>\n",
       "      <td>22248</td>\n",
       "    </tr>\n",
       "    <tr>\n",
       "      <th>3</th>\n",
       "      <td>387253</td>\n",
       "      <td>GR6 EXPLODE</td>\n",
       "      <td>rbsoul</td>\n",
       "      <td>AU</td>\n",
       "      <td>MC Yago - Tenho Compromisso (DJ R7)</td>\n",
       "      <td>2017-06-08 23:50:03.000000</td>\n",
       "      <td>113036</td>\n",
       "      <td>2</td>\n",
       "      <td>2400.0</td>\n",
       "      <td>76.0</td>\n",
       "      <td>393655</td>\n",
       "    </tr>\n",
       "    <tr>\n",
       "      <th>4</th>\n",
       "      <td>1428029</td>\n",
       "      <td>Tritonal</td>\n",
       "      <td>danceedm</td>\n",
       "      <td>AU</td>\n",
       "      <td>Escape (feat. Steph Jones)</td>\n",
       "      <td>2016-09-17 20:50:19.000000</td>\n",
       "      <td>110024</td>\n",
       "      <td>81</td>\n",
       "      <td>3031.0</td>\n",
       "      <td>699.0</td>\n",
       "      <td>201030</td>\n",
       "    </tr>\n",
       "  </tbody>\n",
       "</table>\n",
       "</div>"
      ],
      "text/plain": [
       "   Unique_ID              Name     Genre Country  \\\n",
       "0     413890         Hardstyle  danceedm      AU   \n",
       "1     249453        Dj Aladdin  danceedm      AU   \n",
       "2     681116  Maxximize On Air  danceedm      AU   \n",
       "3     387253       GR6 EXPLODE    rbsoul      AU   \n",
       "4    1428029          Tritonal  danceedm      AU   \n",
       "\n",
       "                                           Song_Name  \\\n",
       "0  N-Vitral presents BOMBSQUAD - Poison Spitter (...   \n",
       "1          Dj Aladdin - Old School Hip Hop Quick Mix   \n",
       "2  Maxximize On Air - Mixed by Blasterjaxx - Epis...   \n",
       "3                MC Yago - Tenho Compromisso (DJ R7)   \n",
       "4                         Escape (feat. Steph Jones)   \n",
       "\n",
       "                    Timestamp   Views  Comments   Likes  Popularity  Followers  \n",
       "0  2018-03-30 15:24:45.000000   14017         4   499.0        97.0     119563  \n",
       "1  2016-06-20 05:58:52.000000    1918        17    49.0        17.0       2141  \n",
       "2  2015-05-08 17:45:59.000000    9668        11   312.0        91.0      22248  \n",
       "3  2017-06-08 23:50:03.000000  113036         2  2400.0        76.0     393655  \n",
       "4  2016-09-17 20:50:19.000000  110024        81  3031.0       699.0     201030  "
      ]
     },
     "execution_count": 415,
     "metadata": {},
     "output_type": "execute_result"
    }
   ],
   "source": [
    "df.head()"
   ]
  },
  {
   "cell_type": "code",
   "execution_count": 365,
   "metadata": {},
   "outputs": [],
   "source": [
    "#Labels\n",
    "# df['Genre_Label'] = df['Genre'].map({'drumbass':1, 'deephouse':2,'metal':3, 'rock':4, 'electronic':5,\n",
    "#                                      'latin':6, 'dubstep':7, 'danceedm':8, 'trap':9, 'country':10,\n",
    "#                                      'pop':11, 'disco':12, 'classical':13, 'ambient':14, 'folksingersongwriter':15,\n",
    "#                                      'rbsoul':16, 'alternativerock':17, 'reggaeton':18, 'indie':19, 'hiphoprap':20,'all-music':21})"
   ]
  },
  {
   "cell_type": "code",
   "execution_count": 366,
   "metadata": {},
   "outputs": [
    {
     "data": {
      "text/plain": [
       "8     22633\n",
       "5     18331\n",
       "21    10277\n",
       "16     5411\n",
       "6      4562\n",
       "9      4055\n",
       "4      4000\n",
       "2      2423\n",
       "11     1787\n",
       "7      1100\n",
       "14      847\n",
       "13      767\n",
       "1       671\n",
       "3       523\n",
       "12      374\n",
       "10      336\n",
       "17      156\n",
       "20      100\n",
       "18       55\n",
       "15       39\n",
       "19       11\n",
       "Name: Genre_Label, dtype: int64"
      ]
     },
     "execution_count": 366,
     "metadata": {},
     "output_type": "execute_result"
    }
   ],
   "source": [
    "#Get counts by Genre_Label bins\n",
    "# df['Genre_Label'].value_counts()"
   ]
  },
  {
   "cell_type": "code",
   "execution_count": 367,
   "metadata": {},
   "outputs": [],
   "source": [
    "# df['Name_Label'] = df['Name_Label'].astype('int64')\n",
    "# # df.isnull().sum()\n",
    "# # df.describe()\n",
    "# #df.dtypes\n",
    "# # # print(df.head()"
   ]
  },
  {
   "cell_type": "code",
   "execution_count": 368,
   "metadata": {
    "scrolled": true
   },
   "outputs": [
    {
     "name": "stdout",
     "output_type": "stream",
     "text": [
      "                         Unique_ID         Views    Comments         Likes  \\\n",
      "Genre                                                                        \n",
      "all-music             7.993705e+05  2.451156e+06  294.354578  36251.202004   \n",
      "alternativerock       7.715628e+05  8.545917e+05  190.173077  11453.076923   \n",
      "ambient               1.104049e+06  3.985286e+05   87.917355   6400.989374   \n",
      "classical             9.667382e+05  3.931904e+05   91.676662   7339.490222   \n",
      "country               5.000266e+05  2.945058e+05  124.800595   5161.773810   \n",
      "danceedm              7.098378e+05  2.667007e+05  114.792029   4879.496664   \n",
      "deephouse             1.160870e+06  6.264949e+04   66.227404   1641.210070   \n",
      "disco                 3.550900e+05  3.681520e+05   86.232620   6274.732620   \n",
      "drumbass              5.862023e+05  3.712738e+04   67.277198   1334.828614   \n",
      "dubstep               6.637812e+05  2.407431e+05  167.078182   5850.751818   \n",
      "electronic            7.345176e+05  1.736503e+05   99.013965   3669.657138   \n",
      "folksingersongwriter  1.023424e+06  4.753422e+05   31.128205   7962.538462   \n",
      "hiphoprap             6.424885e+05  2.145161e+06  326.570000  40382.960000   \n",
      "indie                 1.343443e+05  1.657772e+06  144.181818  34810.000000   \n",
      "latin                 5.118652e+05  2.364045e+05    8.054143   2884.579790   \n",
      "metal                 1.211889e+06  1.288263e+05   15.038241   1443.252390   \n",
      "pop                   9.723342e+05  3.608129e+05   74.887521   6362.388360   \n",
      "rbsoul                4.540684e+05  6.094165e+05   50.946590  10138.321752   \n",
      "reggaeton             4.255708e+05  1.149190e+06   27.763636  14180.727273   \n",
      "rock                  8.817366e+05  1.325153e+05   23.740250   1790.887500   \n",
      "trap                  9.533099e+05  2.763905e+05   94.119605   5131.852528   \n",
      "\n",
      "                       Popularity     Followers  Follow_Percent  Genre_Label  \n",
      "Genre                                                                         \n",
      "all-music             2483.473484  9.590876e+05        0.004782         21.0  \n",
      "alternativerock        931.769231  1.935528e+05        0.002356         17.0  \n",
      "ambient                955.501771  2.334866e+05        0.000223         14.0  \n",
      "classical             1141.687093  6.705102e+05        0.012071         13.0  \n",
      "country                712.821429  1.100058e+06        0.000515         10.0  \n",
      "danceedm               832.585207  6.588785e+05        0.003366          8.0  \n",
      "deephouse              307.310359  9.857645e+04        0.000684          2.0  \n",
      "disco                 1306.254011  5.688260e+05        0.000152         12.0  \n",
      "drumbass               224.774963  5.063995e+04        0.001331          1.0  \n",
      "dubstep               1098.828182  1.413230e+05        0.001151          7.0  \n",
      "electronic             660.408979  3.440219e+05        0.003806          5.0  \n",
      "folksingersongwriter   455.307692  5.625203e+04        0.000348         15.0  \n",
      "hiphoprap             5034.680000  2.282266e+05        0.006403         20.0  \n",
      "indie                 4087.909091  9.573300e+04        0.001506         19.0  \n",
      "latin                   91.821350  8.206697e+03        0.001942          6.0  \n",
      "metal                   91.977055  5.068780e+05        0.000030          3.0  \n",
      "pop                    654.205372  4.632068e+05        0.009521         11.0  \n",
      "rbsoul                 898.053410  2.086810e+05        0.000864         16.0  \n",
      "reggaeton              393.418182  7.825273e+03        0.006053         18.0  \n",
      "rock                   118.103750  4.390827e+05        0.008503          4.0  \n",
      "trap                   876.796301  1.708184e+05        0.003365          9.0  \n"
     ]
    }
   ],
   "source": [
    "# # Distribution of features by Genre\n",
    "# df_mean = df.groupby('Genre').mean()\n",
    "# print(df_mean)"
   ]
  },
  {
   "cell_type": "code",
   "execution_count": 429,
   "metadata": {},
   "outputs": [
    {
     "name": "stdout",
     "output_type": "stream",
     "text": [
      "   Unique_ID              Name     Genre Country  \\\n",
      "0     413890         Hardstyle  danceedm      AU   \n",
      "1     249453        Dj Aladdin  danceedm      AU   \n",
      "2     681116  Maxximize On Air  danceedm      AU   \n",
      "3     387253       GR6 EXPLODE    rbsoul      AU   \n",
      "4    1428029          Tritonal  danceedm      AU   \n",
      "\n",
      "                                           Song_Name  \\\n",
      "0  N-Vitral presents BOMBSQUAD - Poison Spitter (...   \n",
      "1          Dj Aladdin - Old School Hip Hop Quick Mix   \n",
      "2  Maxximize On Air - Mixed by Blasterjaxx - Epis...   \n",
      "3                MC Yago - Tenho Compromisso (DJ R7)   \n",
      "4                         Escape (feat. Steph Jones)   \n",
      "\n",
      "                    Timestamp   Views  Comments   Likes  Popularity  Followers  \n",
      "0  2018-03-30 15:24:45.000000   14017         4   499.0        97.0     119563  \n",
      "1  2016-06-20 05:58:52.000000    1918        17    49.0        17.0       2141  \n",
      "2  2015-05-08 17:45:59.000000    9668        11   312.0        91.0      22248  \n",
      "3  2017-06-08 23:50:03.000000  113036         2  2400.0        76.0     393655  \n",
      "4  2016-09-17 20:50:19.000000  110024        81  3031.0       699.0     201030  \n"
     ]
    },
    {
     "data": {
      "text/html": [
       "<div>\n",
       "<style scoped>\n",
       "    .dataframe tbody tr th:only-of-type {\n",
       "        vertical-align: middle;\n",
       "    }\n",
       "\n",
       "    .dataframe tbody tr th {\n",
       "        vertical-align: top;\n",
       "    }\n",
       "\n",
       "    .dataframe thead th {\n",
       "        text-align: right;\n",
       "    }\n",
       "</style>\n",
       "<table border=\"1\" class=\"dataframe\">\n",
       "  <thead>\n",
       "    <tr style=\"text-align: right;\">\n",
       "      <th></th>\n",
       "      <th>Name</th>\n",
       "      <th>Views</th>\n",
       "      <th>Likes</th>\n",
       "      <th>Popularity</th>\n",
       "    </tr>\n",
       "  </thead>\n",
       "  <tbody>\n",
       "    <tr>\n",
       "      <th>0</th>\n",
       "      <td>Hardstyle</td>\n",
       "      <td>14017</td>\n",
       "      <td>499.0</td>\n",
       "      <td>97.0</td>\n",
       "    </tr>\n",
       "    <tr>\n",
       "      <th>1</th>\n",
       "      <td>Dj Aladdin</td>\n",
       "      <td>1918</td>\n",
       "      <td>49.0</td>\n",
       "      <td>17.0</td>\n",
       "    </tr>\n",
       "    <tr>\n",
       "      <th>2</th>\n",
       "      <td>Maxximize On Air</td>\n",
       "      <td>9668</td>\n",
       "      <td>312.0</td>\n",
       "      <td>91.0</td>\n",
       "    </tr>\n",
       "    <tr>\n",
       "      <th>3</th>\n",
       "      <td>GR6 EXPLODE</td>\n",
       "      <td>113036</td>\n",
       "      <td>2400.0</td>\n",
       "      <td>76.0</td>\n",
       "    </tr>\n",
       "    <tr>\n",
       "      <th>4</th>\n",
       "      <td>Tritonal</td>\n",
       "      <td>110024</td>\n",
       "      <td>3031.0</td>\n",
       "      <td>699.0</td>\n",
       "    </tr>\n",
       "  </tbody>\n",
       "</table>\n",
       "</div>"
      ],
      "text/plain": [
       "               Name   Views   Likes  Popularity\n",
       "0         Hardstyle   14017   499.0        97.0\n",
       "1        Dj Aladdin    1918    49.0        17.0\n",
       "2  Maxximize On Air    9668   312.0        91.0\n",
       "3       GR6 EXPLODE  113036  2400.0        76.0\n",
       "4          Tritonal  110024  3031.0       699.0"
      ]
     },
     "execution_count": 429,
     "metadata": {},
     "output_type": "execute_result"
    }
   ],
   "source": [
    "#Correlation matrix\n",
    "print(df.head())\n",
    "df.drop(['Unique_ID','Genre','Country','Timestamp','Song_Name','Followers','Comments'],inplace = True, axis = 1)\n",
    "df.head()\n"
   ]
  },
  {
   "cell_type": "code",
   "execution_count": 445,
   "metadata": {},
   "outputs": [
    {
     "data": {
      "text/html": [
       "<div>\n",
       "<style scoped>\n",
       "    .dataframe tbody tr th:only-of-type {\n",
       "        vertical-align: middle;\n",
       "    }\n",
       "\n",
       "    .dataframe tbody tr th {\n",
       "        vertical-align: top;\n",
       "    }\n",
       "\n",
       "    .dataframe thead th {\n",
       "        text-align: right;\n",
       "    }\n",
       "</style>\n",
       "<table border=\"1\" class=\"dataframe\">\n",
       "  <thead>\n",
       "    <tr style=\"text-align: right;\">\n",
       "      <th></th>\n",
       "      <th>Name</th>\n",
       "      <th>Views</th>\n",
       "      <th>Likes</th>\n",
       "      <th>Popularity</th>\n",
       "    </tr>\n",
       "  </thead>\n",
       "  <tbody>\n",
       "  </tbody>\n",
       "</table>\n",
       "</div>"
      ],
      "text/plain": [
       "Empty DataFrame\n",
       "Columns: [Name, Views, Likes, Popularity]\n",
       "Index: []"
      ]
     },
     "execution_count": 445,
     "metadata": {},
     "output_type": "execute_result"
    }
   ],
   "source": [
    "df[df['Name']=='$𝑈𝐼𝐶𝐼𝐷𝐸𝐵𝑂𝑌$'].COUNT()"
   ]
  },
  {
   "cell_type": "code",
   "execution_count": 453,
   "metadata": {},
   "outputs": [],
   "source": [
    "df.groupby(['Name']).mean().to_csv('Understanding_View_Likes_Popularity')"
   ]
  },
  {
   "cell_type": "code",
   "execution_count": 456,
   "metadata": {},
   "outputs": [],
   "source": [
    "df[['Likes','Name']].groupby(['Name']).min().to_csv('Understanding_min_likes')"
   ]
  },
  {
   "cell_type": "code",
   "execution_count": 457,
   "metadata": {},
   "outputs": [],
   "source": [
    "df[['Likes','Name']].groupby(['Name']).max().to_csv('Understanding_max_likes.csv')"
   ]
  },
  {
   "cell_type": "code",
   "execution_count": 454,
   "metadata": {},
   "outputs": [],
   "source": [
    "df.groupby(['Name']).count().to_csv('Understanding_Number_Of_Videos.csv')"
   ]
  },
  {
   "cell_type": "code",
   "execution_count": 370,
   "metadata": {},
   "outputs": [],
   "source": [
    "df.to_csv('Test_1.csv')\n",
    "# df.drop(['Popularity'],inplace = True, axis = 1)"
   ]
  },
  {
   "cell_type": "code",
   "execution_count": 371,
   "metadata": {
    "scrolled": true
   },
   "outputs": [
    {
     "name": "stdout",
     "output_type": "stream",
     "text": [
      "      Likes  Popularity  Follow_Percent     Views  Genre_Label\n",
      "0 -0.157700   -0.171261       -0.059852   14017.0          8.0\n",
      "1 -0.166227   -0.187892        0.070172    1918.0          8.0\n",
      "2 -0.161243   -0.172509       -0.052271    9668.0          8.0\n",
      "3 -0.121678   -0.175627       -0.060319  113036.0         16.0\n",
      "4 -0.109722   -0.046114       -0.053776  110024.0          8.0\n"
     ]
    }
   ],
   "source": [
    "#Standard scaling\n",
    "from sklearn.preprocessing import StandardScaler\n",
    "from sklearn.compose import ColumnTransformer\n",
    "sc_x = StandardScaler()\n",
    "ct = ColumnTransformer([\n",
    "         ('somename', StandardScaler(), ['Likes','Popularity','Follow_Percent'])\n",
    "       ], remainder='passthrough')\n",
    "df = ct.fit_transform(df)\n",
    "df = pd.DataFrame(df,columns=['Likes','Popularity','Follow_Percent','Views','Genre_Label'])\n",
    "print(df.head())"
   ]
  },
  {
   "cell_type": "code",
   "execution_count": 372,
   "metadata": {},
   "outputs": [
    {
     "data": {
      "text/html": [
       "<div>\n",
       "<style scoped>\n",
       "    .dataframe tbody tr th:only-of-type {\n",
       "        vertical-align: middle;\n",
       "    }\n",
       "\n",
       "    .dataframe tbody tr th {\n",
       "        vertical-align: top;\n",
       "    }\n",
       "\n",
       "    .dataframe thead th {\n",
       "        text-align: right;\n",
       "    }\n",
       "</style>\n",
       "<table border=\"1\" class=\"dataframe\">\n",
       "  <thead>\n",
       "    <tr style=\"text-align: right;\">\n",
       "      <th></th>\n",
       "      <th>gen_0</th>\n",
       "      <th>gen_1</th>\n",
       "      <th>gen_2</th>\n",
       "      <th>gen_3</th>\n",
       "      <th>gen_4</th>\n",
       "      <th>gen_5</th>\n",
       "      <th>gen_6</th>\n",
       "      <th>gen_7</th>\n",
       "      <th>gen_8</th>\n",
       "      <th>gen_9</th>\n",
       "      <th>...</th>\n",
       "      <th>gen_11</th>\n",
       "      <th>gen_12</th>\n",
       "      <th>gen_13</th>\n",
       "      <th>gen_14</th>\n",
       "      <th>gen_15</th>\n",
       "      <th>gen_16</th>\n",
       "      <th>gen_17</th>\n",
       "      <th>gen_18</th>\n",
       "      <th>gen_19</th>\n",
       "      <th>gen_20</th>\n",
       "    </tr>\n",
       "  </thead>\n",
       "  <tbody>\n",
       "    <tr>\n",
       "      <th>0</th>\n",
       "      <td>0.0</td>\n",
       "      <td>0.0</td>\n",
       "      <td>0.0</td>\n",
       "      <td>0.0</td>\n",
       "      <td>0.0</td>\n",
       "      <td>0.0</td>\n",
       "      <td>0.0</td>\n",
       "      <td>1.0</td>\n",
       "      <td>0.0</td>\n",
       "      <td>0.0</td>\n",
       "      <td>...</td>\n",
       "      <td>0.0</td>\n",
       "      <td>0.0</td>\n",
       "      <td>0.0</td>\n",
       "      <td>0.0</td>\n",
       "      <td>0.0</td>\n",
       "      <td>0.0</td>\n",
       "      <td>0.0</td>\n",
       "      <td>0.0</td>\n",
       "      <td>0.0</td>\n",
       "      <td>0.0</td>\n",
       "    </tr>\n",
       "    <tr>\n",
       "      <th>1</th>\n",
       "      <td>0.0</td>\n",
       "      <td>0.0</td>\n",
       "      <td>0.0</td>\n",
       "      <td>0.0</td>\n",
       "      <td>0.0</td>\n",
       "      <td>0.0</td>\n",
       "      <td>0.0</td>\n",
       "      <td>1.0</td>\n",
       "      <td>0.0</td>\n",
       "      <td>0.0</td>\n",
       "      <td>...</td>\n",
       "      <td>0.0</td>\n",
       "      <td>0.0</td>\n",
       "      <td>0.0</td>\n",
       "      <td>0.0</td>\n",
       "      <td>0.0</td>\n",
       "      <td>0.0</td>\n",
       "      <td>0.0</td>\n",
       "      <td>0.0</td>\n",
       "      <td>0.0</td>\n",
       "      <td>0.0</td>\n",
       "    </tr>\n",
       "    <tr>\n",
       "      <th>2</th>\n",
       "      <td>0.0</td>\n",
       "      <td>0.0</td>\n",
       "      <td>0.0</td>\n",
       "      <td>0.0</td>\n",
       "      <td>0.0</td>\n",
       "      <td>0.0</td>\n",
       "      <td>0.0</td>\n",
       "      <td>1.0</td>\n",
       "      <td>0.0</td>\n",
       "      <td>0.0</td>\n",
       "      <td>...</td>\n",
       "      <td>0.0</td>\n",
       "      <td>0.0</td>\n",
       "      <td>0.0</td>\n",
       "      <td>0.0</td>\n",
       "      <td>0.0</td>\n",
       "      <td>0.0</td>\n",
       "      <td>0.0</td>\n",
       "      <td>0.0</td>\n",
       "      <td>0.0</td>\n",
       "      <td>0.0</td>\n",
       "    </tr>\n",
       "    <tr>\n",
       "      <th>3</th>\n",
       "      <td>0.0</td>\n",
       "      <td>0.0</td>\n",
       "      <td>0.0</td>\n",
       "      <td>0.0</td>\n",
       "      <td>0.0</td>\n",
       "      <td>0.0</td>\n",
       "      <td>0.0</td>\n",
       "      <td>0.0</td>\n",
       "      <td>0.0</td>\n",
       "      <td>0.0</td>\n",
       "      <td>...</td>\n",
       "      <td>0.0</td>\n",
       "      <td>0.0</td>\n",
       "      <td>0.0</td>\n",
       "      <td>0.0</td>\n",
       "      <td>1.0</td>\n",
       "      <td>0.0</td>\n",
       "      <td>0.0</td>\n",
       "      <td>0.0</td>\n",
       "      <td>0.0</td>\n",
       "      <td>0.0</td>\n",
       "    </tr>\n",
       "    <tr>\n",
       "      <th>4</th>\n",
       "      <td>0.0</td>\n",
       "      <td>0.0</td>\n",
       "      <td>0.0</td>\n",
       "      <td>0.0</td>\n",
       "      <td>0.0</td>\n",
       "      <td>0.0</td>\n",
       "      <td>0.0</td>\n",
       "      <td>1.0</td>\n",
       "      <td>0.0</td>\n",
       "      <td>0.0</td>\n",
       "      <td>...</td>\n",
       "      <td>0.0</td>\n",
       "      <td>0.0</td>\n",
       "      <td>0.0</td>\n",
       "      <td>0.0</td>\n",
       "      <td>0.0</td>\n",
       "      <td>0.0</td>\n",
       "      <td>0.0</td>\n",
       "      <td>0.0</td>\n",
       "      <td>0.0</td>\n",
       "      <td>0.0</td>\n",
       "    </tr>\n",
       "  </tbody>\n",
       "</table>\n",
       "<p>5 rows × 21 columns</p>\n",
       "</div>"
      ],
      "text/plain": [
       "   gen_0  gen_1  gen_2  gen_3  gen_4  gen_5  gen_6  gen_7  gen_8  gen_9  ...  \\\n",
       "0    0.0    0.0    0.0    0.0    0.0    0.0    0.0    1.0    0.0    0.0  ...   \n",
       "1    0.0    0.0    0.0    0.0    0.0    0.0    0.0    1.0    0.0    0.0  ...   \n",
       "2    0.0    0.0    0.0    0.0    0.0    0.0    0.0    1.0    0.0    0.0  ...   \n",
       "3    0.0    0.0    0.0    0.0    0.0    0.0    0.0    0.0    0.0    0.0  ...   \n",
       "4    0.0    0.0    0.0    0.0    0.0    0.0    0.0    1.0    0.0    0.0  ...   \n",
       "\n",
       "   gen_11  gen_12  gen_13  gen_14  gen_15  gen_16  gen_17  gen_18  gen_19  \\\n",
       "0     0.0     0.0     0.0     0.0     0.0     0.0     0.0     0.0     0.0   \n",
       "1     0.0     0.0     0.0     0.0     0.0     0.0     0.0     0.0     0.0   \n",
       "2     0.0     0.0     0.0     0.0     0.0     0.0     0.0     0.0     0.0   \n",
       "3     0.0     0.0     0.0     0.0     1.0     0.0     0.0     0.0     0.0   \n",
       "4     0.0     0.0     0.0     0.0     0.0     0.0     0.0     0.0     0.0   \n",
       "\n",
       "   gen_20  \n",
       "0     0.0  \n",
       "1     0.0  \n",
       "2     0.0  \n",
       "3     0.0  \n",
       "4     0.0  \n",
       "\n",
       "[5 rows x 21 columns]"
      ]
     },
     "execution_count": 372,
     "metadata": {},
     "output_type": "execute_result"
    }
   ],
   "source": [
    "from sklearn.preprocessing import LabelEncoder,OneHotEncoder\n",
    "# Converting Genre_Label and Name_Label to labelencoding\n",
    "labelencoder = LabelEncoder()\n",
    "genreoneHotEncoder = OneHotEncoder(categories='auto')\n",
    "nameoneHotEncoder = OneHotEncoder(categories='auto')\n",
    "genre_transformed_data = genreoneHotEncoder.fit_transform((df['Genre_Label'].values).reshape(-1,1))\n",
    "genre_hashed_features = pd.DataFrame( genre_transformed_data.toarray()).add_prefix('gen_')\n",
    "genre_hashed_features.head()\n",
    "\n",
    "# oneHotEncoder = OneHotEncoder(categories='auto')\n",
    "# name_transformed_data = nameoneHotEncoder.fit_transform((df['Name_Label'].values).reshape(-1,1))\n",
    "# name_hashed_features = pd.DataFrame( name_transformed_data.toarray()).add_prefix('name_')\n",
    "# name_hashed_features.head()"
   ]
  },
  {
   "cell_type": "code",
   "execution_count": 373,
   "metadata": {},
   "outputs": [
    {
     "name": "stdout",
     "output_type": "stream",
     "text": [
      "(78458, 21)\n"
     ]
    }
   ],
   "source": [
    "print(genre_hashed_features.shape)\n",
    "# print(name_hashed_features.shape)"
   ]
  },
  {
   "cell_type": "code",
   "execution_count": 374,
   "metadata": {},
   "outputs": [
    {
     "name": "stdout",
     "output_type": "stream",
     "text": [
      "(78458, 26)\n"
     ]
    }
   ],
   "source": [
    "# df = df.join(name_hashed_features)\n",
    "df = df.join(genre_hashed_features)\n",
    "print(df.shape)\n",
    "df['Likes'] = df['Likes'].apply(pd.to_numeric, errors='coerce')\n",
    "# df['Popularity'] = df['Popularity'].apply(pd.to_numeric, errors='coerce')"
   ]
  },
  {
   "cell_type": "code",
   "execution_count": 375,
   "metadata": {},
   "outputs": [],
   "source": [
    "# df = df[df['Likes'] <10 ]\n",
    "# df = df[df['Popularity'] <10 ]"
   ]
  },
  {
   "cell_type": "code",
   "execution_count": 376,
   "metadata": {},
   "outputs": [
    {
     "data": {
      "text/plain": [
       "<matplotlib.axes._subplots.AxesSubplot at 0x1b0ce27ce48>"
      ]
     },
     "execution_count": 376,
     "metadata": {},
     "output_type": "execute_result"
    },
    {
     "data": {
      "image/png": "[encoded data removed]",
      "text/plain": [
       "<Figure size 432x288 with 1 Axes>"
      ]
     },
     "metadata": {
      "needs_background": "light"
     },
     "output_type": "display_data"
    }
   ],
   "source": [
    "y = df['Views']\n",
    "df.drop(['Views','Genre_Label'],inplace=True,axis=1)\n",
    "y.plot.hist()"
   ]
  },
  {
   "cell_type": "code",
   "execution_count": 377,
   "metadata": {
    "scrolled": true
   },
   "outputs": [],
   "source": [
    "# df.plot.hist()"
   ]
  },
  {
   "cell_type": "code",
   "execution_count": 378,
   "metadata": {},
   "outputs": [],
   "source": [
    "# df.isnull().sum()\n"
   ]
  },
  {
   "cell_type": "code",
   "execution_count": 379,
   "metadata": {
    "scrolled": false
   },
   "outputs": [],
   "source": [
    "from sklearn.model_selection import train_test_split\n",
    "#print(df_scaled)\n",
    "# split data into train and test sets\n",
    "X_train, X_test, y_train, y_test = train_test_split(df, y, test_size=.2, random_state=205)"
   ]
  },
  {
   "cell_type": "code",
   "execution_count": 380,
   "metadata": {},
   "outputs": [
    {
     "name": "stderr",
     "output_type": "stream",
     "text": [
      "d:\\applnsanaconda3\\envs\\hackathon\\lib\\site-packages\\xgboost\\core.py:587: FutureWarning: Series.base is deprecated and will be removed in a future version\n",
      "  if getattr(data, 'base', None) is not None and \\\n"
     ]
    },
    {
     "name": "stdout",
     "output_type": "stream",
     "text": [
      "[18:54:16] WARNING: C:/Jenkins/workspace/xgboost-win64_release_0.90/src/objective/regression_obj.cu:152: reg:linear is now deprecated in favor of reg:squarederror.\n",
      "[0]\tvalidation_0-rmse:3.49945e+06\n",
      "[1]\tvalidation_0-rmse:3.18791e+06\n",
      "[2]\tvalidation_0-rmse:2.9255e+06\n",
      "[3]\tvalidation_0-rmse:2.67708e+06\n",
      "[4]\tvalidation_0-rmse:2.44818e+06\n",
      "[5]\tvalidation_0-rmse:2.25436e+06\n",
      "[6]\tvalidation_0-rmse:2.0808e+06\n",
      "[7]\tvalidation_0-rmse:1.92377e+06\n",
      "[8]\tvalidation_0-rmse:1.78549e+06\n",
      "[9]\tvalidation_0-rmse:1.66981e+06\n",
      "[10]\tvalidation_0-rmse:1.56861e+06\n",
      "[11]\tvalidation_0-rmse:1.48069e+06\n",
      "[12]\tvalidation_0-rmse:1.39755e+06\n",
      "[13]\tvalidation_0-rmse:1.32158e+06\n",
      "[14]\tvalidation_0-rmse:1.2613e+06\n",
      "[15]\tvalidation_0-rmse:1.20429e+06\n",
      "[16]\tvalidation_0-rmse:1.15446e+06\n",
      "[17]\tvalidation_0-rmse:1.11115e+06\n",
      "[18]\tvalidation_0-rmse:1.0745e+06\n",
      "[19]\tvalidation_0-rmse:1.04565e+06\n",
      "[20]\tvalidation_0-rmse:1.01897e+06\n",
      "[21]\tvalidation_0-rmse:995150\n",
      "[22]\tvalidation_0-rmse:975655\n",
      "[23]\tvalidation_0-rmse:957899\n",
      "[24]\tvalidation_0-rmse:945843\n",
      "[25]\tvalidation_0-rmse:933935\n",
      "[26]\tvalidation_0-rmse:923410\n",
      "[27]\tvalidation_0-rmse:914033\n",
      "[28]\tvalidation_0-rmse:907093\n",
      "[29]\tvalidation_0-rmse:902596\n",
      "[30]\tvalidation_0-rmse:897606\n",
      "[31]\tvalidation_0-rmse:893149\n",
      "[32]\tvalidation_0-rmse:886351\n",
      "[33]\tvalidation_0-rmse:883601\n",
      "[34]\tvalidation_0-rmse:881464\n",
      "[35]\tvalidation_0-rmse:878768\n",
      "[36]\tvalidation_0-rmse:877431\n",
      "[37]\tvalidation_0-rmse:876357\n",
      "[38]\tvalidation_0-rmse:875540\n",
      "[39]\tvalidation_0-rmse:873898\n",
      "[40]\tvalidation_0-rmse:872998\n",
      "[41]\tvalidation_0-rmse:870898\n",
      "[42]\tvalidation_0-rmse:870230\n",
      "[43]\tvalidation_0-rmse:869659\n",
      "[44]\tvalidation_0-rmse:868727\n",
      "[45]\tvalidation_0-rmse:869093\n",
      "[46]\tvalidation_0-rmse:868903\n",
      "[47]\tvalidation_0-rmse:868302\n",
      "[48]\tvalidation_0-rmse:868611\n",
      "[49]\tvalidation_0-rmse:868305\n",
      "[50]\tvalidation_0-rmse:866868\n",
      "[51]\tvalidation_0-rmse:866866\n",
      "[52]\tvalidation_0-rmse:866236\n",
      "[53]\tvalidation_0-rmse:866234\n",
      "[54]\tvalidation_0-rmse:865674\n",
      "[55]\tvalidation_0-rmse:867408\n",
      "[56]\tvalidation_0-rmse:867408\n",
      "[57]\tvalidation_0-rmse:868890\n",
      "[58]\tvalidation_0-rmse:868672\n",
      "[59]\tvalidation_0-rmse:868672\n",
      "[60]\tvalidation_0-rmse:868433\n",
      "[61]\tvalidation_0-rmse:869299\n",
      "[62]\tvalidation_0-rmse:869298\n",
      "[63]\tvalidation_0-rmse:869122\n",
      "[64]\tvalidation_0-rmse:869122\n",
      "[65]\tvalidation_0-rmse:869122\n",
      "[66]\tvalidation_0-rmse:870858\n",
      "[67]\tvalidation_0-rmse:870490\n",
      "[68]\tvalidation_0-rmse:870490\n",
      "[69]\tvalidation_0-rmse:869966\n",
      "[70]\tvalidation_0-rmse:869817\n",
      "[71]\tvalidation_0-rmse:870458\n",
      "[72]\tvalidation_0-rmse:870461\n",
      "[73]\tvalidation_0-rmse:870461\n",
      "[74]\tvalidation_0-rmse:869995\n",
      "[75]\tvalidation_0-rmse:869996\n",
      "[76]\tvalidation_0-rmse:869866\n",
      "[77]\tvalidation_0-rmse:871787\n",
      "[78]\tvalidation_0-rmse:873443\n",
      "[79]\tvalidation_0-rmse:873443\n",
      "[80]\tvalidation_0-rmse:873289\n",
      "[81]\tvalidation_0-rmse:873289\n",
      "[82]\tvalidation_0-rmse:873289\n",
      "[83]\tvalidation_0-rmse:873157\n",
      "[84]\tvalidation_0-rmse:872819\n",
      "[85]\tvalidation_0-rmse:872380\n",
      "[86]\tvalidation_0-rmse:872381\n",
      "[87]\tvalidation_0-rmse:872258\n",
      "[88]\tvalidation_0-rmse:872228\n",
      "[89]\tvalidation_0-rmse:872228\n",
      "[90]\tvalidation_0-rmse:872222\n",
      "[91]\tvalidation_0-rmse:872613\n",
      "[92]\tvalidation_0-rmse:872308\n",
      "[93]\tvalidation_0-rmse:872095\n",
      "[94]\tvalidation_0-rmse:871883\n",
      "[95]\tvalidation_0-rmse:871928\n",
      "[96]\tvalidation_0-rmse:871928\n",
      "[97]\tvalidation_0-rmse:871928\n",
      "[98]\tvalidation_0-rmse:871552\n",
      "[99]\tvalidation_0-rmse:872047\n",
      "RMSE - XGBoost regression:  872090.5825802509\n"
     ]
    }
   ],
   "source": [
    "#XGB Boost regression\n",
    "import xgboost as xgb\n",
    "from sklearn import metrics\n",
    "xlf = xgb.XGBRegressor()\n",
    "xlf.fit(X_train, y_train, eval_metric='rmse', verbose = True, eval_set = [(X_test, y_test)])\n",
    "# calculate the auc score\n",
    "y_pred = xlf.predict(X_test)\n",
    "#RMSE - Test\n",
    "print(\"RMSE - XGBoost regression: \", np.sqrt(metrics.mean_squared_error(y_test,y_pred)))\n"
   ]
  },
  {
   "cell_type": "code",
   "execution_count": 381,
   "metadata": {},
   "outputs": [
    {
     "name": "stdout",
     "output_type": "stream",
     "text": [
      "RMSE - Linear regression:  890003.3635180685\n"
     ]
    }
   ],
   "source": [
    "#Implementing Linear Regression\n",
    "from sklearn.linear_model import LinearRegression\n",
    "from sklearn import metrics\n",
    "\n",
    "linear = LinearRegression()\n",
    "linear.fit(X_train, y_train)\n",
    "y_pred = linear.predict(X_test)\n",
    "print(\"RMSE - Linear regression: \", np.sqrt(metrics.mean_squared_error(y_test,y_pred)))\n"
   ]
  },
  {
   "cell_type": "code",
   "execution_count": 397,
   "metadata": {},
   "outputs": [
    {
     "name": "stdout",
     "output_type": "stream",
     "text": [
      "(19615, 10)\n"
     ]
    }
   ],
   "source": [
    "import pandas as pd\n",
    "# In[83]:\n",
    "df = pd.read_csv('Data_Test.csv')\n",
    "df.head(10)\n",
    "print(df.shape)"
   ]
  },
  {
   "cell_type": "code",
   "execution_count": 398,
   "metadata": {},
   "outputs": [],
   "source": [
    "#Replace K, M, B\n",
    "def value_to_float(x):\n",
    "    if type(x) == float or type(x) == int:\n",
    "        return x\n",
    "    if 'K' in x:\n",
    "        if len(x) > 1:\n",
    "            return float(x.replace('K', '')) * 1000\n",
    "        return 1000.0\n",
    "    if 'M' in x:\n",
    "        if len(x) > 1:\n",
    "            return float(x.replace('M', '')) * 1000000\n",
    "        return 1000000.0\n",
    "    if 'B' in x:\n",
    "        return float(x.replace('B', '')) * 1000000000\n",
    "    if ',' in x:\n",
    "        return float(x.replace(',', '')) \n",
    "    return float(x)\n",
    "\n",
    "df.Likes = df.Likes.apply(value_to_float)\n",
    "df.Popularity = df.Popularity.apply(value_to_float)"
   ]
  },
  {
   "cell_type": "code",
   "execution_count": 384,
   "metadata": {},
   "outputs": [],
   "source": [
    "df.to_csv('Data_Test_Transformed.csv')"
   ]
  },
  {
   "cell_type": "code",
   "execution_count": 399,
   "metadata": {},
   "outputs": [],
   "source": [
    "#df.dtypes\n",
    "df['Likes'] = df['Likes'].astype('float64')\n",
    "df['Popularity'] = df['Popularity'].astype('float64')\n",
    "df['Follow_Percent'] = df['Comments'] / df['Followers']"
   ]
  },
  {
   "cell_type": "code",
   "execution_count": 386,
   "metadata": {},
   "outputs": [],
   "source": [
    "# #Labels\n",
    "# import numpy as np\n",
    "# # bins = [-1,0,10,20,30,40,50,60,70,80,90,100,125,150,175,200,300,400,500,600,650,700,750,800,900,950,1000,1500,2000,3000,4000,5000,6000,7000,8000,9000,10000,15000,17500,20000,22500,\n",
    "# #         25000,30000,35000,45000,50000,55000,60000,65000,70000,75000,80000,85000,90000,95000,100000,120000,140000,160000,\n",
    "# #         180000,200000,240000,300000,360000,np.inf]\n",
    "# # names = [1,2,3,4,5,6,7,8,9,10,11,12,13,14,15,16,17,18,19,20,21,22,23,24,25,26,27,28,29,30,31,32,33,34,35,36,37,\n",
    "# # #          38,39,40,41,42,43,44,45,46,47,48,49,50,51,52,53,54,55,56,57,58,59,60,61,62,63,64]\n",
    "# # bins = [-1,0.1,4,10,20,30,50,75,100,125,150,175,200,230,270,300,330,370,400,450,500,600,650,700,750,800,850,950,1000,1200,1400,1600,\n",
    "# #         1800,2000,2300,2700,3000,3500,4000,5000,6000,7000,8000,10000,15000,\n",
    "# #         20000,40000,60000,100000,np.inf]\n",
    "# # names = [1,2,3,4,5,6,7,8,9,10,11,12,13,14,15,16,17,18,19,20,21,22,23,24,25,26,27,28,29,30,31,32,33,34,35,36,37,\n",
    "# #          38,39,40,41,42,43,44,45,46,47,48,49]\n",
    "# bins = [-1,50,100,300,500,1000,2500,4000,10000,np.inf]\n",
    "# names = [1,2,3,4,5,6,7,8,9]\n",
    "\n",
    "# df['Name_Label'] = pd.cut(df['Likes'], bins, labels=names)"
   ]
  },
  {
   "cell_type": "code",
   "execution_count": 400,
   "metadata": {},
   "outputs": [],
   "source": [
    "#Labels\n",
    "df['Genre_Label'] = df['Genre'].map({'drumbass':1, 'deephouse':2,'metal':3, 'rock':4, 'electronic':5,\n",
    "                                     'latin':6, 'dubstep':7, 'danceedm':8, 'trap':9, 'country':10,\n",
    "                                     'pop':11, 'disco':12, 'classical':13, 'ambient':14, 'folksingersongwriter':15,\n",
    "                                     'rbsoul':16, 'alternativerock':17, 'reggaeton':18, 'indie':19, 'hiphoprap':20,'all-music':21})"
   ]
  },
  {
   "cell_type": "code",
   "execution_count": 401,
   "metadata": {},
   "outputs": [],
   "source": [
    "#Correlation matrix\n",
    "df.drop(['Unique_ID','Name','Genre','Country','Timestamp','Song_Name','Followers','Comments'],inplace = True, axis = 1)"
   ]
  },
  {
   "cell_type": "code",
   "execution_count": 402,
   "metadata": {
    "scrolled": true
   },
   "outputs": [
    {
     "data": {
      "text/html": [
       "<div>\n",
       "<style scoped>\n",
       "    .dataframe tbody tr th:only-of-type {\n",
       "        vertical-align: middle;\n",
       "    }\n",
       "\n",
       "    .dataframe tbody tr th {\n",
       "        vertical-align: top;\n",
       "    }\n",
       "\n",
       "    .dataframe thead th {\n",
       "        text-align: right;\n",
       "    }\n",
       "</style>\n",
       "<table border=\"1\" class=\"dataframe\">\n",
       "  <thead>\n",
       "    <tr style=\"text-align: right;\">\n",
       "      <th></th>\n",
       "      <th>Likes</th>\n",
       "      <th>Popularity</th>\n",
       "      <th>Follow_Percent</th>\n",
       "      <th>Genre_Label</th>\n",
       "    </tr>\n",
       "  </thead>\n",
       "  <tbody>\n",
       "    <tr>\n",
       "      <th>0</th>\n",
       "      <td>5428.0</td>\n",
       "      <td>118.0</td>\n",
       "      <td>0.010125</td>\n",
       "      <td>21</td>\n",
       "    </tr>\n",
       "    <tr>\n",
       "      <th>1</th>\n",
       "      <td>738.0</td>\n",
       "      <td>195.0</td>\n",
       "      <td>0.000116</td>\n",
       "      <td>8</td>\n",
       "    </tr>\n",
       "    <tr>\n",
       "      <th>2</th>\n",
       "      <td>386.0</td>\n",
       "      <td>96.0</td>\n",
       "      <td>0.000611</td>\n",
       "      <td>8</td>\n",
       "    </tr>\n",
       "    <tr>\n",
       "      <th>3</th>\n",
       "      <td>388.0</td>\n",
       "      <td>19.0</td>\n",
       "      <td>0.000001</td>\n",
       "      <td>21</td>\n",
       "    </tr>\n",
       "    <tr>\n",
       "      <th>4</th>\n",
       "      <td>79.0</td>\n",
       "      <td>1.0</td>\n",
       "      <td>0.000000</td>\n",
       "      <td>4</td>\n",
       "    </tr>\n",
       "  </tbody>\n",
       "</table>\n",
       "</div>"
      ],
      "text/plain": [
       "    Likes  Popularity  Follow_Percent  Genre_Label\n",
       "0  5428.0       118.0        0.010125           21\n",
       "1   738.0       195.0        0.000116            8\n",
       "2   386.0        96.0        0.000611            8\n",
       "3   388.0        19.0        0.000001           21\n",
       "4    79.0         1.0        0.000000            4"
      ]
     },
     "execution_count": 402,
     "metadata": {},
     "output_type": "execute_result"
    }
   ],
   "source": [
    "df = pd.DataFrame(df)\n",
    "df.head()"
   ]
  },
  {
   "cell_type": "code",
   "execution_count": 405,
   "metadata": {},
   "outputs": [
    {
     "name": "stdout",
     "output_type": "stream",
     "text": [
      "      Likes  Popularity  Follow_Percent  Genre_Label\n",
      "0 -0.068006   -0.166740        0.075937         21.0\n",
      "1 -0.158250   -0.151475       -0.056263          8.0\n",
      "2 -0.165023   -0.171102       -0.049716          8.0\n",
      "3 -0.164984   -0.186368       -0.057774         21.0\n",
      "4 -0.170930   -0.189936       -0.057790          4.0\n"
     ]
    }
   ],
   "source": [
    "# Standard scaling\n",
    "from sklearn.preprocessing import StandardScaler\n",
    "from sklearn.compose import ColumnTransformer\n",
    "sc_x = StandardScaler()\n",
    "\n",
    "ct = ColumnTransformer([\n",
    "         ('somename', StandardScaler(), ['Likes','Popularity','Follow_Percent'])\n",
    "       ], remainder='passthrough')\n",
    "df = ct.fit_transform(df)\n",
    "df = pd.DataFrame(df,columns=['Likes','Popularity','Follow_Percent','Genre_Label'])\n",
    "\n",
    "\n",
    "print(df.head())"
   ]
  },
  {
   "cell_type": "code",
   "execution_count": 406,
   "metadata": {},
   "outputs": [
    {
     "data": {
      "text/html": [
       "<div>\n",
       "<style scoped>\n",
       "    .dataframe tbody tr th:only-of-type {\n",
       "        vertical-align: middle;\n",
       "    }\n",
       "\n",
       "    .dataframe tbody tr th {\n",
       "        vertical-align: top;\n",
       "    }\n",
       "\n",
       "    .dataframe thead th {\n",
       "        text-align: right;\n",
       "    }\n",
       "</style>\n",
       "<table border=\"1\" class=\"dataframe\">\n",
       "  <thead>\n",
       "    <tr style=\"text-align: right;\">\n",
       "      <th></th>\n",
       "      <th>gen_0</th>\n",
       "      <th>gen_1</th>\n",
       "      <th>gen_2</th>\n",
       "      <th>gen_3</th>\n",
       "      <th>gen_4</th>\n",
       "      <th>gen_5</th>\n",
       "      <th>gen_6</th>\n",
       "      <th>gen_7</th>\n",
       "      <th>gen_8</th>\n",
       "      <th>gen_9</th>\n",
       "      <th>...</th>\n",
       "      <th>gen_11</th>\n",
       "      <th>gen_12</th>\n",
       "      <th>gen_13</th>\n",
       "      <th>gen_14</th>\n",
       "      <th>gen_15</th>\n",
       "      <th>gen_16</th>\n",
       "      <th>gen_17</th>\n",
       "      <th>gen_18</th>\n",
       "      <th>gen_19</th>\n",
       "      <th>gen_20</th>\n",
       "    </tr>\n",
       "  </thead>\n",
       "  <tbody>\n",
       "    <tr>\n",
       "      <th>0</th>\n",
       "      <td>0.0</td>\n",
       "      <td>0.0</td>\n",
       "      <td>0.0</td>\n",
       "      <td>0.0</td>\n",
       "      <td>0.0</td>\n",
       "      <td>0.0</td>\n",
       "      <td>0.0</td>\n",
       "      <td>0.0</td>\n",
       "      <td>0.0</td>\n",
       "      <td>0.0</td>\n",
       "      <td>...</td>\n",
       "      <td>0.0</td>\n",
       "      <td>0.0</td>\n",
       "      <td>0.0</td>\n",
       "      <td>0.0</td>\n",
       "      <td>0.0</td>\n",
       "      <td>0.0</td>\n",
       "      <td>0.0</td>\n",
       "      <td>0.0</td>\n",
       "      <td>0.0</td>\n",
       "      <td>1.0</td>\n",
       "    </tr>\n",
       "    <tr>\n",
       "      <th>1</th>\n",
       "      <td>0.0</td>\n",
       "      <td>0.0</td>\n",
       "      <td>0.0</td>\n",
       "      <td>0.0</td>\n",
       "      <td>0.0</td>\n",
       "      <td>0.0</td>\n",
       "      <td>0.0</td>\n",
       "      <td>1.0</td>\n",
       "      <td>0.0</td>\n",
       "      <td>0.0</td>\n",
       "      <td>...</td>\n",
       "      <td>0.0</td>\n",
       "      <td>0.0</td>\n",
       "      <td>0.0</td>\n",
       "      <td>0.0</td>\n",
       "      <td>0.0</td>\n",
       "      <td>0.0</td>\n",
       "      <td>0.0</td>\n",
       "      <td>0.0</td>\n",
       "      <td>0.0</td>\n",
       "      <td>0.0</td>\n",
       "    </tr>\n",
       "    <tr>\n",
       "      <th>2</th>\n",
       "      <td>0.0</td>\n",
       "      <td>0.0</td>\n",
       "      <td>0.0</td>\n",
       "      <td>0.0</td>\n",
       "      <td>0.0</td>\n",
       "      <td>0.0</td>\n",
       "      <td>0.0</td>\n",
       "      <td>1.0</td>\n",
       "      <td>0.0</td>\n",
       "      <td>0.0</td>\n",
       "      <td>...</td>\n",
       "      <td>0.0</td>\n",
       "      <td>0.0</td>\n",
       "      <td>0.0</td>\n",
       "      <td>0.0</td>\n",
       "      <td>0.0</td>\n",
       "      <td>0.0</td>\n",
       "      <td>0.0</td>\n",
       "      <td>0.0</td>\n",
       "      <td>0.0</td>\n",
       "      <td>0.0</td>\n",
       "    </tr>\n",
       "    <tr>\n",
       "      <th>3</th>\n",
       "      <td>0.0</td>\n",
       "      <td>0.0</td>\n",
       "      <td>0.0</td>\n",
       "      <td>0.0</td>\n",
       "      <td>0.0</td>\n",
       "      <td>0.0</td>\n",
       "      <td>0.0</td>\n",
       "      <td>0.0</td>\n",
       "      <td>0.0</td>\n",
       "      <td>0.0</td>\n",
       "      <td>...</td>\n",
       "      <td>0.0</td>\n",
       "      <td>0.0</td>\n",
       "      <td>0.0</td>\n",
       "      <td>0.0</td>\n",
       "      <td>0.0</td>\n",
       "      <td>0.0</td>\n",
       "      <td>0.0</td>\n",
       "      <td>0.0</td>\n",
       "      <td>0.0</td>\n",
       "      <td>1.0</td>\n",
       "    </tr>\n",
       "    <tr>\n",
       "      <th>4</th>\n",
       "      <td>0.0</td>\n",
       "      <td>0.0</td>\n",
       "      <td>0.0</td>\n",
       "      <td>1.0</td>\n",
       "      <td>0.0</td>\n",
       "      <td>0.0</td>\n",
       "      <td>0.0</td>\n",
       "      <td>0.0</td>\n",
       "      <td>0.0</td>\n",
       "      <td>0.0</td>\n",
       "      <td>...</td>\n",
       "      <td>0.0</td>\n",
       "      <td>0.0</td>\n",
       "      <td>0.0</td>\n",
       "      <td>0.0</td>\n",
       "      <td>0.0</td>\n",
       "      <td>0.0</td>\n",
       "      <td>0.0</td>\n",
       "      <td>0.0</td>\n",
       "      <td>0.0</td>\n",
       "      <td>0.0</td>\n",
       "    </tr>\n",
       "  </tbody>\n",
       "</table>\n",
       "<p>5 rows × 21 columns</p>\n",
       "</div>"
      ],
      "text/plain": [
       "   gen_0  gen_1  gen_2  gen_3  gen_4  gen_5  gen_6  gen_7  gen_8  gen_9  ...  \\\n",
       "0    0.0    0.0    0.0    0.0    0.0    0.0    0.0    0.0    0.0    0.0  ...   \n",
       "1    0.0    0.0    0.0    0.0    0.0    0.0    0.0    1.0    0.0    0.0  ...   \n",
       "2    0.0    0.0    0.0    0.0    0.0    0.0    0.0    1.0    0.0    0.0  ...   \n",
       "3    0.0    0.0    0.0    0.0    0.0    0.0    0.0    0.0    0.0    0.0  ...   \n",
       "4    0.0    0.0    0.0    1.0    0.0    0.0    0.0    0.0    0.0    0.0  ...   \n",
       "\n",
       "   gen_11  gen_12  gen_13  gen_14  gen_15  gen_16  gen_17  gen_18  gen_19  \\\n",
       "0     0.0     0.0     0.0     0.0     0.0     0.0     0.0     0.0     0.0   \n",
       "1     0.0     0.0     0.0     0.0     0.0     0.0     0.0     0.0     0.0   \n",
       "2     0.0     0.0     0.0     0.0     0.0     0.0     0.0     0.0     0.0   \n",
       "3     0.0     0.0     0.0     0.0     0.0     0.0     0.0     0.0     0.0   \n",
       "4     0.0     0.0     0.0     0.0     0.0     0.0     0.0     0.0     0.0   \n",
       "\n",
       "   gen_20  \n",
       "0     1.0  \n",
       "1     0.0  \n",
       "2     0.0  \n",
       "3     1.0  \n",
       "4     0.0  \n",
       "\n",
       "[5 rows x 21 columns]"
      ]
     },
     "execution_count": 406,
     "metadata": {},
     "output_type": "execute_result"
    }
   ],
   "source": [
    "# from sklearn.preprocessing import LabelEncoder,OneHotEncoder\n",
    "# # Converting Genre_Label and Name_Label to labelencoding\n",
    "# labelencoder = LabelEncoder()\n",
    "# genreoneHotEncoder = OneHotEncoder(categories='auto')\n",
    "# nameoneHotEncoder = OneHotEncoder(categories='auto')\n",
    "genre_transformed_data = genreoneHotEncoder.transform((df['Genre_Label'].values).reshape(-1,1))\n",
    "genre_hashed_features = pd.DataFrame( genre_transformed_data.toarray()).add_prefix('gen_')\n",
    "genre_hashed_features.head()\n",
    "\n",
    "# # oneHotEncoder = OneHotEncoder(categories='auto')\n",
    "# name_transformed_data = nameoneHotEncoder.transform((df['Name_Label'].values).reshape(-1,1))\n",
    "# name_hashed_features = pd.DataFrame( name_transformed_data.toarray()).add_prefix('name_')\n",
    "# name_hashed_features.head()"
   ]
  },
  {
   "cell_type": "code",
   "execution_count": 407,
   "metadata": {},
   "outputs": [
    {
     "name": "stdout",
     "output_type": "stream",
     "text": [
      "(19615, 21)\n"
     ]
    }
   ],
   "source": [
    "print(genre_hashed_features.shape)\n",
    "# print(name_hashed_features.shape)"
   ]
  },
  {
   "cell_type": "code",
   "execution_count": 408,
   "metadata": {},
   "outputs": [
    {
     "name": "stdout",
     "output_type": "stream",
     "text": [
      "(19615, 25)\n"
     ]
    }
   ],
   "source": [
    "# df = df.join(name_hashed_features)\n",
    "df = df.join(genre_hashed_features)\n",
    "print(df.shape)\n",
    "df['Likes'] = df['Likes'].apply(pd.to_numeric, errors='coerce')\n",
    "# df['Popularity'] = df['Popularity'].apply(pd.to_numeric, errors='coerce')"
   ]
  },
  {
   "cell_type": "code",
   "execution_count": 409,
   "metadata": {},
   "outputs": [],
   "source": [
    "df.drop(['Genre_Label'],inplace=True,axis=1)"
   ]
  },
  {
   "cell_type": "code",
   "execution_count": 410,
   "metadata": {},
   "outputs": [
    {
     "data": {
      "text/plain": [
       "Likes             0\n",
       "Popularity        0\n",
       "Follow_Percent    0\n",
       "gen_0             0\n",
       "gen_1             0\n",
       "gen_2             0\n",
       "gen_3             0\n",
       "gen_4             0\n",
       "gen_5             0\n",
       "gen_6             0\n",
       "gen_7             0\n",
       "gen_8             0\n",
       "gen_9             0\n",
       "gen_10            0\n",
       "gen_11            0\n",
       "gen_12            0\n",
       "gen_13            0\n",
       "gen_14            0\n",
       "gen_15            0\n",
       "gen_16            0\n",
       "gen_17            0\n",
       "gen_18            0\n",
       "gen_19            0\n",
       "gen_20            0\n",
       "dtype: int64"
      ]
     },
     "execution_count": 410,
     "metadata": {},
     "output_type": "execute_result"
    }
   ],
   "source": [
    "df.isnull().sum()\n"
   ]
  },
  {
   "cell_type": "code",
   "execution_count": 412,
   "metadata": {},
   "outputs": [],
   "source": [
    "# calculate the auc score\n",
    "y_pred_1 = xlf.predict(df)\n",
    "y_pred_1 = pd.DataFrame(y_pred_1)\n",
    "y_pred_1.to_csv('Data_Test_Predicted_OneHotEncode_Genre_Comments_Linear_Regression.csv',sep='#')"
   ]
  },
  {
   "cell_type": "code",
   "execution_count": null,
   "metadata": {},
   "outputs": [],
   "source": []
  }
 ],
 "metadata": {
  "kernelspec": {
   "display_name": "Python 3",
   "language": "python",
   "name": "python3"
  },
  "language_info": {
   "codemirror_mode": {
    "name": "ipython",
    "version": 3
   },
   "file_extension": ".py",
   "mimetype": "text/x-python",
   "name": "python",
   "nbconvert_exporter": "python",
   "pygments_lexer": "ipython3",
   "version": "3.6.7"
  }
 },
 "nbformat": 4,
 "nbformat_minor": 2
}
