{
 "cells": [
  {
   "cell_type": "code",
   "execution_count": 24,
   "metadata": {
    "scrolled": true
   },
   "outputs": [
    {
     "name": "stdout",
     "output_type": "stream",
     "text": [
      "(78458, 11)\n"
     ]
    }
   ],
   "source": [
    "import pandas as pd\n",
    "\n",
    "\n",
    "# In[83]:\n",
    "df = pd.read_csv('Data_Train.csv')\n",
    "df.head(10)\n",
    "print(df.shape)\n"
   ]
  },
  {
   "cell_type": "code",
   "execution_count": 25,
   "metadata": {},
   "outputs": [],
   "source": [
    "\n",
    "#Replace K, M, B\n",
    "def value_to_float(x):\n",
    "    if type(x) == float or type(x) == int:\n",
    "        return x\n",
    "    if 'K' in x:\n",
    "        if len(x) > 1:\n",
    "            return float(x.replace('K', '')) * 1000\n",
    "        return 1000.0\n",
    "    if 'M' in x:\n",
    "        if len(x) > 1:\n",
    "            return float(x.replace('M', '')) * 1000000\n",
    "        return 1000000.0\n",
    "    if 'B' in x:\n",
    "        return float(x.replace('B', '')) * 1000000000\n",
    "    if ',' in x:\n",
    "        return float(x.replace(',', '')) \n",
    "    return float(x)\n",
    "\n",
    "df.Likes = df.Likes.apply(value_to_float)\n",
    "df.Popularity = df.Popularity.apply(value_to_float)\n",
    "df.to_csv('Data_Train_Transformed_1.csv')\n",
    "df = df[df['Views'] > df[\"Likes\"]]\n",
    "# print(df.shape)\n",
    "# print(df.head())"
   ]
  },
  {
   "cell_type": "code",
   "execution_count": 26,
   "metadata": {},
   "outputs": [],
   "source": [
    "df_mean = df.groupby('Name').mean()\n",
    "df_mean.to_csv('Test_2.csv')"
   ]
  },
  {
   "cell_type": "code",
   "execution_count": 3,
   "metadata": {},
   "outputs": [],
   "source": [
    "#Labels\n",
    "import numpy as np\n",
    "bins = [0,500,1000,1500,2000,2500,3000,3500,4000,4500,5000,5500,6500,7000,7500,8000,8500,9000,9500,10000,12500,20000,22500,25000,50000,100000,200000,300000,400000,500000,600000,700000,800000,900000,1000000,1200000,1400000,\n",
    "        1600000,2000000,3000000,4000000,5000000,6000000,7000000,10000000,13000000,15000000,18000000,25000000,np.inf]\n",
    "names = [1,2,3,4,5,6,7,8,9,10,11,12,13,14,15,16,17,18,19,20,21,22,23,24,25,26,27,28,29,30,31,32,33,34,35,36,37,\n",
    "         38,39,40,41,42,43,44,45,46,47,48,49]\n",
    "\n",
    "df['Name_Label'] = pd.cut(df['Views'], bins, labels=names)"
   ]
  },
  {
   "cell_type": "code",
   "execution_count": 4,
   "metadata": {},
   "outputs": [],
   "source": [
    "#Labels\n",
    "df['Genre_Label'] = df['Genre'].map({'drumbass':1, 'deephouse':2,'metal':3, 'rock':4, 'electronic':5,\n",
    "                                     'latin':6, 'dubstep':7, 'danceedm':8, 'trap':9, 'country':10,\n",
    "                                     'pop':11, 'disco':12, 'classical':13, 'ambient':14, 'folksingersongwriter':15,\n",
    "                                     'rbsoul':16, 'alternativerock':17, 'reggaeton':18, 'indie':19, 'hiphoprap':20,'all-music':21})"
   ]
  },
  {
   "cell_type": "code",
   "execution_count": 5,
   "metadata": {},
   "outputs": [
    {
     "data": {
      "text/plain": [
       "8     22574\n",
       "5     17490\n",
       "21    10261\n",
       "16     5407\n",
       "6      4558\n",
       "9      4005\n",
       "4      3885\n",
       "2      2423\n",
       "11     1776\n",
       "7      1093\n",
       "14      792\n",
       "13      767\n",
       "1       671\n",
       "3       508\n",
       "10      336\n",
       "12      263\n",
       "17      156\n",
       "20      100\n",
       "18       55\n",
       "15       39\n",
       "19       11\n",
       "Name: Genre_Label, dtype: int64"
      ]
     },
     "execution_count": 5,
     "metadata": {},
     "output_type": "execute_result"
    }
   ],
   "source": [
    "#Get counts by Name_label bins\n",
    "df['Name_Label'].value_counts()\n",
    "df['Genre_Label'].value_counts()"
   ]
  },
  {
   "cell_type": "code",
   "execution_count": 6,
   "metadata": {},
   "outputs": [
    {
     "data": {
      "text/plain": [
       "Unique_ID        int64\n",
       "Name            object\n",
       "Genre           object\n",
       "Country         object\n",
       "Song_Name       object\n",
       "Timestamp       object\n",
       "Views            int64\n",
       "Comments         int64\n",
       "Likes          float64\n",
       "Popularity     float64\n",
       "Followers        int64\n",
       "Name_Label       int64\n",
       "Genre_Label      int64\n",
       "dtype: object"
      ]
     },
     "execution_count": 6,
     "metadata": {},
     "output_type": "execute_result"
    }
   ],
   "source": [
    "df['Name_Label'] = df['Name_Label'].astype('int64')\n",
    "# df.isnull().sum()\n",
    "# df.describe()\n",
    "df.dtypes\n",
    "# # print(df.head()"
   ]
  },
  {
   "cell_type": "code",
   "execution_count": 7,
   "metadata": {
    "scrolled": false
   },
   "outputs": [
    {
     "name": "stdout",
     "output_type": "stream",
     "text": [
      "                         Unique_ID         Views    Comments         Likes  \\\n",
      "Genre                                                                        \n",
      "all-music             7.996840e+05  2.454978e+06  294.812007  36307.722834   \n",
      "alternativerock       7.715628e+05  8.545917e+05  190.173077  11453.076923   \n",
      "ambient               1.101245e+06  4.262042e+05   94.012626   6845.500000   \n",
      "classical             9.667382e+05  3.931904e+05   91.676662   7339.490222   \n",
      "country               5.000266e+05  2.945058e+05  124.800595   5161.773810   \n",
      "danceedm              7.100286e+05  2.673978e+05  115.092053   4892.249845   \n",
      "deephouse             1.160870e+06  6.264949e+04   66.227404   1641.210070   \n",
      "disco                 3.550677e+05  5.235317e+05  122.627376   8923.003802   \n",
      "drumbass              5.862023e+05  3.712738e+04   67.277198   1334.828614   \n",
      "dubstep               6.606288e+05  2.422849e+05  168.148216   5888.222324   \n",
      "electronic            7.150612e+05  1.820002e+05  103.775014   3846.111206   \n",
      "folksingersongwriter  1.023424e+06  4.753422e+05   31.128205   7962.538462   \n",
      "hiphoprap             6.424885e+05  2.145161e+06  326.570000  40382.960000   \n",
      "indie                 1.343443e+05  1.657772e+06  144.181818  34810.000000   \n",
      "latin                 5.118163e+05  2.366119e+05    8.061211   2887.111233   \n",
      "metal                 1.211897e+06  1.326302e+05   15.482283   1485.868110   \n",
      "pop                   9.758440e+05  3.630477e+05   75.351351   6401.788288   \n",
      "rbsoul                4.540655e+05  6.098673e+05   50.984280  10145.821898   \n",
      "reggaeton             4.255708e+05  1.149190e+06   27.763636  14180.727273   \n",
      "rock                  8.693438e+05  1.364378e+05   24.442986   1843.896782   \n",
      "trap                  9.527589e+05  2.798408e+05   95.293633   5195.660175   \n",
      "\n",
      "                       Popularity     Followers  Name_Label  Genre_Label  \n",
      "Genre                                                                     \n",
      "all-music             2487.344703  9.580586e+05   27.935192         21.0  \n",
      "alternativerock        931.769231  1.935528e+05   20.115385         17.0  \n",
      "ambient               1021.780303  2.397200e+05   12.790404         14.0  \n",
      "classical             1141.687093  6.705102e+05   27.634941         13.0  \n",
      "country                712.821429  1.100058e+06   19.687500         10.0  \n",
      "danceedm               834.761185  6.596372e+05   20.430451          8.0  \n",
      "deephouse              307.310359  9.857645e+04   18.123813          2.0  \n",
      "disco                 1857.562738  5.688260e+05   24.532319         12.0  \n",
      "drumbass               224.774963  5.063995e+04   22.293592          1.0  \n",
      "dubstep               1105.865508  1.407731e+05   24.325709          7.0  \n",
      "electronic             692.164494  3.565977e+05   20.494168          5.0  \n",
      "folksingersongwriter   455.307692  5.625203e+04   13.923077         15.0  \n",
      "hiphoprap             5034.680000  2.282266e+05   30.510000         20.0  \n",
      "indie                 4087.909091  9.573300e+04   34.727273         19.0  \n",
      "latin                   91.901931  8.210619e+03   13.065599          6.0  \n",
      "metal                   94.692913  5.068780e+05   17.537402          3.0  \n",
      "pop                    658.257320  4.522796e+05   13.149212         11.0  \n",
      "rbsoul                 898.717773  2.086251e+05   24.114111         16.0  \n",
      "reggaeton              393.418182  7.825273e+03   27.272727         18.0  \n",
      "rock                   121.599743  4.068367e+05   11.071300          4.0  \n",
      "trap                   887.740075  1.727215e+05   15.817978          9.0  \n"
     ]
    }
   ],
   "source": [
    "# Distribution of features by Genre\n",
    "df_mean = df.groupby('Genre').mean()\n",
    "print(df_mean)"
   ]
  },
  {
   "cell_type": "code",
   "execution_count": 8,
   "metadata": {
    "scrolled": false
   },
   "outputs": [],
   "source": [
    "# #Histogram Plotting each variable\n",
    "# #Plotting Likes or comments or popularity\n",
    "# import matplotlib.pyplot as plt\n",
    "# import seaborn as sns\n",
    "# plt.hist(df['Likes'])\n",
    "# plt.ylabel('No of times')\n",
    "# plt.show()\n",
    "\n",
    "# #Plotting Comments\n",
    "# plt.hist(df['Comments'])\n",
    "# plt.ylabel('No of times')\n",
    "# plt.show()\n",
    "\n",
    "# #Plotting Popularity\n",
    "# plt.hist(df['Popularity'])\n",
    "# plt.ylabel('No of times')\n",
    "# plt.show()\n",
    "\n",
    "# #Plotting Views\n",
    "# plt.hist(df['Views'])\n",
    "# plt.ylabel('No of times')\n",
    "# plt.show()"
   ]
  },
  {
   "cell_type": "code",
   "execution_count": 9,
   "metadata": {},
   "outputs": [],
   "source": [
    "# # Scatter Plot\n",
    "# fig, ax = plt.subplots(figsize=(16,8))\n",
    "# ax.scatter(df['Unique_ID'], df['Popularity'])\n",
    "# ax.set_xlabel('Unique Id')\n",
    "# ax.set_ylabel('Popularity')\n",
    "\n",
    "# fig, ax = plt.subplots(figsize=(16,8))\n",
    "# ax.scatter(df['Unique_ID'], df['Views'])\n",
    "# ax.set_xlabel('Unique Id')\n",
    "# ax.set_ylabel('Views')\n",
    "\n",
    "# fig, ax = plt.subplots(figsize=(16,8))\n",
    "# ax.scatter(df['Unique_ID'], df['Likes'])\n",
    "# ax.set_xlabel('Unique Id')\n",
    "# ax.set_ylabel('Likes')"
   ]
  },
  {
   "cell_type": "code",
   "execution_count": 10,
   "metadata": {},
   "outputs": [
    {
     "name": "stdout",
     "output_type": "stream",
     "text": [
      "   Unique_ID              Name     Genre Country  \\\n",
      "0     413890         Hardstyle  danceedm      AU   \n",
      "1     249453        Dj Aladdin  danceedm      AU   \n",
      "2     681116  Maxximize On Air  danceedm      AU   \n",
      "3     387253       GR6 EXPLODE    rbsoul      AU   \n",
      "4    1428029          Tritonal  danceedm      AU   \n",
      "\n",
      "                                           Song_Name  \\\n",
      "0  N-Vitral presents BOMBSQUAD - Poison Spitter (...   \n",
      "1          Dj Aladdin - Old School Hip Hop Quick Mix   \n",
      "2  Maxximize On Air - Mixed by Blasterjaxx - Epis...   \n",
      "3                MC Yago - Tenho Compromisso (DJ R7)   \n",
      "4                         Escape (feat. Steph Jones)   \n",
      "\n",
      "                    Timestamp   Views  Comments   Likes  Popularity  \\\n",
      "0  2018-03-30 15:24:45.000000   14017         4   499.0        97.0   \n",
      "1  2016-06-20 05:58:52.000000    1918        17    49.0        17.0   \n",
      "2  2015-05-08 17:45:59.000000    9668        11   312.0        91.0   \n",
      "3  2017-06-08 23:50:03.000000  113036         2  2400.0        76.0   \n",
      "4  2016-09-17 20:50:19.000000  110024        81  3031.0       699.0   \n",
      "\n",
      "   Followers  Name_Label  Genre_Label  \n",
      "0     119563          21            8  \n",
      "1       2141           4            8  \n",
      "2      22248          19            8  \n",
      "3     393655          26           16  \n",
      "4     201030          26            8  \n"
     ]
    },
    {
     "data": {
      "text/html": [
       "<div>\n",
       "<style scoped>\n",
       "    .dataframe tbody tr th:only-of-type {\n",
       "        vertical-align: middle;\n",
       "    }\n",
       "\n",
       "    .dataframe tbody tr th {\n",
       "        vertical-align: top;\n",
       "    }\n",
       "\n",
       "    .dataframe thead th {\n",
       "        text-align: right;\n",
       "    }\n",
       "</style>\n",
       "<table border=\"1\" class=\"dataframe\">\n",
       "  <thead>\n",
       "    <tr style=\"text-align: right;\">\n",
       "      <th></th>\n",
       "      <th>Views</th>\n",
       "      <th>Likes</th>\n",
       "      <th>Popularity</th>\n",
       "      <th>Name_Label</th>\n",
       "      <th>Genre_Label</th>\n",
       "    </tr>\n",
       "  </thead>\n",
       "  <tbody>\n",
       "    <tr>\n",
       "      <th>0</th>\n",
       "      <td>14017</td>\n",
       "      <td>499.0</td>\n",
       "      <td>97.0</td>\n",
       "      <td>21</td>\n",
       "      <td>8</td>\n",
       "    </tr>\n",
       "    <tr>\n",
       "      <th>1</th>\n",
       "      <td>1918</td>\n",
       "      <td>49.0</td>\n",
       "      <td>17.0</td>\n",
       "      <td>4</td>\n",
       "      <td>8</td>\n",
       "    </tr>\n",
       "    <tr>\n",
       "      <th>2</th>\n",
       "      <td>9668</td>\n",
       "      <td>312.0</td>\n",
       "      <td>91.0</td>\n",
       "      <td>19</td>\n",
       "      <td>8</td>\n",
       "    </tr>\n",
       "    <tr>\n",
       "      <th>3</th>\n",
       "      <td>113036</td>\n",
       "      <td>2400.0</td>\n",
       "      <td>76.0</td>\n",
       "      <td>26</td>\n",
       "      <td>16</td>\n",
       "    </tr>\n",
       "    <tr>\n",
       "      <th>4</th>\n",
       "      <td>110024</td>\n",
       "      <td>3031.0</td>\n",
       "      <td>699.0</td>\n",
       "      <td>26</td>\n",
       "      <td>8</td>\n",
       "    </tr>\n",
       "  </tbody>\n",
       "</table>\n",
       "</div>"
      ],
      "text/plain": [
       "    Views   Likes  Popularity  Name_Label  Genre_Label\n",
       "0   14017   499.0        97.0          21            8\n",
       "1    1918    49.0        17.0           4            8\n",
       "2    9668   312.0        91.0          19            8\n",
       "3  113036  2400.0        76.0          26           16\n",
       "4  110024  3031.0       699.0          26            8"
      ]
     },
     "execution_count": 10,
     "metadata": {},
     "output_type": "execute_result"
    }
   ],
   "source": [
    "#Correlation matrix\n",
    "print(df.head())\n",
    "df.drop(['Unique_ID','Name','Genre','Country','Timestamp','Song_Name','Comments','Followers'],inplace = True, axis = 1)\n",
    "df.head()\n"
   ]
  },
  {
   "cell_type": "code",
   "execution_count": 11,
   "metadata": {
    "scrolled": true
   },
   "outputs": [],
   "source": [
    "# from sklearn.preprocessing import LabelEncoder,OneHotEncoder\n",
    "# # Converting Genre and Name to labelencoding\n",
    "# labelencoder = LabelEncoder()\n",
    "# df['Genre'] = labelencoder.fit_transform(df['Genre'])\n",
    "# # df['Name_Label'] = labelencoder.fit_transform(df['Name_Label'])\n",
    "# df.head()\n"
   ]
  },
  {
   "cell_type": "code",
   "execution_count": 12,
   "metadata": {},
   "outputs": [],
   "source": [
    "df.to_csv('Test_1.csv')"
   ]
  },
  {
   "cell_type": "code",
   "execution_count": 13,
   "metadata": {
    "scrolled": true
   },
   "outputs": [
    {
     "name": "stdout",
     "output_type": "stream",
     "text": [
      "      Likes  Popularity  Name_Label  Genre_Label     Views\n",
      "0 -0.159204   -0.173071    0.059371    -0.230493   14017.0\n",
      "1 -0.167662   -0.189570   -1.588835    -0.230493    1918.0\n",
      "2 -0.162719   -0.174308   -0.134536    -0.230493    9668.0\n",
      "3 -0.123471   -0.177402    0.544137     1.194659  113036.0\n",
      "4 -0.111610   -0.048918    0.544137    -0.230493  110024.0\n"
     ]
    },
    {
     "name": "stderr",
     "output_type": "stream",
     "text": [
      "D:\\Applns\\Anaconda3\\lib\\site-packages\\sklearn\\preprocessing\\data.py:625: DataConversionWarning: Data with input dtype int64, float64 were all converted to float64 by StandardScaler.\n",
      "  return self.partial_fit(X, y)\n",
      "D:\\Applns\\Anaconda3\\lib\\site-packages\\sklearn\\base.py:462: DataConversionWarning: Data with input dtype int64, float64 were all converted to float64 by StandardScaler.\n",
      "  return self.fit(X, **fit_params).transform(X)\n"
     ]
    }
   ],
   "source": [
    "#Standard scaling\n",
    "from sklearn.preprocessing import StandardScaler\n",
    "from sklearn.compose import ColumnTransformer\n",
    "sc_x = StandardScaler()\n",
    "ct = ColumnTransformer([\n",
    "         ('somename', StandardScaler(), ['Likes','Popularity','Name_Label','Genre_Label'])\n",
    "       ], remainder='passthrough')\n",
    "df = ct.fit_transform(df)\n",
    "df = pd.DataFrame(df,columns=['Likes','Popularity','Name_Label','Genre_Label','Views'])\n",
    "print(df.head())"
   ]
  },
  {
   "cell_type": "code",
   "execution_count": 14,
   "metadata": {},
   "outputs": [
    {
     "name": "stdout",
     "output_type": "stream",
     "text": [
      "(57341, 5)\n"
     ]
    },
    {
     "data": {
      "text/html": [
       "<div>\n",
       "<style scoped>\n",
       "    .dataframe tbody tr th:only-of-type {\n",
       "        vertical-align: middle;\n",
       "    }\n",
       "\n",
       "    .dataframe tbody tr th {\n",
       "        vertical-align: top;\n",
       "    }\n",
       "\n",
       "    .dataframe thead th {\n",
       "        text-align: right;\n",
       "    }\n",
       "</style>\n",
       "<table border=\"1\" class=\"dataframe\">\n",
       "  <thead>\n",
       "    <tr style=\"text-align: right;\">\n",
       "      <th></th>\n",
       "      <th>Likes</th>\n",
       "      <th>Popularity</th>\n",
       "      <th>Name_Label</th>\n",
       "      <th>Genre_Label</th>\n",
       "      <th>Views</th>\n",
       "    </tr>\n",
       "  </thead>\n",
       "  <tbody>\n",
       "    <tr>\n",
       "      <th>0</th>\n",
       "      <td>-0.159204</td>\n",
       "      <td>-0.173071</td>\n",
       "      <td>0.059371</td>\n",
       "      <td>-0.230493</td>\n",
       "      <td>14017.0</td>\n",
       "    </tr>\n",
       "    <tr>\n",
       "      <th>1</th>\n",
       "      <td>-0.167662</td>\n",
       "      <td>-0.189570</td>\n",
       "      <td>-1.588835</td>\n",
       "      <td>-0.230493</td>\n",
       "      <td>1918.0</td>\n",
       "    </tr>\n",
       "    <tr>\n",
       "      <th>2</th>\n",
       "      <td>-0.162719</td>\n",
       "      <td>-0.174308</td>\n",
       "      <td>-0.134536</td>\n",
       "      <td>-0.230493</td>\n",
       "      <td>9668.0</td>\n",
       "    </tr>\n",
       "    <tr>\n",
       "      <th>3</th>\n",
       "      <td>-0.123471</td>\n",
       "      <td>-0.177402</td>\n",
       "      <td>0.544137</td>\n",
       "      <td>1.194659</td>\n",
       "      <td>113036.0</td>\n",
       "    </tr>\n",
       "    <tr>\n",
       "      <th>4</th>\n",
       "      <td>-0.111610</td>\n",
       "      <td>-0.048918</td>\n",
       "      <td>0.544137</td>\n",
       "      <td>-0.230493</td>\n",
       "      <td>110024.0</td>\n",
       "    </tr>\n",
       "  </tbody>\n",
       "</table>\n",
       "</div>"
      ],
      "text/plain": [
       "      Likes  Popularity  Name_Label  Genre_Label     Views\n",
       "0 -0.159204   -0.173071    0.059371    -0.230493   14017.0\n",
       "1 -0.167662   -0.189570   -1.588835    -0.230493    1918.0\n",
       "2 -0.162719   -0.174308   -0.134536    -0.230493    9668.0\n",
       "3 -0.123471   -0.177402    0.544137     1.194659  113036.0\n",
       "4 -0.111610   -0.048918    0.544137    -0.230493  110024.0"
      ]
     },
     "execution_count": 14,
     "metadata": {},
     "output_type": "execute_result"
    }
   ],
   "source": [
    "#Removing outliers using IQR\n",
    "Q1 = df.quantile(0.25,numeric_only=True)\n",
    "Q3 = df.quantile(0.75,numeric_only=True)\n",
    "IQR = Q3 - Q1\n",
    "#df = df[~((df[\"Likes\"] < (Q1 - 1.5 * IQR)) |(df[\"Likes\"] > (Q3 + 1.5 * IQR)))]\n",
    "df= df[~((df < (Q1 - 1.5 * IQR)) |(df > (Q3 + 1.5 * IQR))).any(axis=1)]\n",
    "print(df.shape)\n",
    "df.head()"
   ]
  },
  {
   "cell_type": "code",
   "execution_count": 15,
   "metadata": {},
   "outputs": [
    {
     "data": {
      "text/plain": [
       "Likes          0\n",
       "Popularity     0\n",
       "Name_Label     0\n",
       "Genre_Label    0\n",
       "Views          0\n",
       "dtype: int64"
      ]
     },
     "execution_count": 15,
     "metadata": {},
     "output_type": "execute_result"
    }
   ],
   "source": [
    "df.isnull().sum()\n"
   ]
  },
  {
   "cell_type": "code",
   "execution_count": 16,
   "metadata": {},
   "outputs": [
    {
     "data": {
      "text/plain": [
       "<matplotlib.axes._subplots.AxesSubplot at 0x1e7ff8771d0>"
      ]
     },
     "execution_count": 16,
     "metadata": {},
     "output_type": "execute_result"
    }
   ],
   "source": [
    "y = df['Views']\n",
    "df.drop('Views', inplace=True,axis=1)\n",
    "y.plot.hist()"
   ]
  },
  {
   "cell_type": "code",
   "execution_count": 17,
   "metadata": {},
   "outputs": [
    {
     "data": {
      "text/plain": [
       "<matplotlib.axes._subplots.AxesSubplot at 0x1e7ffab6630>"
      ]
     },
     "execution_count": 17,
     "metadata": {},
     "output_type": "execute_result"
    },
    {
     "data": {
      "image/png": "[encoded data removed]",
      "text/plain": [
       "<Figure size 432x288 with 1 Axes>"
      ]
     },
     "metadata": {
      "needs_background": "light"
     },
     "output_type": "display_data"
    }
   ],
   "source": [
    "df.describe()\n",
    "df.plot.hist()"
   ]
  },
  {
   "cell_type": "code",
   "execution_count": 18,
   "metadata": {
    "scrolled": false
   },
   "outputs": [],
   "source": [
    "from sklearn.model_selection import train_test_split\n",
    "#print(df_scaled)\n",
    "# split data into train and test sets\n",
    "X_train, X_test, y_train, y_test = train_test_split(df, y, test_size=.2, random_state=205)"
   ]
  },
  {
   "cell_type": "code",
   "execution_count": 19,
   "metadata": {},
   "outputs": [
    {
     "name": "stdout",
     "output_type": "stream",
     "text": [
      "[19:15:20] WARNING: src/objective/regression_obj.cu:152: reg:linear is now deprecated in favor of reg:squarederror.\n",
      "[0]\tvalidation_0-rmse:58022.4\n",
      "[1]\tvalidation_0-rmse:52450.3\n",
      "[2]\tvalidation_0-rmse:47458.1\n",
      "[3]\tvalidation_0-rmse:42982.9\n",
      "[4]\tvalidation_0-rmse:38982.3\n",
      "[5]\tvalidation_0-rmse:35403\n"
     ]
    },
    {
     "name": "stderr",
     "output_type": "stream",
     "text": [
      "D:\\Applns\\Anaconda3\\lib\\site-packages\\xgboost\\core.py:587: FutureWarning: Series.base is deprecated and will be removed in a future version\n",
      "  if getattr(data, 'base', None) is not None and \\\n"
     ]
    },
    {
     "name": "stdout",
     "output_type": "stream",
     "text": [
      "[6]\tvalidation_0-rmse:32211.9\n",
      "[7]\tvalidation_0-rmse:29364.5\n",
      "[8]\tvalidation_0-rmse:26838.2\n",
      "[9]\tvalidation_0-rmse:24599.5\n",
      "[10]\tvalidation_0-rmse:22619\n",
      "[11]\tvalidation_0-rmse:20879.6\n",
      "[12]\tvalidation_0-rmse:19348.5\n",
      "[13]\tvalidation_0-rmse:18015.4\n",
      "[14]\tvalidation_0-rmse:16849.5\n",
      "[15]\tvalidation_0-rmse:15842.2\n",
      "[16]\tvalidation_0-rmse:14962.9\n",
      "[17]\tvalidation_0-rmse:14213.9\n",
      "[18]\tvalidation_0-rmse:13576.3\n",
      "[19]\tvalidation_0-rmse:13028.6\n",
      "[20]\tvalidation_0-rmse:12570.6\n",
      "[21]\tvalidation_0-rmse:12172.9\n",
      "[22]\tvalidation_0-rmse:11847\n",
      "[23]\tvalidation_0-rmse:11570.3\n",
      "[24]\tvalidation_0-rmse:11334.9\n",
      "[25]\tvalidation_0-rmse:11134.3\n",
      "[26]\tvalidation_0-rmse:10971.5\n",
      "[27]\tvalidation_0-rmse:10836.6\n",
      "[28]\tvalidation_0-rmse:10722.4\n",
      "[29]\tvalidation_0-rmse:10625.3\n",
      "[30]\tvalidation_0-rmse:10541\n",
      "[31]\tvalidation_0-rmse:10473.4\n",
      "[32]\tvalidation_0-rmse:10406.3\n",
      "[33]\tvalidation_0-rmse:10350.4\n",
      "[34]\tvalidation_0-rmse:10310.9\n",
      "[35]\tvalidation_0-rmse:10271.2\n",
      "[36]\tvalidation_0-rmse:10241.7\n",
      "[37]\tvalidation_0-rmse:10215.9\n",
      "[38]\tvalidation_0-rmse:10197\n",
      "[39]\tvalidation_0-rmse:10175.8\n",
      "[40]\tvalidation_0-rmse:10158.9\n",
      "[41]\tvalidation_0-rmse:10141.5\n",
      "[42]\tvalidation_0-rmse:10130.1\n",
      "[43]\tvalidation_0-rmse:10121.5\n",
      "[44]\tvalidation_0-rmse:10114.6\n",
      "[45]\tvalidation_0-rmse:10103.1\n",
      "[46]\tvalidation_0-rmse:10098.5\n",
      "[47]\tvalidation_0-rmse:10091.1\n",
      "[48]\tvalidation_0-rmse:10086.1\n",
      "[49]\tvalidation_0-rmse:10079.5\n",
      "[50]\tvalidation_0-rmse:10073.9\n",
      "[51]\tvalidation_0-rmse:10069.2\n",
      "[52]\tvalidation_0-rmse:10066.3\n",
      "[53]\tvalidation_0-rmse:10060.6\n",
      "[54]\tvalidation_0-rmse:10055.6\n",
      "[55]\tvalidation_0-rmse:10054\n",
      "[56]\tvalidation_0-rmse:10050.7\n",
      "[57]\tvalidation_0-rmse:10050.6\n",
      "[58]\tvalidation_0-rmse:10050.7\n",
      "[59]\tvalidation_0-rmse:10050.2\n",
      "[60]\tvalidation_0-rmse:10047.2\n",
      "[61]\tvalidation_0-rmse:10048.8\n",
      "[62]\tvalidation_0-rmse:10048.1\n",
      "[63]\tvalidation_0-rmse:10045.7\n",
      "[64]\tvalidation_0-rmse:10045.8\n",
      "[65]\tvalidation_0-rmse:10048.5\n",
      "[66]\tvalidation_0-rmse:10047.8\n",
      "[67]\tvalidation_0-rmse:10046.9\n",
      "[68]\tvalidation_0-rmse:10049.6\n",
      "[69]\tvalidation_0-rmse:10049\n",
      "[70]\tvalidation_0-rmse:10048.8\n",
      "[71]\tvalidation_0-rmse:10048.8\n",
      "[72]\tvalidation_0-rmse:10051.5\n",
      "[73]\tvalidation_0-rmse:10050.8\n",
      "[74]\tvalidation_0-rmse:10050\n",
      "[75]\tvalidation_0-rmse:10048.2\n",
      "[76]\tvalidation_0-rmse:10048.2\n",
      "[77]\tvalidation_0-rmse:10050.6\n",
      "[78]\tvalidation_0-rmse:10050.5\n",
      "[79]\tvalidation_0-rmse:10050.1\n",
      "[80]\tvalidation_0-rmse:10052.1\n",
      "[81]\tvalidation_0-rmse:10052.6\n",
      "[82]\tvalidation_0-rmse:10054.4\n",
      "[83]\tvalidation_0-rmse:10053.4\n",
      "[84]\tvalidation_0-rmse:10054.1\n",
      "[85]\tvalidation_0-rmse:10053.4\n",
      "[86]\tvalidation_0-rmse:10042.5\n",
      "[87]\tvalidation_0-rmse:10040.9\n",
      "[88]\tvalidation_0-rmse:10043.5\n",
      "[89]\tvalidation_0-rmse:10043.5\n",
      "[90]\tvalidation_0-rmse:10043.5\n",
      "[91]\tvalidation_0-rmse:10042.8\n",
      "[92]\tvalidation_0-rmse:10032.6\n",
      "[93]\tvalidation_0-rmse:10024.8\n",
      "[94]\tvalidation_0-rmse:10021.7\n",
      "[95]\tvalidation_0-rmse:10022.5\n",
      "[96]\tvalidation_0-rmse:10024\n",
      "[97]\tvalidation_0-rmse:10021.6\n",
      "[98]\tvalidation_0-rmse:10013.1\n",
      "[99]\tvalidation_0-rmse:10012\n",
      "RMSE - XGBoost regression:  10012.091067489198\n"
     ]
    }
   ],
   "source": [
    "#XGB Boost regression\n",
    "import xgboost as xgb\n",
    "from sklearn import metrics\n",
    "xlf = xgb.XGBRegressor()\n",
    "xlf.fit(X_train, y_train, eval_metric='rmse', verbose = True, eval_set = [(X_test, y_test)])\n",
    "# calculate the auc score\n",
    "y_pred = xlf.predict(X_test)\n",
    "#RMSE - Test\n",
    "print(\"RMSE - XGBoost regression: \", np.sqrt(metrics.mean_squared_error(y_test,y_pred)))\n"
   ]
  },
  {
   "cell_type": "code",
   "execution_count": 20,
   "metadata": {},
   "outputs": [
    {
     "name": "stdout",
     "output_type": "stream",
     "text": [
      "RMSE - Linear regression:  24141.249972758123\n"
     ]
    }
   ],
   "source": [
    "#Implementing Linear Regression\n",
    "from sklearn.linear_model import LinearRegression\n",
    "from sklearn import metrics\n",
    "\n",
    "linear = LinearRegression()\n",
    "linear.fit(X_train, y_train)\n",
    "y_pred = linear.predict(X_test)\n",
    "print(\"RMSE - Linear regression: \", np.sqrt(metrics.mean_squared_error(y_test,y_pred)))\n"
   ]
  },
  {
   "cell_type": "code",
   "execution_count": null,
   "metadata": {},
   "outputs": [],
   "source": []
  }
 ],
 "metadata": {
  "kernelspec": {
   "display_name": "Python 3",
   "language": "python",
   "name": "python3"
  },
  "language_info": {
   "codemirror_mode": {
    "name": "ipython",
    "version": 3
   },
   "file_extension": ".py",
   "mimetype": "text/x-python",
   "name": "python",
   "nbconvert_exporter": "python",
   "pygments_lexer": "ipython3",
   "version": "3.7.0"
  }
 },
 "nbformat": 4,
 "nbformat_minor": 2
}
