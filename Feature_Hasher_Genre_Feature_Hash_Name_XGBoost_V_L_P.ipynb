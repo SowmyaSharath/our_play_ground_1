{
 "cells": [
  {
   "cell_type": "code",
   "execution_count": 268,
   "metadata": {
    "scrolled": true
   },
   "outputs": [
    {
     "name": "stdout",
     "output_type": "stream",
     "text": [
      "(78458, 11)\n"
     ]
    }
   ],
   "source": [
    "import pandas as pd\n",
    "\n",
    "\n",
    "# In[83]:\n",
    "df = pd.read_csv('Data_Train.csv')\n",
    "df.head(10)\n",
    "print(df.shape)\n"
   ]
  },
  {
   "cell_type": "code",
   "execution_count": 269,
   "metadata": {},
   "outputs": [],
   "source": [
    "\n",
    "#Replace K, M, B\n",
    "def value_to_float(x):\n",
    "    if type(x) == float or type(x) == int:\n",
    "        return x\n",
    "    if 'K' in x:\n",
    "        if len(x) > 1:\n",
    "            return float(x.replace('K', '')) * 1000\n",
    "        return 1000.0\n",
    "    if 'M' in x:\n",
    "        if len(x) > 1:\n",
    "            return float(x.replace('M', '')) * 1000000\n",
    "        return 1000000.0\n",
    "    if 'B' in x:\n",
    "        return float(x.replace('B', '')) * 1000000000\n",
    "    if ',' in x:\n",
    "        return float(x.replace(',', '')) \n",
    "    return float(x)\n",
    "\n",
    "df.Likes = df.Likes.apply(value_to_float)\n",
    "df.Popularity = df.Popularity.apply(value_to_float)\n",
    "df.to_csv('Data_Train_Transformed_1.csv')\n",
    "df = df[df['Views'] > df[\"Likes\"]]\n",
    "# print(df.shape)\n",
    "# print(df.head())"
   ]
  },
  {
   "cell_type": "code",
   "execution_count": 270,
   "metadata": {},
   "outputs": [
    {
     "data": {
      "text/plain": [
       "Unique_ID     0\n",
       "Name          0\n",
       "Genre         0\n",
       "Country       0\n",
       "Song_Name     1\n",
       "Timestamp     0\n",
       "Views         0\n",
       "Comments      0\n",
       "Likes         0\n",
       "Popularity    0\n",
       "Followers     0\n",
       "dtype: int64"
      ]
     },
     "execution_count": 270,
     "metadata": {},
     "output_type": "execute_result"
    }
   ],
   "source": [
    "df.isnull().sum()"
   ]
  },
  {
   "cell_type": "code",
   "execution_count": 271,
   "metadata": {
    "scrolled": false
   },
   "outputs": [],
   "source": [
    "# Distribution of features by Genre\n",
    "df_mean = df.groupby('Genre').mean()\n",
    "#df_mean"
   ]
  },
  {
   "cell_type": "code",
   "execution_count": 272,
   "metadata": {},
   "outputs": [
    {
     "data": {
      "text/html": [
       "<div>\n",
       "<style scoped>\n",
       "    .dataframe tbody tr th:only-of-type {\n",
       "        vertical-align: middle;\n",
       "    }\n",
       "\n",
       "    .dataframe tbody tr th {\n",
       "        vertical-align: top;\n",
       "    }\n",
       "\n",
       "    .dataframe thead th {\n",
       "        text-align: right;\n",
       "    }\n",
       "</style>\n",
       "<table border=\"1\" class=\"dataframe\">\n",
       "  <thead>\n",
       "    <tr style=\"text-align: right;\">\n",
       "      <th></th>\n",
       "      <th>Name</th>\n",
       "      <th>Genre</th>\n",
       "      <th>Views</th>\n",
       "      <th>Likes</th>\n",
       "      <th>Popularity</th>\n",
       "    </tr>\n",
       "  </thead>\n",
       "  <tbody>\n",
       "    <tr>\n",
       "      <th>0</th>\n",
       "      <td>Hardstyle</td>\n",
       "      <td>danceedm</td>\n",
       "      <td>14017</td>\n",
       "      <td>499.0</td>\n",
       "      <td>97.0</td>\n",
       "    </tr>\n",
       "    <tr>\n",
       "      <th>1</th>\n",
       "      <td>Dj Aladdin</td>\n",
       "      <td>danceedm</td>\n",
       "      <td>1918</td>\n",
       "      <td>49.0</td>\n",
       "      <td>17.0</td>\n",
       "    </tr>\n",
       "    <tr>\n",
       "      <th>2</th>\n",
       "      <td>Maxximize On Air</td>\n",
       "      <td>danceedm</td>\n",
       "      <td>9668</td>\n",
       "      <td>312.0</td>\n",
       "      <td>91.0</td>\n",
       "    </tr>\n",
       "    <tr>\n",
       "      <th>3</th>\n",
       "      <td>GR6 EXPLODE</td>\n",
       "      <td>rbsoul</td>\n",
       "      <td>113036</td>\n",
       "      <td>2400.0</td>\n",
       "      <td>76.0</td>\n",
       "    </tr>\n",
       "    <tr>\n",
       "      <th>4</th>\n",
       "      <td>Tritonal</td>\n",
       "      <td>danceedm</td>\n",
       "      <td>110024</td>\n",
       "      <td>3031.0</td>\n",
       "      <td>699.0</td>\n",
       "    </tr>\n",
       "  </tbody>\n",
       "</table>\n",
       "</div>"
      ],
      "text/plain": [
       "               Name     Genre   Views   Likes  Popularity\n",
       "0         Hardstyle  danceedm   14017   499.0        97.0\n",
       "1        Dj Aladdin  danceedm    1918    49.0        17.0\n",
       "2  Maxximize On Air  danceedm    9668   312.0        91.0\n",
       "3       GR6 EXPLODE    rbsoul  113036  2400.0        76.0\n",
       "4          Tritonal  danceedm  110024  3031.0       699.0"
      ]
     },
     "execution_count": 272,
     "metadata": {},
     "output_type": "execute_result"
    }
   ],
   "source": [
    "#Correlation matrix\n",
    "df.drop(['Unique_ID','Country','Timestamp','Song_Name','Comments','Followers'],inplace = True, axis = 1)\n",
    "df.head()\n"
   ]
  },
  {
   "cell_type": "code",
   "execution_count": 273,
   "metadata": {
    "scrolled": true
   },
   "outputs": [
    {
     "data": {
      "text/html": [
       "<div>\n",
       "<style scoped>\n",
       "    .dataframe tbody tr th:only-of-type {\n",
       "        vertical-align: middle;\n",
       "    }\n",
       "\n",
       "    .dataframe tbody tr th {\n",
       "        vertical-align: top;\n",
       "    }\n",
       "\n",
       "    .dataframe thead th {\n",
       "        text-align: right;\n",
       "    }\n",
       "</style>\n",
       "<table border=\"1\" class=\"dataframe\">\n",
       "  <thead>\n",
       "    <tr style=\"text-align: right;\">\n",
       "      <th></th>\n",
       "      <th>Name</th>\n",
       "      <th>Genre</th>\n",
       "      <th>Views</th>\n",
       "      <th>Likes</th>\n",
       "      <th>Popularity</th>\n",
       "    </tr>\n",
       "  </thead>\n",
       "  <tbody>\n",
       "    <tr>\n",
       "      <th>0</th>\n",
       "      <td>Hardstyle</td>\n",
       "      <td>danceedm</td>\n",
       "      <td>14017</td>\n",
       "      <td>499.0</td>\n",
       "      <td>97.0</td>\n",
       "    </tr>\n",
       "    <tr>\n",
       "      <th>1</th>\n",
       "      <td>Dj Aladdin</td>\n",
       "      <td>danceedm</td>\n",
       "      <td>1918</td>\n",
       "      <td>49.0</td>\n",
       "      <td>17.0</td>\n",
       "    </tr>\n",
       "    <tr>\n",
       "      <th>2</th>\n",
       "      <td>Maxximize On Air</td>\n",
       "      <td>danceedm</td>\n",
       "      <td>9668</td>\n",
       "      <td>312.0</td>\n",
       "      <td>91.0</td>\n",
       "    </tr>\n",
       "    <tr>\n",
       "      <th>3</th>\n",
       "      <td>GR6 EXPLODE</td>\n",
       "      <td>rbsoul</td>\n",
       "      <td>113036</td>\n",
       "      <td>2400.0</td>\n",
       "      <td>76.0</td>\n",
       "    </tr>\n",
       "    <tr>\n",
       "      <th>4</th>\n",
       "      <td>Tritonal</td>\n",
       "      <td>danceedm</td>\n",
       "      <td>110024</td>\n",
       "      <td>3031.0</td>\n",
       "      <td>699.0</td>\n",
       "    </tr>\n",
       "  </tbody>\n",
       "</table>\n",
       "</div>"
      ],
      "text/plain": [
       "               Name     Genre   Views   Likes  Popularity\n",
       "0         Hardstyle  danceedm   14017   499.0        97.0\n",
       "1        Dj Aladdin  danceedm    1918    49.0        17.0\n",
       "2  Maxximize On Air  danceedm    9668   312.0        91.0\n",
       "3       GR6 EXPLODE    rbsoul  113036  2400.0        76.0\n",
       "4          Tritonal  danceedm  110024  3031.0       699.0"
      ]
     },
     "execution_count": 273,
     "metadata": {},
     "output_type": "execute_result"
    }
   ],
   "source": [
    "from sklearn.preprocessing import LabelEncoder,OneHotEncoder\n",
    "# Converting Genre and Name to labelencoding\n",
    "labelencoder = LabelEncoder()\n",
    "oneHotEncoder = OneHotEncoder()\n",
    "#df['Genre'] = labelencoder.fit_transform(df['Genre'])\n",
    "# df['Name'] = labelencoder.fit_transform(df['Name'])\n",
    "df.head()\n"
   ]
  },
  {
   "cell_type": "code",
   "execution_count": 274,
   "metadata": {},
   "outputs": [
    {
     "name": "stdout",
     "output_type": "stream",
     "text": [
      "(77170, 10)\n",
      "(77170, 10)\n"
     ]
    }
   ],
   "source": [
    "#Hash the Name\n",
    "from sklearn.feature_extraction import FeatureHasher\n",
    "nfh = FeatureHasher(n_features=10, input_type='string')\n",
    "name_hashed_features = nfh.fit_transform(df['Name'])\n",
    "name_hashed_features = name_hashed_features.toarray()\n",
    "name_hashed_features = pd.DataFrame(name_hashed_features)\n",
    "name_hashed_features.head()\n",
    "print(name_hashed_features.shape)\n",
    "\n",
    "from sklearn.feature_extraction import FeatureHasher\n",
    "gfh = FeatureHasher(n_features=10, input_type='string')\n",
    "genre_hashed_features = gfh.fit_transform(df['Genre'])\n",
    "genre_hashed_features = genre_hashed_features.toarray()\n",
    "genre_hashed_features = pd.DataFrame(genre_hashed_features,columns=['gen1','gen2','gen3','gen4','gen5','gen6','gen7','gen8','gen9','gen10',])\n",
    "genre_hashed_features.head()\n",
    "\n",
    "print(genre_hashed_features.shape)"
   ]
  },
  {
   "cell_type": "code",
   "execution_count": 275,
   "metadata": {},
   "outputs": [
    {
     "name": "stdout",
     "output_type": "stream",
     "text": [
      "(77170, 5)\n"
     ]
    }
   ],
   "source": [
    "#Standard scaling\n",
    "from sklearn.preprocessing import StandardScaler\n",
    "from sklearn.compose import ColumnTransformer\n",
    "sc_x = StandardScaler()\n",
    "ct = ColumnTransformer([\n",
    "         ('somename', StandardScaler(), ['Likes', 'Popularity'])\n",
    "       ], remainder='passthrough')\n",
    "df = ct.fit_transform(df)\n",
    "df = pd.DataFrame(df,columns=['Likes','Popularity','Name','Genre','Views'])\n",
    "print(df.shape)"
   ]
  },
  {
   "cell_type": "code",
   "execution_count": 276,
   "metadata": {},
   "outputs": [
    {
     "data": {
      "text/plain": [
       "<matplotlib.axes._subplots.AxesSubplot at 0x21466ce8400>"
      ]
     },
     "execution_count": 276,
     "metadata": {},
     "output_type": "execute_result"
    },
    {
     "data": {
      "image/png": "[encoded data removed]",
      "text/plain": [
       "<Figure size 432x288 with 1 Axes>"
      ]
     },
     "metadata": {
      "needs_background": "light"
     },
     "output_type": "display_data"
    }
   ],
   "source": [
    "y = df['Views']\n",
    "df.drop(['Views','Name','Genre'], inplace=True,axis=1)\n",
    "y.plot.hist()"
   ]
  },
  {
   "cell_type": "code",
   "execution_count": 277,
   "metadata": {},
   "outputs": [
    {
     "name": "stdout",
     "output_type": "stream",
     "text": [
      "(77170, 22)\n"
     ]
    }
   ],
   "source": [
    "df = df.join(name_hashed_features)\n",
    "df = df.join(genre_hashed_features)\n",
    "print(df.shape)\n",
    "df['Likes'] = df['Likes'].apply(pd.to_numeric, errors='coerce')\n",
    "df['Popularity'] = df['Popularity'].apply(pd.to_numeric, errors='coerce')"
   ]
  },
  {
   "cell_type": "code",
   "execution_count": 278,
   "metadata": {
    "scrolled": false
   },
   "outputs": [],
   "source": [
    "from sklearn.model_selection import train_test_split\n",
    "#print(df_scaled)\n",
    "# split data into train and test sets\n",
    "X_train, X_test, y_train, y_test = train_test_split(df, y, test_size=.2, random_state=205)"
   ]
  },
  {
   "cell_type": "code",
   "execution_count": 279,
   "metadata": {},
   "outputs": [
    {
     "name": "stderr",
     "output_type": "stream",
     "text": [
      "D:\\Applns\\Anaconda3\\lib\\site-packages\\xgboost\\core.py:587: FutureWarning: Series.base is deprecated and will be removed in a future version\n",
      "  if getattr(data, 'base', None) is not None and \\\n"
     ]
    },
    {
     "name": "stdout",
     "output_type": "stream",
     "text": [
      "[17:42:17] WARNING: src/objective/regression_obj.cu:152: reg:linear is now deprecated in favor of reg:squarederror.\n",
      "[0]\tvalidation_0-rmse:3.35707e+06\n",
      "[1]\tvalidation_0-rmse:3.03555e+06\n",
      "[2]\tvalidation_0-rmse:2.75289e+06\n",
      "[3]\tvalidation_0-rmse:2.50845e+06\n",
      "[4]\tvalidation_0-rmse:2.27444e+06\n",
      "[5]\tvalidation_0-rmse:2.0732e+06\n",
      "[6]\tvalidation_0-rmse:1.89272e+06\n",
      "[7]\tvalidation_0-rmse:1.72244e+06\n",
      "[8]\tvalidation_0-rmse:1.58427e+06\n",
      "[9]\tvalidation_0-rmse:1.45174e+06\n",
      "[10]\tvalidation_0-rmse:1.33829e+06\n",
      "[11]\tvalidation_0-rmse:1.23556e+06\n",
      "[12]\tvalidation_0-rmse:1.14212e+06\n",
      "[13]\tvalidation_0-rmse:1.05676e+06\n",
      "[14]\tvalidation_0-rmse:991997\n",
      "[15]\tvalidation_0-rmse:928651\n",
      "[16]\tvalidation_0-rmse:878090\n",
      "[17]\tvalidation_0-rmse:832700\n",
      "[18]\tvalidation_0-rmse:793539\n",
      "[19]\tvalidation_0-rmse:755431\n",
      "[20]\tvalidation_0-rmse:726681\n",
      "[21]\tvalidation_0-rmse:698631\n",
      "[22]\tvalidation_0-rmse:677659\n",
      "[23]\tvalidation_0-rmse:660176\n",
      "[24]\tvalidation_0-rmse:644797\n",
      "[25]\tvalidation_0-rmse:629083\n",
      "[26]\tvalidation_0-rmse:615338\n",
      "[27]\tvalidation_0-rmse:605109\n",
      "[28]\tvalidation_0-rmse:596537\n",
      "[29]\tvalidation_0-rmse:587224\n",
      "[30]\tvalidation_0-rmse:580242\n",
      "[31]\tvalidation_0-rmse:574654\n",
      "[32]\tvalidation_0-rmse:569452\n",
      "[33]\tvalidation_0-rmse:565334\n",
      "[34]\tvalidation_0-rmse:562273\n",
      "[35]\tvalidation_0-rmse:556155\n",
      "[36]\tvalidation_0-rmse:551748\n",
      "[37]\tvalidation_0-rmse:547978\n",
      "[38]\tvalidation_0-rmse:545975\n",
      "[39]\tvalidation_0-rmse:545501\n",
      "[40]\tvalidation_0-rmse:543544\n",
      "[41]\tvalidation_0-rmse:541360\n",
      "[42]\tvalidation_0-rmse:540154\n",
      "[43]\tvalidation_0-rmse:539668\n",
      "[44]\tvalidation_0-rmse:537623\n",
      "[45]\tvalidation_0-rmse:537228\n",
      "[46]\tvalidation_0-rmse:537117\n",
      "[47]\tvalidation_0-rmse:536835\n",
      "[48]\tvalidation_0-rmse:536709\n",
      "[49]\tvalidation_0-rmse:535274\n",
      "[50]\tvalidation_0-rmse:534402\n",
      "[51]\tvalidation_0-rmse:534182\n",
      "[52]\tvalidation_0-rmse:533704\n",
      "[53]\tvalidation_0-rmse:533052\n",
      "[54]\tvalidation_0-rmse:528960\n",
      "[55]\tvalidation_0-rmse:528802\n",
      "[56]\tvalidation_0-rmse:525636\n",
      "[57]\tvalidation_0-rmse:525734\n",
      "[58]\tvalidation_0-rmse:523877\n",
      "[59]\tvalidation_0-rmse:523505\n",
      "[60]\tvalidation_0-rmse:522934\n",
      "[61]\tvalidation_0-rmse:521982\n",
      "[62]\tvalidation_0-rmse:521578\n",
      "[63]\tvalidation_0-rmse:521955\n",
      "[64]\tvalidation_0-rmse:520718\n",
      "[65]\tvalidation_0-rmse:519582\n",
      "[66]\tvalidation_0-rmse:518970\n",
      "[67]\tvalidation_0-rmse:516848\n",
      "[68]\tvalidation_0-rmse:516437\n",
      "[69]\tvalidation_0-rmse:515732\n",
      "[70]\tvalidation_0-rmse:515998\n",
      "[71]\tvalidation_0-rmse:513881\n",
      "[72]\tvalidation_0-rmse:512298\n",
      "[73]\tvalidation_0-rmse:512414\n",
      "[74]\tvalidation_0-rmse:511850\n",
      "[75]\tvalidation_0-rmse:512228\n",
      "[76]\tvalidation_0-rmse:512026\n",
      "[77]\tvalidation_0-rmse:510631\n",
      "[78]\tvalidation_0-rmse:509479\n",
      "[79]\tvalidation_0-rmse:509604\n",
      "[80]\tvalidation_0-rmse:509013\n",
      "[81]\tvalidation_0-rmse:508514\n",
      "[82]\tvalidation_0-rmse:508956\n",
      "[83]\tvalidation_0-rmse:506657\n",
      "[84]\tvalidation_0-rmse:507499\n",
      "[85]\tvalidation_0-rmse:508165\n",
      "[86]\tvalidation_0-rmse:508126\n",
      "[87]\tvalidation_0-rmse:508064\n",
      "[88]\tvalidation_0-rmse:507102\n",
      "[89]\tvalidation_0-rmse:507171\n",
      "[90]\tvalidation_0-rmse:506756\n",
      "[91]\tvalidation_0-rmse:507405\n",
      "[92]\tvalidation_0-rmse:504599\n",
      "[93]\tvalidation_0-rmse:504428\n",
      "[94]\tvalidation_0-rmse:501698\n",
      "[95]\tvalidation_0-rmse:501435\n",
      "[96]\tvalidation_0-rmse:499146\n",
      "[97]\tvalidation_0-rmse:499056\n",
      "[98]\tvalidation_0-rmse:497606\n",
      "[99]\tvalidation_0-rmse:496324\n",
      "XGBoost - Linear regression:  496325.6420960971\n"
     ]
    }
   ],
   "source": [
    "#XGB Boost regression\n",
    "import xgboost as xgb\n",
    "import numpy as np\n",
    "from sklearn import metrics\n",
    "xlf = xgb.XGBRegressor()\n",
    "xlf.fit(X_train, y_train, eval_metric='rmse', verbose = True, eval_set = [(X_test, y_test)])\n",
    "# calculate the auc score\n",
    "y_pred = xlf.predict(X_test)\n",
    "#RMSE - Test\n",
    "print(\"XGBoost - Linear regression: \", np.sqrt(metrics.mean_squared_error(y_test,y_pred)))\n"
   ]
  },
  {
   "cell_type": "code",
   "execution_count": 287,
   "metadata": {},
   "outputs": [
    {
     "name": "stdout",
     "output_type": "stream",
     "text": [
      "(19615, 10)\n"
     ]
    }
   ],
   "source": [
    "import pandas as pd\n",
    "# In[83]:\n",
    "test_df = pd.read_csv('D:\\Hackathon\\MachineHack - Music\\Data_Test.csv')\n",
    "test_df.head(10)\n",
    "print(test_df.shape)"
   ]
  },
  {
   "cell_type": "code",
   "execution_count": 288,
   "metadata": {},
   "outputs": [],
   "source": [
    "#Replace K, M, B\n",
    "def value_to_float(x):\n",
    "    if type(x) == float or type(x) == int:\n",
    "        return x\n",
    "    if 'K' in x:\n",
    "        if len(x) > 1:\n",
    "            return float(x.replace('K', '')) * 1000\n",
    "        return 1000.0\n",
    "    if 'M' in x:\n",
    "        if len(x) > 1:\n",
    "            return float(x.replace('M', '')) * 1000000\n",
    "        return 1000000.0\n",
    "    if 'B' in x:\n",
    "        return float(x.replace('B', '')) * 1000000000\n",
    "    if ',' in x:\n",
    "        return float(x.replace(',', '')) \n",
    "    return float(x)\n",
    "\n",
    "test_df.Likes = test_df.Likes.apply(value_to_float)\n",
    "test_df.Popularity = test_df.Popularity.apply(value_to_float)"
   ]
  },
  {
   "cell_type": "code",
   "execution_count": 289,
   "metadata": {},
   "outputs": [
    {
     "data": {
      "text/html": [
       "<div>\n",
       "<style scoped>\n",
       "    .dataframe tbody tr th:only-of-type {\n",
       "        vertical-align: middle;\n",
       "    }\n",
       "\n",
       "    .dataframe tbody tr th {\n",
       "        vertical-align: top;\n",
       "    }\n",
       "\n",
       "    .dataframe thead th {\n",
       "        text-align: right;\n",
       "    }\n",
       "</style>\n",
       "<table border=\"1\" class=\"dataframe\">\n",
       "  <thead>\n",
       "    <tr style=\"text-align: right;\">\n",
       "      <th></th>\n",
       "      <th>Name</th>\n",
       "      <th>Genre</th>\n",
       "      <th>Likes</th>\n",
       "      <th>Popularity</th>\n",
       "    </tr>\n",
       "  </thead>\n",
       "  <tbody>\n",
       "    <tr>\n",
       "      <th>0</th>\n",
       "      <td>L2Share♫79</td>\n",
       "      <td>all-music</td>\n",
       "      <td>5428.0</td>\n",
       "      <td>118.0</td>\n",
       "    </tr>\n",
       "    <tr>\n",
       "      <th>1</th>\n",
       "      <td>Morgan Page</td>\n",
       "      <td>danceedm</td>\n",
       "      <td>738.0</td>\n",
       "      <td>195.0</td>\n",
       "    </tr>\n",
       "    <tr>\n",
       "      <th>2</th>\n",
       "      <td>Dirty Workz</td>\n",
       "      <td>danceedm</td>\n",
       "      <td>386.0</td>\n",
       "      <td>96.0</td>\n",
       "    </tr>\n",
       "    <tr>\n",
       "      <th>3</th>\n",
       "      <td>Gucci Mane</td>\n",
       "      <td>all-music</td>\n",
       "      <td>388.0</td>\n",
       "      <td>19.0</td>\n",
       "    </tr>\n",
       "    <tr>\n",
       "      <th>4</th>\n",
       "      <td>Angga Kecap</td>\n",
       "      <td>rock</td>\n",
       "      <td>79.0</td>\n",
       "      <td>1.0</td>\n",
       "    </tr>\n",
       "  </tbody>\n",
       "</table>\n",
       "</div>"
      ],
      "text/plain": [
       "          Name      Genre   Likes  Popularity\n",
       "0   L2Share♫79  all-music  5428.0       118.0\n",
       "1  Morgan Page   danceedm   738.0       195.0\n",
       "2  Dirty Workz   danceedm   386.0        96.0\n",
       "3   Gucci Mane  all-music   388.0        19.0\n",
       "4  Angga Kecap       rock    79.0         1.0"
      ]
     },
     "execution_count": 289,
     "metadata": {},
     "output_type": "execute_result"
    }
   ],
   "source": [
    "#Correlation matrix\n",
    "test_df.drop(['Unique_ID','Country','Timestamp','Song_Name','Comments','Followers'],inplace = True, axis = 1)\n",
    "test_df.head()"
   ]
  },
  {
   "cell_type": "code",
   "execution_count": 290,
   "metadata": {},
   "outputs": [
    {
     "name": "stdout",
     "output_type": "stream",
     "text": [
      "(19615, 10)\n"
     ]
    },
    {
     "data": {
      "text/html": [
       "<div>\n",
       "<style scoped>\n",
       "    .dataframe tbody tr th:only-of-type {\n",
       "        vertical-align: middle;\n",
       "    }\n",
       "\n",
       "    .dataframe tbody tr th {\n",
       "        vertical-align: top;\n",
       "    }\n",
       "\n",
       "    .dataframe thead th {\n",
       "        text-align: right;\n",
       "    }\n",
       "</style>\n",
       "<table border=\"1\" class=\"dataframe\">\n",
       "  <thead>\n",
       "    <tr style=\"text-align: right;\">\n",
       "      <th></th>\n",
       "      <th>gen1</th>\n",
       "      <th>gen2</th>\n",
       "      <th>gen3</th>\n",
       "      <th>gen4</th>\n",
       "      <th>gen5</th>\n",
       "      <th>gen6</th>\n",
       "      <th>gen7</th>\n",
       "      <th>gen8</th>\n",
       "      <th>gen9</th>\n",
       "      <th>gen10</th>\n",
       "    </tr>\n",
       "  </thead>\n",
       "  <tbody>\n",
       "    <tr>\n",
       "      <th>0</th>\n",
       "      <td>1.0</td>\n",
       "      <td>-1.0</td>\n",
       "      <td>3.0</td>\n",
       "      <td>0.0</td>\n",
       "      <td>0.0</td>\n",
       "      <td>0.0</td>\n",
       "      <td>1.0</td>\n",
       "      <td>-1.0</td>\n",
       "      <td>0.0</td>\n",
       "      <td>-2.0</td>\n",
       "    </tr>\n",
       "    <tr>\n",
       "      <th>1</th>\n",
       "      <td>1.0</td>\n",
       "      <td>0.0</td>\n",
       "      <td>0.0</td>\n",
       "      <td>0.0</td>\n",
       "      <td>-1.0</td>\n",
       "      <td>0.0</td>\n",
       "      <td>1.0</td>\n",
       "      <td>-1.0</td>\n",
       "      <td>0.0</td>\n",
       "      <td>4.0</td>\n",
       "    </tr>\n",
       "    <tr>\n",
       "      <th>2</th>\n",
       "      <td>1.0</td>\n",
       "      <td>0.0</td>\n",
       "      <td>0.0</td>\n",
       "      <td>0.0</td>\n",
       "      <td>-1.0</td>\n",
       "      <td>0.0</td>\n",
       "      <td>1.0</td>\n",
       "      <td>-1.0</td>\n",
       "      <td>0.0</td>\n",
       "      <td>4.0</td>\n",
       "    </tr>\n",
       "    <tr>\n",
       "      <th>3</th>\n",
       "      <td>1.0</td>\n",
       "      <td>-1.0</td>\n",
       "      <td>3.0</td>\n",
       "      <td>0.0</td>\n",
       "      <td>0.0</td>\n",
       "      <td>0.0</td>\n",
       "      <td>1.0</td>\n",
       "      <td>-1.0</td>\n",
       "      <td>0.0</td>\n",
       "      <td>-2.0</td>\n",
       "    </tr>\n",
       "    <tr>\n",
       "      <th>4</th>\n",
       "      <td>0.0</td>\n",
       "      <td>-1.0</td>\n",
       "      <td>0.0</td>\n",
       "      <td>1.0</td>\n",
       "      <td>0.0</td>\n",
       "      <td>1.0</td>\n",
       "      <td>0.0</td>\n",
       "      <td>-1.0</td>\n",
       "      <td>0.0</td>\n",
       "      <td>0.0</td>\n",
       "    </tr>\n",
       "  </tbody>\n",
       "</table>\n",
       "</div>"
      ],
      "text/plain": [
       "   gen1  gen2  gen3  gen4  gen5  gen6  gen7  gen8  gen9  gen10\n",
       "0   1.0  -1.0   3.0   0.0   0.0   0.0   1.0  -1.0   0.0   -2.0\n",
       "1   1.0   0.0   0.0   0.0  -1.0   0.0   1.0  -1.0   0.0    4.0\n",
       "2   1.0   0.0   0.0   0.0  -1.0   0.0   1.0  -1.0   0.0    4.0\n",
       "3   1.0  -1.0   3.0   0.0   0.0   0.0   1.0  -1.0   0.0   -2.0\n",
       "4   0.0  -1.0   0.0   1.0   0.0   1.0   0.0  -1.0   0.0    0.0"
      ]
     },
     "execution_count": 290,
     "metadata": {},
     "output_type": "execute_result"
    }
   ],
   "source": [
    "from sklearn.preprocessing import LabelEncoder,OneHotEncoder\n",
    "# Converting Genre and Name to labelencoding\n",
    "labelencoder = LabelEncoder()\n",
    "# test_df['Genre'] = labelencoder.fit_transform(test_df['Genre'])\n",
    "#test_df['Name'] = labelencoder.fit_transform(test_df['Name'])\n",
    "test_df.head()\n",
    "\n",
    "#Hash the Name\n",
    "name_hashed_features = nfh.transform(test_df['Name'])\n",
    "name_hashed_features = name_hashed_features.toarray()\n",
    "name_hashed_features = pd.DataFrame(name_hashed_features)\n",
    "name_hashed_features.head()\n",
    "print(name_hashed_features.shape)\n",
    "\n",
    "\n",
    "genre_hashed_features = gfh.transform(test_df['Genre'])\n",
    "genre_hashed_features = genre_hashed_features.toarray()\n",
    "genre_hashed_features = pd.DataFrame(genre_hashed_features,columns=['gen1','gen2','gen3','gen4','gen5','gen6','gen7','gen8','gen9','gen10',])\n",
    "genre_hashed_features.head()"
   ]
  },
  {
   "cell_type": "code",
   "execution_count": 291,
   "metadata": {},
   "outputs": [
    {
     "name": "stdout",
     "output_type": "stream",
     "text": [
      "      Likes  Popularity\n",
      "0 -0.068006   -0.166740\n",
      "1 -0.158250   -0.151475\n",
      "2 -0.165023   -0.171102\n",
      "3 -0.164984   -0.186368\n",
      "4 -0.170930   -0.189936\n"
     ]
    }
   ],
   "source": [
    "test_df.drop(['Name','Genre'],inplace = True, axis = 1)\n",
    "#Standard scaling\n",
    "# from sklearn.preprocessing import StandardScaler\n",
    "# from sklearn.compose import ColumnTransformer\n",
    "# sc_x = StandardScaler()\n",
    "# ct = ColumnTransformer([\n",
    "#          ('somename', StandardScaler(), ['Likes', 'Popularity'])\n",
    "#        ], remainder='passthrough')\n",
    "test_df = ct.transform(test_df)\n",
    "test_df = pd.DataFrame(test_df,columns=['Likes','Popularity'])\n",
    "print(test_df.head())"
   ]
  },
  {
   "cell_type": "code",
   "execution_count": 292,
   "metadata": {},
   "outputs": [
    {
     "name": "stdout",
     "output_type": "stream",
     "text": [
      "(19615, 22)\n"
     ]
    }
   ],
   "source": [
    "test_df = test_df.join(name_hashed_features)\n",
    "test_df = test_df.join(genre_hashed_features)\n",
    "# test_df['Genre'] = test_df['Genre'].apply(pd.to_numeric, errors='coerce')\n",
    "test_df['Likes'] = test_df['Likes'].apply(pd.to_numeric, errors='coerce')\n",
    "test_df['Popularity'] =test_df['Popularity'].apply(pd.to_numeric, errors='coerce')\n",
    "print(test_df.shape)"
   ]
  },
  {
   "cell_type": "code",
   "execution_count": 294,
   "metadata": {},
   "outputs": [],
   "source": [
    "# calculate the auc score\n",
    "y_pred_1 = xlf.predict(test_df)\n",
    "y_pred_1 = pd.DataFrame(y_pred_1)\n",
    "y_pred_1.to_csv('Data_Test_Predicted_Feature_Hash_Genre_Feature_Hash_Name_XGBoost_V_L_P.csv',sep='#')"
   ]
  },
  {
   "cell_type": "code",
   "execution_count": null,
   "metadata": {},
   "outputs": [],
   "source": []
  },
  {
   "cell_type": "code",
   "execution_count": null,
   "metadata": {},
   "outputs": [],
   "source": []
  }
 ],
 "metadata": {
  "kernelspec": {
   "display_name": "Python 3",
   "language": "python",
   "name": "python3"
  },
  "language_info": {
   "codemirror_mode": {
    "name": "ipython",
    "version": 3
   },
   "file_extension": ".py",
   "mimetype": "text/x-python",
   "name": "python",
   "nbconvert_exporter": "python",
   "pygments_lexer": "ipython3",
   "version": "3.7.0"
  }
 },
 "nbformat": 4,
 "nbformat_minor": 2
}
