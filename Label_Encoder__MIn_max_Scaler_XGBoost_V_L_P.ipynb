{
 "cells": [
  {
   "cell_type": "code",
   "execution_count": 68,
   "metadata": {
    "scrolled": true
   },
   "outputs": [
    {
     "name": "stdout",
     "output_type": "stream",
     "text": [
      "(78458, 11)\n"
     ]
    }
   ],
   "source": [
    "import pandas as pd\n",
    "\n",
    "\n",
    "# In[83]:\n",
    "df = pd.read_csv('Data_Train.csv')\n",
    "df.head(10)\n",
    "print(df.shape)\n"
   ]
  },
  {
   "cell_type": "code",
   "execution_count": 69,
   "metadata": {},
   "outputs": [],
   "source": [
    "\n",
    "#Replace K, M, B\n",
    "def value_to_float(x):\n",
    "    if type(x) == float or type(x) == int:\n",
    "        return x\n",
    "    if 'K' in x:\n",
    "        if len(x) > 1:\n",
    "            return float(x.replace('K', '')) * 1000\n",
    "        return 1000.0\n",
    "    if 'M' in x:\n",
    "        if len(x) > 1:\n",
    "            return float(x.replace('M', '')) * 1000000\n",
    "        return 1000000.0\n",
    "    if 'B' in x:\n",
    "        return float(x.replace('B', '')) * 1000000000\n",
    "    if ',' in x:\n",
    "        return float(x.replace(',', '')) \n",
    "    return float(x)\n",
    "\n",
    "df.Likes = df.Likes.apply(value_to_float)\n",
    "df.Popularity = df.Popularity.apply(value_to_float)\n",
    "df.to_csv('Data_Train_Transformed_1.csv')\n",
    "df = df[df['Views'] > df[\"Likes\"]]\n",
    "# print(df.shape)\n",
    "# print(df.head())"
   ]
  },
  {
   "cell_type": "code",
   "execution_count": 52,
   "metadata": {},
   "outputs": [
    {
     "data": {
      "text/plain": [
       "Unique_ID     0\n",
       "Name          0\n",
       "Genre         0\n",
       "Country       0\n",
       "Song_Name     1\n",
       "Timestamp     0\n",
       "Views         0\n",
       "Comments      0\n",
       "Likes         0\n",
       "Popularity    0\n",
       "Followers     0\n",
       "dtype: int64"
      ]
     },
     "execution_count": 52,
     "metadata": {},
     "output_type": "execute_result"
    }
   ],
   "source": [
    "df.isnull().sum()"
   ]
  },
  {
   "cell_type": "code",
   "execution_count": 70,
   "metadata": {
    "scrolled": false
   },
   "outputs": [],
   "source": [
    "# Distribution of features by Genre\n",
    "df_mean = df.groupby('Genre').mean()\n",
    "#df_mean"
   ]
  },
  {
   "cell_type": "code",
   "execution_count": 71,
   "metadata": {},
   "outputs": [
    {
     "data": {
      "text/html": [
       "<div>\n",
       "<style scoped>\n",
       "    .dataframe tbody tr th:only-of-type {\n",
       "        vertical-align: middle;\n",
       "    }\n",
       "\n",
       "    .dataframe tbody tr th {\n",
       "        vertical-align: top;\n",
       "    }\n",
       "\n",
       "    .dataframe thead th {\n",
       "        text-align: right;\n",
       "    }\n",
       "</style>\n",
       "<table border=\"1\" class=\"dataframe\">\n",
       "  <thead>\n",
       "    <tr style=\"text-align: right;\">\n",
       "      <th></th>\n",
       "      <th>Name</th>\n",
       "      <th>Genre</th>\n",
       "      <th>Views</th>\n",
       "      <th>Likes</th>\n",
       "      <th>Popularity</th>\n",
       "    </tr>\n",
       "  </thead>\n",
       "  <tbody>\n",
       "    <tr>\n",
       "      <th>0</th>\n",
       "      <td>Hardstyle</td>\n",
       "      <td>danceedm</td>\n",
       "      <td>14017</td>\n",
       "      <td>499.0</td>\n",
       "      <td>97.0</td>\n",
       "    </tr>\n",
       "    <tr>\n",
       "      <th>1</th>\n",
       "      <td>Dj Aladdin</td>\n",
       "      <td>danceedm</td>\n",
       "      <td>1918</td>\n",
       "      <td>49.0</td>\n",
       "      <td>17.0</td>\n",
       "    </tr>\n",
       "    <tr>\n",
       "      <th>2</th>\n",
       "      <td>Maxximize On Air</td>\n",
       "      <td>danceedm</td>\n",
       "      <td>9668</td>\n",
       "      <td>312.0</td>\n",
       "      <td>91.0</td>\n",
       "    </tr>\n",
       "    <tr>\n",
       "      <th>3</th>\n",
       "      <td>GR6 EXPLODE</td>\n",
       "      <td>rbsoul</td>\n",
       "      <td>113036</td>\n",
       "      <td>2400.0</td>\n",
       "      <td>76.0</td>\n",
       "    </tr>\n",
       "    <tr>\n",
       "      <th>4</th>\n",
       "      <td>Tritonal</td>\n",
       "      <td>danceedm</td>\n",
       "      <td>110024</td>\n",
       "      <td>3031.0</td>\n",
       "      <td>699.0</td>\n",
       "    </tr>\n",
       "  </tbody>\n",
       "</table>\n",
       "</div>"
      ],
      "text/plain": [
       "               Name     Genre   Views   Likes  Popularity\n",
       "0         Hardstyle  danceedm   14017   499.0        97.0\n",
       "1        Dj Aladdin  danceedm    1918    49.0        17.0\n",
       "2  Maxximize On Air  danceedm    9668   312.0        91.0\n",
       "3       GR6 EXPLODE    rbsoul  113036  2400.0        76.0\n",
       "4          Tritonal  danceedm  110024  3031.0       699.0"
      ]
     },
     "execution_count": 71,
     "metadata": {},
     "output_type": "execute_result"
    }
   ],
   "source": [
    "#Correlation matrix\n",
    "df.drop(['Unique_ID','Country','Timestamp','Song_Name','Comments','Followers'],inplace = True, axis = 1)\n",
    "df.head()\n"
   ]
  },
  {
   "cell_type": "code",
   "execution_count": 72,
   "metadata": {
    "scrolled": true
   },
   "outputs": [
    {
     "data": {
      "text/html": [
       "<div>\n",
       "<style scoped>\n",
       "    .dataframe tbody tr th:only-of-type {\n",
       "        vertical-align: middle;\n",
       "    }\n",
       "\n",
       "    .dataframe tbody tr th {\n",
       "        vertical-align: top;\n",
       "    }\n",
       "\n",
       "    .dataframe thead th {\n",
       "        text-align: right;\n",
       "    }\n",
       "</style>\n",
       "<table border=\"1\" class=\"dataframe\">\n",
       "  <thead>\n",
       "    <tr style=\"text-align: right;\">\n",
       "      <th></th>\n",
       "      <th>Name</th>\n",
       "      <th>Genre</th>\n",
       "      <th>Views</th>\n",
       "      <th>Likes</th>\n",
       "      <th>Popularity</th>\n",
       "    </tr>\n",
       "  </thead>\n",
       "  <tbody>\n",
       "    <tr>\n",
       "      <th>0</th>\n",
       "      <td>398</td>\n",
       "      <td>5</td>\n",
       "      <td>14017</td>\n",
       "      <td>499.0</td>\n",
       "      <td>97.0</td>\n",
       "    </tr>\n",
       "    <tr>\n",
       "      <th>1</th>\n",
       "      <td>264</td>\n",
       "      <td>5</td>\n",
       "      <td>1918</td>\n",
       "      <td>49.0</td>\n",
       "      <td>17.0</td>\n",
       "    </tr>\n",
       "    <tr>\n",
       "      <th>2</th>\n",
       "      <td>629</td>\n",
       "      <td>5</td>\n",
       "      <td>9668</td>\n",
       "      <td>312.0</td>\n",
       "      <td>91.0</td>\n",
       "    </tr>\n",
       "    <tr>\n",
       "      <th>3</th>\n",
       "      <td>361</td>\n",
       "      <td>17</td>\n",
       "      <td>113036</td>\n",
       "      <td>2400.0</td>\n",
       "      <td>76.0</td>\n",
       "    </tr>\n",
       "    <tr>\n",
       "      <th>4</th>\n",
       "      <td>970</td>\n",
       "      <td>5</td>\n",
       "      <td>110024</td>\n",
       "      <td>3031.0</td>\n",
       "      <td>699.0</td>\n",
       "    </tr>\n",
       "  </tbody>\n",
       "</table>\n",
       "</div>"
      ],
      "text/plain": [
       "   Name  Genre   Views   Likes  Popularity\n",
       "0   398      5   14017   499.0        97.0\n",
       "1   264      5    1918    49.0        17.0\n",
       "2   629      5    9668   312.0        91.0\n",
       "3   361     17  113036  2400.0        76.0\n",
       "4   970      5  110024  3031.0       699.0"
      ]
     },
     "execution_count": 72,
     "metadata": {},
     "output_type": "execute_result"
    }
   ],
   "source": [
    "from sklearn.preprocessing import LabelEncoder,OneHotEncoder\n",
    "# Converting Genre and Name to labelencoding\n",
    "labelencoder = LabelEncoder()\n",
    "df['Genre'] = labelencoder.fit_transform(df['Genre'])\n",
    "df['Name'] = labelencoder.fit_transform(df['Name'])\n",
    "df.head()\n"
   ]
  },
  {
   "cell_type": "code",
   "execution_count": 73,
   "metadata": {},
   "outputs": [
    {
     "name": "stdout",
     "output_type": "stream",
     "text": [
      "       Name     Genre     Likes  Popularity     Views\n",
      "0 -0.628392 -0.623009 -0.159204   -0.173071   14017.0\n",
      "1 -1.031288 -0.623009 -0.167662   -0.189570    1918.0\n",
      "2  0.066151 -0.623009 -0.162719   -0.174308    9668.0\n",
      "3 -0.739640  1.384875 -0.123471   -0.177402  113036.0\n",
      "4  1.091430 -0.623009 -0.111610   -0.048918  110024.0\n"
     ]
    },
    {
     "name": "stderr",
     "output_type": "stream",
     "text": [
      "D:\\Applns\\Anaconda3\\lib\\site-packages\\sklearn\\preprocessing\\data.py:625: DataConversionWarning: Data with input dtype int32, float64 were all converted to float64 by StandardScaler.\n",
      "  return self.partial_fit(X, y)\n",
      "D:\\Applns\\Anaconda3\\lib\\site-packages\\sklearn\\base.py:462: DataConversionWarning: Data with input dtype int32, float64 were all converted to float64 by StandardScaler.\n",
      "  return self.fit(X, **fit_params).transform(X)\n"
     ]
    }
   ],
   "source": [
    "#Standard scaling\n",
    "from sklearn.preprocessing import MinMaxScaler\n",
    "from sklearn.compose import ColumnTransformer\n",
    "sc_x = MinMaxScaler()\n",
    "ct = ColumnTransformer([\n",
    "         ('somename', StandardScaler(), ['Name','Genre','Likes', 'Popularity'])\n",
    "       ], remainder='passthrough')\n",
    "df = ct.fit_transform(df)\n",
    "df = pd.DataFrame(df,columns=['Name','Genre','Likes','Popularity','Views'])\n",
    "print(df.head())"
   ]
  },
  {
   "cell_type": "code",
   "execution_count": null,
   "metadata": {},
   "outputs": [],
   "source": []
  },
  {
   "cell_type": "code",
   "execution_count": 57,
   "metadata": {},
   "outputs": [
    {
     "data": {
      "text/plain": [
       "Name          0\n",
       "Genre         0\n",
       "Likes         0\n",
       "Popularity    0\n",
       "Views         0\n",
       "dtype: int64"
      ]
     },
     "execution_count": 57,
     "metadata": {},
     "output_type": "execute_result"
    }
   ],
   "source": [
    "df.isnull().sum()\n"
   ]
  },
  {
   "cell_type": "code",
   "execution_count": 74,
   "metadata": {},
   "outputs": [
    {
     "data": {
      "text/plain": [
       "<matplotlib.axes._subplots.AxesSubplot at 0x1df5d727550>"
      ]
     },
     "execution_count": 74,
     "metadata": {},
     "output_type": "execute_result"
    },
    {
     "data": {
      "image/png": "[encoded data removed]",
      "text/plain": [
       "<Figure size 432x288 with 1 Axes>"
      ]
     },
     "metadata": {
      "needs_background": "light"
     },
     "output_type": "display_data"
    }
   ],
   "source": [
    "y = df['Views']\n",
    "df.drop('Views', inplace=True,axis=1)\n",
    "y.plot.hist()"
   ]
  },
  {
   "cell_type": "code",
   "execution_count": 75,
   "metadata": {},
   "outputs": [
    {
     "data": {
      "text/plain": [
       "<matplotlib.axes._subplots.AxesSubplot at 0x1df5d7422b0>"
      ]
     },
     "execution_count": 75,
     "metadata": {},
     "output_type": "execute_result"
    },
    {
     "data": {
      "image/png": "[encoded data removed]",
      "text/plain": [
       "<Figure size 432x288 with 1 Axes>"
      ]
     },
     "metadata": {
      "needs_background": "light"
     },
     "output_type": "display_data"
    }
   ],
   "source": [
    "df.describe()\n",
    "df.plot.hist()"
   ]
  },
  {
   "cell_type": "code",
   "execution_count": 76,
   "metadata": {
    "scrolled": false
   },
   "outputs": [],
   "source": [
    "from sklearn.model_selection import train_test_split\n",
    "#print(df_scaled)\n",
    "# split data into train and test sets\n",
    "X_train, X_test, y_train, y_test = train_test_split(df, y, test_size=.2, random_state=205)"
   ]
  },
  {
   "cell_type": "code",
   "execution_count": 77,
   "metadata": {},
   "outputs": [
    {
     "name": "stdout",
     "output_type": "stream",
     "text": [
      "[15:23:23] WARNING: src/objective/regression_obj.cu:152: reg:linear is now deprecated in favor of reg:squarederror.\n",
      "[0]\tvalidation_0-rmse:3.35707e+06\n",
      "[1]\tvalidation_0-rmse:3.03555e+06\n",
      "[2]\tvalidation_0-rmse:2.75289e+06\n",
      "[3]\tvalidation_0-rmse:2.50845e+06\n",
      "[4]\tvalidation_0-rmse:2.27444e+06\n"
     ]
    },
    {
     "name": "stderr",
     "output_type": "stream",
     "text": [
      "D:\\Applns\\Anaconda3\\lib\\site-packages\\xgboost\\core.py:587: FutureWarning: Series.base is deprecated and will be removed in a future version\n",
      "  if getattr(data, 'base', None) is not None and \\\n"
     ]
    },
    {
     "name": "stdout",
     "output_type": "stream",
     "text": [
      "[5]\tvalidation_0-rmse:2.0732e+06\n",
      "[6]\tvalidation_0-rmse:1.89272e+06\n",
      "[7]\tvalidation_0-rmse:1.72244e+06\n",
      "[8]\tvalidation_0-rmse:1.58427e+06\n",
      "[9]\tvalidation_0-rmse:1.45174e+06\n",
      "[10]\tvalidation_0-rmse:1.33829e+06\n",
      "[11]\tvalidation_0-rmse:1.23556e+06\n",
      "[12]\tvalidation_0-rmse:1.14884e+06\n",
      "[13]\tvalidation_0-rmse:1.06882e+06\n",
      "[14]\tvalidation_0-rmse:999867\n",
      "[15]\tvalidation_0-rmse:939814\n",
      "[16]\tvalidation_0-rmse:888021\n",
      "[17]\tvalidation_0-rmse:841334\n",
      "[18]\tvalidation_0-rmse:800889\n",
      "[19]\tvalidation_0-rmse:764964\n",
      "[20]\tvalidation_0-rmse:734908\n",
      "[21]\tvalidation_0-rmse:710318\n",
      "[22]\tvalidation_0-rmse:691172\n",
      "[23]\tvalidation_0-rmse:671461\n",
      "[24]\tvalidation_0-rmse:654541\n",
      "[25]\tvalidation_0-rmse:635699\n",
      "[26]\tvalidation_0-rmse:621804\n",
      "[27]\tvalidation_0-rmse:613141\n",
      "[28]\tvalidation_0-rmse:604017\n",
      "[29]\tvalidation_0-rmse:596751\n",
      "[30]\tvalidation_0-rmse:588532\n",
      "[31]\tvalidation_0-rmse:586235\n",
      "[32]\tvalidation_0-rmse:582212\n",
      "[33]\tvalidation_0-rmse:577453\n",
      "[34]\tvalidation_0-rmse:574482\n",
      "[35]\tvalidation_0-rmse:571895\n",
      "[36]\tvalidation_0-rmse:570261\n",
      "[37]\tvalidation_0-rmse:568180\n",
      "[38]\tvalidation_0-rmse:567400\n",
      "[39]\tvalidation_0-rmse:565585\n",
      "[40]\tvalidation_0-rmse:564086\n",
      "[41]\tvalidation_0-rmse:564331\n",
      "[42]\tvalidation_0-rmse:564810\n",
      "[43]\tvalidation_0-rmse:563428\n",
      "[44]\tvalidation_0-rmse:563150\n",
      "[45]\tvalidation_0-rmse:564272\n",
      "[46]\tvalidation_0-rmse:562274\n",
      "[47]\tvalidation_0-rmse:563391\n",
      "[48]\tvalidation_0-rmse:562442\n",
      "[49]\tvalidation_0-rmse:563066\n",
      "[50]\tvalidation_0-rmse:560561\n",
      "[51]\tvalidation_0-rmse:561937\n",
      "[52]\tvalidation_0-rmse:561880\n",
      "[53]\tvalidation_0-rmse:562648\n",
      "[54]\tvalidation_0-rmse:562084\n",
      "[55]\tvalidation_0-rmse:562052\n",
      "[56]\tvalidation_0-rmse:561555\n",
      "[57]\tvalidation_0-rmse:560003\n",
      "[58]\tvalidation_0-rmse:559099\n",
      "[59]\tvalidation_0-rmse:558183\n",
      "[60]\tvalidation_0-rmse:554579\n",
      "[61]\tvalidation_0-rmse:554111\n",
      "[62]\tvalidation_0-rmse:553212\n",
      "[63]\tvalidation_0-rmse:554169\n",
      "[64]\tvalidation_0-rmse:554158\n",
      "[65]\tvalidation_0-rmse:554515\n",
      "[66]\tvalidation_0-rmse:553805\n",
      "[67]\tvalidation_0-rmse:554700\n",
      "[68]\tvalidation_0-rmse:554757\n",
      "[69]\tvalidation_0-rmse:555262\n",
      "[70]\tvalidation_0-rmse:555822\n",
      "[71]\tvalidation_0-rmse:556432\n",
      "[72]\tvalidation_0-rmse:556663\n",
      "[73]\tvalidation_0-rmse:555377\n",
      "[74]\tvalidation_0-rmse:555841\n",
      "[75]\tvalidation_0-rmse:556728\n",
      "[76]\tvalidation_0-rmse:557413\n",
      "[77]\tvalidation_0-rmse:558025\n",
      "[78]\tvalidation_0-rmse:557718\n",
      "[79]\tvalidation_0-rmse:558086\n",
      "[80]\tvalidation_0-rmse:558157\n",
      "[81]\tvalidation_0-rmse:558568\n",
      "[82]\tvalidation_0-rmse:556826\n",
      "[83]\tvalidation_0-rmse:557154\n",
      "[84]\tvalidation_0-rmse:556255\n",
      "[85]\tvalidation_0-rmse:556645\n",
      "[86]\tvalidation_0-rmse:557417\n",
      "[87]\tvalidation_0-rmse:558137\n",
      "[88]\tvalidation_0-rmse:557867\n",
      "[89]\tvalidation_0-rmse:557352\n",
      "[90]\tvalidation_0-rmse:556825\n",
      "[91]\tvalidation_0-rmse:556734\n",
      "[92]\tvalidation_0-rmse:557161\n",
      "[93]\tvalidation_0-rmse:558118\n",
      "[94]\tvalidation_0-rmse:558467\n",
      "[95]\tvalidation_0-rmse:555052\n",
      "[96]\tvalidation_0-rmse:554703\n",
      "[97]\tvalidation_0-rmse:555023\n",
      "[98]\tvalidation_0-rmse:555333\n",
      "[99]\tvalidation_0-rmse:552816\n",
      "XGBoost - Linear regression:  552820.7399017788\n"
     ]
    }
   ],
   "source": [
    "#XGB Boost regression\n",
    "import xgboost as xgb\n",
    "import numpy as np\n",
    "from sklearn import metrics\n",
    "xlf = xgb.XGBRegressor()\n",
    "xlf.fit(X_train, y_train, eval_metric='rmse', verbose = True, eval_set = [(X_test, y_test)])\n",
    "# calculate the auc score\n",
    "y_pred = xlf.predict(X_test)\n",
    "#RMSE - Test\n",
    "print(\"XGBoost - Linear regression: \", np.sqrt(metrics.mean_squared_error(y_test,y_pred)))\n"
   ]
  },
  {
   "cell_type": "code",
   "execution_count": 78,
   "metadata": {},
   "outputs": [
    {
     "name": "stdout",
     "output_type": "stream",
     "text": [
      "(19615, 10)\n"
     ]
    }
   ],
   "source": [
    "import pandas as pd\n",
    "# In[83]:\n",
    "test_df = pd.read_csv('D:\\Hackathon\\MachineHack - Music\\Data_Test.csv')\n",
    "test_df.head(10)\n",
    "print(test_df.shape)"
   ]
  },
  {
   "cell_type": "code",
   "execution_count": 79,
   "metadata": {},
   "outputs": [],
   "source": [
    "#Replace K, M, B\n",
    "def value_to_float(x):\n",
    "    if type(x) == float or type(x) == int:\n",
    "        return x\n",
    "    if 'K' in x:\n",
    "        if len(x) > 1:\n",
    "            return float(x.replace('K', '')) * 1000\n",
    "        return 1000.0\n",
    "    if 'M' in x:\n",
    "        if len(x) > 1:\n",
    "            return float(x.replace('M', '')) * 1000000\n",
    "        return 1000000.0\n",
    "    if 'B' in x:\n",
    "        return float(x.replace('B', '')) * 1000000000\n",
    "    if ',' in x:\n",
    "        return float(x.replace(',', '')) \n",
    "    return float(x)\n",
    "\n",
    "test_df.Likes = test_df.Likes.apply(value_to_float)\n",
    "test_df.Popularity = test_df.Popularity.apply(value_to_float)"
   ]
  },
  {
   "cell_type": "code",
   "execution_count": 80,
   "metadata": {},
   "outputs": [
    {
     "data": {
      "text/html": [
       "<div>\n",
       "<style scoped>\n",
       "    .dataframe tbody tr th:only-of-type {\n",
       "        vertical-align: middle;\n",
       "    }\n",
       "\n",
       "    .dataframe tbody tr th {\n",
       "        vertical-align: top;\n",
       "    }\n",
       "\n",
       "    .dataframe thead th {\n",
       "        text-align: right;\n",
       "    }\n",
       "</style>\n",
       "<table border=\"1\" class=\"dataframe\">\n",
       "  <thead>\n",
       "    <tr style=\"text-align: right;\">\n",
       "      <th></th>\n",
       "      <th>Name</th>\n",
       "      <th>Genre</th>\n",
       "      <th>Likes</th>\n",
       "      <th>Popularity</th>\n",
       "    </tr>\n",
       "  </thead>\n",
       "  <tbody>\n",
       "    <tr>\n",
       "      <th>0</th>\n",
       "      <td>L2Share♫79</td>\n",
       "      <td>all-music</td>\n",
       "      <td>5428.0</td>\n",
       "      <td>118.0</td>\n",
       "    </tr>\n",
       "    <tr>\n",
       "      <th>1</th>\n",
       "      <td>Morgan Page</td>\n",
       "      <td>danceedm</td>\n",
       "      <td>738.0</td>\n",
       "      <td>195.0</td>\n",
       "    </tr>\n",
       "    <tr>\n",
       "      <th>2</th>\n",
       "      <td>Dirty Workz</td>\n",
       "      <td>danceedm</td>\n",
       "      <td>386.0</td>\n",
       "      <td>96.0</td>\n",
       "    </tr>\n",
       "    <tr>\n",
       "      <th>3</th>\n",
       "      <td>Gucci Mane</td>\n",
       "      <td>all-music</td>\n",
       "      <td>388.0</td>\n",
       "      <td>19.0</td>\n",
       "    </tr>\n",
       "    <tr>\n",
       "      <th>4</th>\n",
       "      <td>Angga Kecap</td>\n",
       "      <td>rock</td>\n",
       "      <td>79.0</td>\n",
       "      <td>1.0</td>\n",
       "    </tr>\n",
       "  </tbody>\n",
       "</table>\n",
       "</div>"
      ],
      "text/plain": [
       "          Name      Genre   Likes  Popularity\n",
       "0   L2Share♫79  all-music  5428.0       118.0\n",
       "1  Morgan Page   danceedm   738.0       195.0\n",
       "2  Dirty Workz   danceedm   386.0        96.0\n",
       "3   Gucci Mane  all-music   388.0        19.0\n",
       "4  Angga Kecap       rock    79.0         1.0"
      ]
     },
     "execution_count": 80,
     "metadata": {},
     "output_type": "execute_result"
    }
   ],
   "source": [
    "#Correlation matrix\n",
    "test_df.drop(['Unique_ID','Country','Timestamp','Song_Name','Comments','Followers'],inplace = True, axis = 1)\n",
    "test_df.head()"
   ]
  },
  {
   "cell_type": "code",
   "execution_count": 81,
   "metadata": {},
   "outputs": [
    {
     "data": {
      "text/html": [
       "<div>\n",
       "<style scoped>\n",
       "    .dataframe tbody tr th:only-of-type {\n",
       "        vertical-align: middle;\n",
       "    }\n",
       "\n",
       "    .dataframe tbody tr th {\n",
       "        vertical-align: top;\n",
       "    }\n",
       "\n",
       "    .dataframe thead th {\n",
       "        text-align: right;\n",
       "    }\n",
       "</style>\n",
       "<table border=\"1\" class=\"dataframe\">\n",
       "  <thead>\n",
       "    <tr style=\"text-align: right;\">\n",
       "      <th></th>\n",
       "      <th>Name</th>\n",
       "      <th>Genre</th>\n",
       "      <th>Likes</th>\n",
       "      <th>Popularity</th>\n",
       "    </tr>\n",
       "  </thead>\n",
       "  <tbody>\n",
       "    <tr>\n",
       "      <th>0</th>\n",
       "      <td>487</td>\n",
       "      <td>0</td>\n",
       "      <td>5428.0</td>\n",
       "      <td>118.0</td>\n",
       "    </tr>\n",
       "    <tr>\n",
       "      <th>1</th>\n",
       "      <td>604</td>\n",
       "      <td>5</td>\n",
       "      <td>738.0</td>\n",
       "      <td>195.0</td>\n",
       "    </tr>\n",
       "    <tr>\n",
       "      <th>2</th>\n",
       "      <td>235</td>\n",
       "      <td>5</td>\n",
       "      <td>386.0</td>\n",
       "      <td>96.0</td>\n",
       "    </tr>\n",
       "    <tr>\n",
       "      <th>3</th>\n",
       "      <td>350</td>\n",
       "      <td>0</td>\n",
       "      <td>388.0</td>\n",
       "      <td>19.0</td>\n",
       "    </tr>\n",
       "    <tr>\n",
       "      <th>4</th>\n",
       "      <td>53</td>\n",
       "      <td>19</td>\n",
       "      <td>79.0</td>\n",
       "      <td>1.0</td>\n",
       "    </tr>\n",
       "  </tbody>\n",
       "</table>\n",
       "</div>"
      ],
      "text/plain": [
       "   Name  Genre   Likes  Popularity\n",
       "0   487      0  5428.0       118.0\n",
       "1   604      5   738.0       195.0\n",
       "2   235      5   386.0        96.0\n",
       "3   350      0   388.0        19.0\n",
       "4    53     19    79.0         1.0"
      ]
     },
     "execution_count": 81,
     "metadata": {},
     "output_type": "execute_result"
    }
   ],
   "source": [
    "from sklearn.preprocessing import LabelEncoder,OneHotEncoder\n",
    "# Converting Genre and Name to labelencoding\n",
    "labelencoder = LabelEncoder()\n",
    "test_df['Genre'] = labelencoder.fit_transform(test_df['Genre'])\n",
    "test_df['Name'] = labelencoder.fit_transform(test_df['Name'])\n",
    "test_df.head()"
   ]
  },
  {
   "cell_type": "code",
   "execution_count": 82,
   "metadata": {},
   "outputs": [
    {
     "name": "stdout",
     "output_type": "stream",
     "text": [
      "       Name  Genre     Likes  Popularity\n",
      "0  0.437163   0.00  0.002525    0.000634\n",
      "1  0.542190   0.25  0.000343    0.001048\n",
      "2  0.210952   0.25  0.000180    0.000516\n",
      "3  0.314183   0.00  0.000180    0.000102\n",
      "4  0.047576   0.95  0.000037    0.000005\n"
     ]
    },
    {
     "name": "stderr",
     "output_type": "stream",
     "text": [
      "D:\\Applns\\Anaconda3\\lib\\site-packages\\sklearn\\preprocessing\\data.py:323: DataConversionWarning: Data with input dtype int32, float64 were all converted to float64 by MinMaxScaler.\n",
      "  return self.partial_fit(X, y)\n"
     ]
    }
   ],
   "source": [
    "#Standard scaling\n",
    "from sklearn.preprocessing import MinMaxScaler\n",
    "from sklearn.compose import ColumnTransformer\n",
    "sc_x = MinMaxScaler()\n",
    "ct = ColumnTransformer([\n",
    "         ('somename', MinMaxScaler(), ['Name','Genre','Likes', 'Popularity'])\n",
    "       ], remainder='passthrough')\n",
    "test_df = ct.fit_transform(test_df)\n",
    "test_df = pd.DataFrame(test_df,columns=['Name','Genre','Likes','Popularity'])\n",
    "print(test_df.head())"
   ]
  },
  {
   "cell_type": "code",
   "execution_count": 84,
   "metadata": {},
   "outputs": [],
   "source": [
    "# calculate the auc score\n",
    "y_pred_1 = xlf.predict(test_df)\n",
    "y_pred_1 = pd.DataFrame(y_pred_1)\n",
    "y_pred_1.to_csv('Data_Test_PredictedLabel_Encoder__MIn_max_Scaler_XGBoost_V_L_P.csv',sep='#')"
   ]
  },
  {
   "cell_type": "code",
   "execution_count": null,
   "metadata": {},
   "outputs": [],
   "source": []
  }
 ],
 "metadata": {
  "kernelspec": {
   "display_name": "Python 3",
   "language": "python",
   "name": "python3"
  },
  "language_info": {
   "codemirror_mode": {
    "name": "ipython",
    "version": 3
   },
   "file_extension": ".py",
   "mimetype": "text/x-python",
   "name": "python",
   "nbconvert_exporter": "python",
   "pygments_lexer": "ipython3",
   "version": "3.7.0"
  }
 },
 "nbformat": 4,
 "nbformat_minor": 2
}
